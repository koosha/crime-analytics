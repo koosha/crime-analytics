{
 "cells": [
  {
   "cell_type": "code",
   "execution_count": 1,
   "metadata": {
    "collapsed": true
   },
   "outputs": [],
   "source": [
    "import pandas as pd\n",
    "import seaborn as sns\n",
    "import numpy as np\n",
    "\n",
    "\n",
    "from sklearn import svm\n",
    "from sklearn import preprocessing\n",
    "from sklearn.multioutput import MultiOutputRegressor\n",
    "from sklearn.metrics import mean_squared_error\n",
    "from sklearn.model_selection import ShuffleSplit\n",
    "df = pd.read_csv('../merged_data/ready.csv')\n",
    "df = df.fillna(0)"
   ]
  },
  {
   "cell_type": "code",
   "execution_count": 2,
   "metadata": {
    "collapsed": true
   },
   "outputs": [],
   "source": [
    "df.columns\n",
    "df = df[['Canadian Citizen', 'No Response(Citizen)', 'Non-Canadian Citizen',\n",
    "       'Refugee', 'No Longer In Use', 'Occupied', 'Unoccupied',\n",
    "       'Employed 0-30 Hours', 'Employed 30+ Hours', 'Gr.10 - Gr.12',\n",
    "       'Gr.7 - Gr.9', 'Homemaker', 'Kindergarten - Gr.6',\n",
    "       'No Response(Employment)', 'Permanently Unable to Work',\n",
    "       'Post Secondary Student', 'Preschool', 'Retired', 'Unemployed',\n",
    "       'Common Law', 'Married', 'Never Married', 'No Response(Marital)',\n",
    "       'Separated/Divorced', 'Widowed', 'Bicycle',\n",
    "       'Car/Truck/Van (as Driver)', 'Car/Truck/Van (as Passenger)',\n",
    "       'No Response(Transportation)', 'Other', 'Public Transit', 'Walk',\n",
    "       'Catholic', 'No Response(School)', 'Public', 'Assault', 'Break and Enter', 'Homicide',\n",
    "       'Robbery', 'Sexual Assaults', 'Theft From Vehicle', 'Theft Of Vehicle',\n",
    "       'Theft Over $5000']]"
   ]
  },
  {
   "cell_type": "code",
   "execution_count": 3,
   "metadata": {
    "collapsed": true
   },
   "outputs": [],
   "source": [
    "def train_test_spliter(df, random_seed=0, test_size=0.20, n_splits=1):\n",
    "    # trainm = preprocessing.maxabs_scale(df, axis=0, copy=True)\n",
    "    col = df.columns\n",
    "    df1 = pd.DataFrame(data=df, columns=col)\n",
    "    rs = ShuffleSplit(n_splits=n_splits, test_size=test_size, random_state=random_seed)\n",
    "    for train_index, test_index in rs.split(df):\n",
    "        pass\n",
    "    traindf = pd.DataFrame(data=df, index=train_index)\n",
    "    testdf = pd.DataFrame(data=df, index=test_index)\n",
    "    return traindf, testdf\n",
    "\n",
    "\n",
    "traindf, testdf = train_test_spliter(df)\n",
    "\n",
    "X_train = pd.DataFrame(data=traindf, columns=['Canadian Citizen', 'No Response(Citizen)', 'Non-Canadian Citizen',\n",
    "       'Refugee', 'No Longer In Use', 'Occupied', 'Unoccupied',\n",
    "       'Employed 0-30 Hours', 'Employed 30+ Hours', 'Gr.10 - Gr.12',\n",
    "       'Gr.7 - Gr.9', 'Homemaker', 'Kindergarten - Gr.6',\n",
    "       'No Response(Employment)', 'Permanently Unable to Work',\n",
    "       'Post Secondary Student', 'Preschool', 'Retired', 'Unemployed',\n",
    "       'Common Law', 'Married', 'Never Married', 'No Response(Marital)',\n",
    "       'Separated/Divorced', 'Widowed', 'Bicycle',\n",
    "       'Car/Truck/Van (as Driver)', 'Car/Truck/Van (as Passenger)',\n",
    "       'No Response(Transportation)', 'Other', 'Public Transit', 'Walk',\n",
    "       'Catholic', 'No Response(School)', 'Public'])\n",
    "X_train = preprocessing.maxabs_scale(X_train, axis=0, copy=True)\n",
    "\n",
    "y_train = pd.DataFrame(data=traindf, columns=['Assault', 'Break and Enter', 'Homicide',\n",
    "       'Robbery', 'Sexual Assaults', 'Theft From Vehicle', 'Theft Of Vehicle',\n",
    "       'Theft Over $5000'])\n",
    "X_test = pd.DataFrame(data=testdf, columns=['Canadian Citizen', 'No Response(Citizen)', 'Non-Canadian Citizen',\n",
    "       'Refugee', 'No Longer In Use', 'Occupied', 'Unoccupied',\n",
    "       'Employed 0-30 Hours', 'Employed 30+ Hours', 'Gr.10 - Gr.12',\n",
    "       'Gr.7 - Gr.9', 'Homemaker', 'Kindergarten - Gr.6',\n",
    "       'No Response(Employment)', 'Permanently Unable to Work',\n",
    "       'Post Secondary Student', 'Preschool', 'Retired', 'Unemployed',\n",
    "       'Common Law', 'Married', 'Never Married', 'No Response(Marital)',\n",
    "       'Separated/Divorced', 'Widowed', 'Bicycle',\n",
    "       'Car/Truck/Van (as Driver)', 'Car/Truck/Van (as Passenger)',\n",
    "       'No Response(Transportation)', 'Other', 'Public Transit', 'Walk',\n",
    "       'Catholic', 'No Response(School)', 'Public'])\n",
    "X_test = preprocessing.maxabs_scale(X_test, axis=0, copy=True)\n",
    "\n",
    "y_test = pd.DataFrame(data=testdf, columns=['Assault', 'Break and Enter', 'Homicide',\n",
    "       'Robbery', 'Sexual Assaults', 'Theft From Vehicle', 'Theft Of Vehicle',\n",
    "       'Theft Over $5000'])"
   ]
  },
  {
   "cell_type": "code",
   "execution_count": 4,
   "metadata": {
    "collapsed": false
   },
   "outputs": [
    {
     "data": {
      "text/plain": [
       "array([[ 0.10034747,  0.10011743,  0.1       , ...,  0.10027212,\n",
       "         0.10004609,  0.1       ],\n",
       "       [ 0.51076109,  0.33700983,  0.1       , ...,  1.00801105,\n",
       "         0.37065477,  0.1       ],\n",
       "       [ 0.10034747,  0.10011743,  0.1       , ...,  0.10027212,\n",
       "         0.10004609,  0.1       ],\n",
       "       ..., \n",
       "       [ 0.96248608,  0.63975141,  0.1       , ...,  1.18383043,\n",
       "         0.57190743,  0.1       ],\n",
       "       [ 1.88862915,  1.48145783,  0.1       , ...,  2.32506617,\n",
       "         1.14044364,  0.1       ],\n",
       "       [ 1.19553472,  0.60215274,  0.1       , ...,  1.10940985,\n",
       "         0.59446737,  0.1       ]])"
      ]
     },
     "execution_count": 4,
     "metadata": {},
     "output_type": "execute_result"
    }
   ],
   "source": [
    "svm.SVR()\n",
    "# Random forest with multioutput regressor\n",
    "regr_multisvr = MultiOutputRegressor(svm.SVR())\n",
    "regr_multisvr.fit(X_train, y_train.values)\n",
    "svr_result = regr_multisvr.predict(X_test)\n",
    "svr_result_train = regr_multisvr.predict(X_train)\n",
    "svr_result"
   ]
  },
  {
   "cell_type": "code",
   "execution_count": 5,
   "metadata": {
    "collapsed": true
   },
   "outputs": [],
   "source": [
    "crimes = ['Assault', 'Break and Enter', 'Homicide', 'Robbery', 'Sexual Assaults',\n",
    "       'Theft From Vehicle', 'Theft Of Vehicle', 'Theft Over $5000']"
   ]
  },
  {
   "cell_type": "code",
   "execution_count": 6,
   "metadata": {
    "collapsed": false
   },
   "outputs": [
    {
     "data": {
      "text/plain": [
       "[[1.9704518353266569, 'Assault', 'Test: Single target SVR'],\n",
       " [1.3963277373499654, 'Break and Enter', 'Test: Single target SVR'],\n",
       " [0.11609591237233299, 'Homicide', 'Test: Single target SVR'],\n",
       " [0.58602606365746224, 'Robbery', 'Test: Single target SVR'],\n",
       " [0.4624112189746426, 'Sexual Assaults', 'Test: Single target SVR'],\n",
       " [2.05279819912238, 'Theft From Vehicle', 'Test: Single target SVR'],\n",
       " [1.1462901944315536, 'Theft Of Vehicle', 'Test: Single target SVR'],\n",
       " [0.28181605677304766, 'Theft Over $5000', 'Test: Single target SVR']]"
      ]
     },
     "execution_count": 6,
     "metadata": {},
     "output_type": "execute_result"
    }
   ],
   "source": [
    "result1 = []\n",
    "result1_train = []\n",
    "for i in range(len(crimes)):\n",
    "    result1.append([np.sqrt(mean_squared_error(y_test[crimes[i]], svr_result[:,i])), crimes[i], 'Test: Single target SVR'])\n",
    "    result1_train.append([np.sqrt(mean_squared_error(y_train[crimes[i]], svr_result_train[:,i])), crimes[i], 'Train: Single target SVR'])\n",
    "result1"
   ]
  },
  {
   "cell_type": "code",
   "execution_count": 7,
   "metadata": {
    "collapsed": false
   },
   "outputs": [
    {
     "data": {
      "text/plain": [
       "[1.9704518353266569,\n",
       " 1.3963277373499654,\n",
       " 0.11609591237233299,\n",
       " 0.58602606365746224,\n",
       " 0.4624112189746426,\n",
       " 2.05279819912238,\n",
       " 1.1462901944315536,\n",
       " 0.28181605677304766]"
      ]
     },
     "execution_count": 7,
     "metadata": {},
     "output_type": "execute_result"
    }
   ],
   "source": [
    "final = [x[0] for x in result1]\n",
    "final"
   ]
  },
  {
   "cell_type": "code",
   "execution_count": 8,
   "metadata": {
    "collapsed": false
   },
   "outputs": [
    {
     "data": {
      "text/plain": [
       "[2.0738392488996134,\n",
       " 1.4611308881498328,\n",
       " 0.11818371844017735,\n",
       " 0.61194026421983405,\n",
       " 0.44363399109128299,\n",
       " 1.9877347123075662,\n",
       " 1.1989440573112444,\n",
       " 0.30255554047556144]"
      ]
     },
     "execution_count": 8,
     "metadata": {},
     "output_type": "execute_result"
    }
   ],
   "source": [
    "final_train = [x[0] for x in result1_train]\n",
    "final_train"
   ]
  },
  {
   "cell_type": "code",
   "execution_count": null,
   "metadata": {
    "collapsed": true
   },
   "outputs": [],
   "source": []
  }
 ],
 "metadata": {
  "anaconda-cloud": {},
  "kernelspec": {
   "display_name": "Python [conda root]",
   "language": "python",
   "name": "conda-root-py"
  },
  "language_info": {
   "codemirror_mode": {
    "name": "ipython",
    "version": 3
   },
   "file_extension": ".py",
   "mimetype": "text/x-python",
   "name": "python",
   "nbconvert_exporter": "python",
   "pygments_lexer": "ipython3",
   "version": "3.5.2"
  }
 },
 "nbformat": 4,
 "nbformat_minor": 1
}
