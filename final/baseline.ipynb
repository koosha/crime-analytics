{
 "cells": [
  {
   "cell_type": "code",
   "execution_count": 1,
   "metadata": {
    "collapsed": true
   },
   "outputs": [],
   "source": [
    "import pandas as pd\n",
    "import seaborn as sns\n",
    "import numpy as np\n",
    "\n",
    "from tabulate import tabulate\n",
    "\n",
    "from sklearn import linear_model, svm, tree\n",
    "from sklearn import preprocessing\n",
    "from sklearn.metrics import mean_squared_error\n",
    "from sklearn.model_selection import ShuffleSplit\n",
    "from sklearn.ensemble import RandomForestRegressor, GradientBoostingRegressor\n",
    "from sklearn.neural_network import MLPRegressor"
   ]
  },
  {
   "cell_type": "code",
   "execution_count": 2,
   "metadata": {
    "collapsed": true
   },
   "outputs": [],
   "source": [
    "df = pd.read_csv('../merged_data/ready.csv')\n",
    "df = df.fillna(0)"
   ]
  },
  {
   "cell_type": "code",
   "execution_count": 3,
   "metadata": {
    "collapsed": false
   },
   "outputs": [],
   "source": [
    "df.columns\n",
    "df = df[['Canadian Citizen', 'No Response(Citizen)', 'Non-Canadian Citizen',\n",
    "       'Refugee', 'No Longer In Use', 'Occupied', 'Unoccupied',\n",
    "       'Employed 0-30 Hours', 'Employed 30+ Hours', 'Gr.10 - Gr.12',\n",
    "       'Gr.7 - Gr.9', 'Homemaker', 'Kindergarten - Gr.6',\n",
    "       'No Response(Employment)', 'Permanently Unable to Work',\n",
    "       'Post Secondary Student', 'Preschool', 'Retired', 'Unemployed',\n",
    "       'Common Law', 'Married', 'Never Married', 'No Response(Marital)',\n",
    "       'Separated/Divorced', 'Widowed', 'Bicycle',\n",
    "       'Car/Truck/Van (as Driver)', 'Car/Truck/Van (as Passenger)',\n",
    "       'No Response(Transportation)', 'Other', 'Public Transit', 'Walk',\n",
    "       'Catholic', 'No Response(School)', 'Public', 'Assault', 'Break and Enter', 'Homicide',\n",
    "       'Robbery', 'Sexual Assaults', 'Theft From Vehicle', 'Theft Of Vehicle',\n",
    "       'Theft Over $5000']]"
   ]
  },
  {
   "cell_type": "code",
   "execution_count": 4,
   "metadata": {
    "collapsed": false
   },
   "outputs": [],
   "source": [
    "def train_test_spliter(df, random_seed=0, test_size=0.20, n_splits=1):\n",
    "    trainm = preprocessing.maxabs_scale(df, axis=0, copy=True)\n",
    "    col = df.columns\n",
    "    df1 = pd.DataFrame(data=trainm, columns=col)\n",
    "    rs = ShuffleSplit(n_splits=n_splits, test_size=test_size, random_state=random_seed)\n",
    "    for train_index, test_index in rs.split(df):\n",
    "        pass\n",
    "    traindf = pd.DataFrame(data=df, index=train_index)\n",
    "    testdf = pd.DataFrame(data=df, index=test_index)\n",
    "    return traindf, testdf\n",
    "\n",
    "\n",
    "traindf, testdf = train_test_spliter(df)\n",
    "\n",
    "X_train = pd.DataFrame(data=traindf, columns=['Canadian Citizen', 'No Response(Citizen)', 'Non-Canadian Citizen',\n",
    "       'Refugee', 'No Longer In Use', 'Occupied', 'Unoccupied',\n",
    "       'Employed 0-30 Hours', 'Employed 30+ Hours', 'Gr.10 - Gr.12',\n",
    "       'Gr.7 - Gr.9', 'Homemaker', 'Kindergarten - Gr.6',\n",
    "       'No Response(Employment)', 'Permanently Unable to Work',\n",
    "       'Post Secondary Student', 'Preschool', 'Retired', 'Unemployed',\n",
    "       'Common Law', 'Married', 'Never Married', 'No Response(Marital)',\n",
    "       'Separated/Divorced', 'Widowed', 'Bicycle',\n",
    "       'Car/Truck/Van (as Driver)', 'Car/Truck/Van (as Passenger)',\n",
    "       'No Response(Transportation)', 'Other', 'Public Transit', 'Walk',\n",
    "       'Catholic', 'No Response(School)', 'Public'])\n",
    "y_train = pd.DataFrame(data=traindf, columns=['Assault', 'Break and Enter', 'Homicide',\n",
    "       'Robbery', 'Sexual Assaults', 'Theft From Vehicle', 'Theft Of Vehicle',\n",
    "       'Theft Over $5000'])\n",
    "X_test = pd.DataFrame(data=testdf, columns=['Canadian Citizen', 'No Response(Citizen)', 'Non-Canadian Citizen',\n",
    "       'Refugee', 'No Longer In Use', 'Occupied', 'Unoccupied',\n",
    "       'Employed 0-30 Hours', 'Employed 30+ Hours', 'Gr.10 - Gr.12',\n",
    "       'Gr.7 - Gr.9', 'Homemaker', 'Kindergarten - Gr.6',\n",
    "       'No Response(Employment)', 'Permanently Unable to Work',\n",
    "       'Post Secondary Student', 'Preschool', 'Retired', 'Unemployed',\n",
    "       'Common Law', 'Married', 'Never Married', 'No Response(Marital)',\n",
    "       'Separated/Divorced', 'Widowed', 'Bicycle',\n",
    "       'Car/Truck/Van (as Driver)', 'Car/Truck/Van (as Passenger)',\n",
    "       'No Response(Transportation)', 'Other', 'Public Transit', 'Walk',\n",
    "       'Catholic', 'No Response(School)', 'Public'])\n",
    "y_test = pd.DataFrame(data=testdf, columns=['Assault', 'Break and Enter', 'Homicide',\n",
    "       'Robbery', 'Sexual Assaults', 'Theft From Vehicle', 'Theft Of Vehicle',\n",
    "       'Theft Over $5000'])"
   ]
  },
  {
   "cell_type": "code",
   "execution_count": 5,
   "metadata": {
    "collapsed": true
   },
   "outputs": [],
   "source": [
    "def apply_method(X_train, y_train, X_test, y_test, method, regressor, crime_type):\n",
    "    reg = regressor()\n",
    "    reg.fit(X_train, y_train[crime_type])\n",
    "    pred = reg.predict(X_test)\n",
    "    result = mean_squared_error(y_test[crime_type], pred)\n",
    "    return method, crime_type, result"
   ]
  },
  {
   "cell_type": "code",
   "execution_count": 6,
   "metadata": {
    "collapsed": false
   },
   "outputs": [],
   "source": [
    "methods = {'Linear Regression': linear_model.LinearRegression, \n",
    "           'Support Vector Regression': svm.SVR, \n",
    "           'Regression Tree': tree.DecisionTreeRegressor, \n",
    "           'Random Forest': RandomForestRegressor, \n",
    "           'Gradient Boosting': GradientBoostingRegressor, \n",
    "           'Neural Network Multi-layer Perceptron': MLPRegressor}\n",
    "c_type = ['Assault', 'Break and Enter', 'Homicide', 'Robbery', 'Sexual Assaults', \n",
    "          'Theft From Vehicle', 'Theft Of Vehicle', 'Theft Over $5000']\n",
    "\n",
    "result = []\n",
    "for ct in c_type:\n",
    "    for name in methods:\n",
    "        result.append(apply_method(X_train, y_train, X_test, y_test, name, methods[name], ct))"
   ]
  },
  {
   "cell_type": "code",
   "execution_count": 7,
   "metadata": {
    "collapsed": false
   },
   "outputs": [
    {
     "name": "stdout",
     "output_type": "stream",
     "text": [
      "Method                                 Crime Type                Error\n",
      "-------------------------------------  ------------------  -----------\n",
      "Neural Network Multi-layer Perceptron  Assault             20.3441\n",
      "Linear Regression                      Assault              2.86723\n",
      "Support Vector Regression              Assault              2.533\n",
      "Random Forest                          Assault              1.86371\n",
      "Regression Tree                        Assault              1.86471\n",
      "Gradient Boosting                      Assault              1.91863\n",
      "Neural Network Multi-layer Perceptron  Break and Enter     15.316\n",
      "Linear Regression                      Break and Enter      1.79165\n",
      "Support Vector Regression              Break and Enter      1.88209\n",
      "Random Forest                          Break and Enter      1.74259\n",
      "Regression Tree                        Break and Enter      1.73619\n",
      "Gradient Boosting                      Break and Enter      1.70911\n",
      "Neural Network Multi-layer Perceptron  Homicide            40.1624\n",
      "Linear Regression                      Homicide             0.00436605\n",
      "Support Vector Regression              Homicide             0.0134783\n",
      "Random Forest                          Homicide             0.00470008\n",
      "Regression Tree                        Homicide             0.00465814\n",
      "Gradient Boosting                      Homicide             0.0045465\n",
      "Neural Network Multi-layer Perceptron  Robbery             18.2792\n",
      "Linear Regression                      Robbery              0.292793\n",
      "Support Vector Regression              Robbery              0.279192\n",
      "Random Forest                          Robbery              0.258125\n",
      "Regression Tree                        Robbery              0.258927\n",
      "Gradient Boosting                      Robbery              0.256343\n",
      "Neural Network Multi-layer Perceptron  Sexual Assaults     28.3634\n",
      "Linear Regression                      Sexual Assaults      0.186072\n",
      "Support Vector Regression              Sexual Assaults      0.205251\n",
      "Random Forest                          Sexual Assaults      0.190068\n",
      "Regression Tree                        Sexual Assaults      0.189173\n",
      "Gradient Boosting                      Sexual Assaults      0.184523\n",
      "Neural Network Multi-layer Perceptron  Theft From Vehicle  20.1938\n",
      "Linear Regression                      Theft From Vehicle   3.81702\n",
      "Support Vector Regression              Theft From Vehicle   3.98326\n",
      "Random Forest                          Theft From Vehicle   3.46613\n",
      "Regression Tree                        Theft From Vehicle   3.44172\n",
      "Gradient Boosting                      Theft From Vehicle   3.44221\n",
      "Neural Network Multi-layer Perceptron  Theft Of Vehicle    15.8515\n",
      "Linear Regression                      Theft Of Vehicle     1.22198\n",
      "Support Vector Regression              Theft Of Vehicle     1.28828\n",
      "Random Forest                          Theft Of Vehicle     1.20094\n",
      "Regression Tree                        Theft Of Vehicle     1.18613\n",
      "Gradient Boosting                      Theft Of Vehicle     1.16657\n",
      "Neural Network Multi-layer Perceptron  Theft Over $5000    41.0783\n",
      "Linear Regression                      Theft Over $5000     0.0766848\n",
      "Support Vector Regression              Theft Over $5000     0.0794203\n",
      "Random Forest                          Theft Over $5000     0.0782676\n",
      "Regression Tree                        Theft Over $5000     0.0776786\n",
      "Gradient Boosting                      Theft Over $5000     0.0759815\n"
     ]
    }
   ],
   "source": [
    "print(tabulate(result, headers=['Method', 'Crime Type', 'Error']))"
   ]
  },
  {
   "cell_type": "code",
   "execution_count": null,
   "metadata": {
    "collapsed": true
   },
   "outputs": [],
   "source": []
  }
 ],
 "metadata": {
  "anaconda-cloud": {},
  "kernelspec": {
   "display_name": "Python [conda root]",
   "language": "python",
   "name": "conda-root-py"
  },
  "language_info": {
   "codemirror_mode": {
    "name": "ipython",
    "version": 3
   },
   "file_extension": ".py",
   "mimetype": "text/x-python",
   "name": "python",
   "nbconvert_exporter": "python",
   "pygments_lexer": "ipython3",
   "version": "3.5.2"
  }
 },
 "nbformat": 4,
 "nbformat_minor": 1
}
