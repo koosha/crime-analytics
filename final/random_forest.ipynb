{
 "cells": [
  {
   "cell_type": "code",
   "execution_count": 1,
   "metadata": {
    "collapsed": true
   },
   "outputs": [],
   "source": [
    "import pandas as pd\n",
    "import seaborn as sns\n",
    "import numpy as np\n",
    "\n",
    "from tabulate import tabulate\n",
    "\n",
    "from sklearn import linear_model, svm, tree\n",
    "from sklearn import preprocessing\n",
    "from sklearn.metrics import mean_squared_error\n",
    "from sklearn.model_selection import ShuffleSplit\n",
    "from sklearn.ensemble import RandomForestRegressor, GradientBoostingRegressor\n",
    "from sklearn.neural_network import MLPRegressor\n",
    "from sklearn.multioutput import MultiOutputRegressor"
   ]
  },
  {
   "cell_type": "code",
   "execution_count": 2,
   "metadata": {
    "collapsed": true
   },
   "outputs": [],
   "source": [
    "df = pd.read_csv('../merged_data/ready.csv')\n",
    "df = df.fillna(0)"
   ]
  },
  {
   "cell_type": "code",
   "execution_count": 3,
   "metadata": {
    "collapsed": true
   },
   "outputs": [],
   "source": [
    "df.columns\n",
    "df = df[['Canadian Citizen', 'No Response(Citizen)', 'Non-Canadian Citizen',\n",
    "       'Refugee', 'No Longer In Use', 'Occupied', 'Unoccupied',\n",
    "       'Employed 0-30 Hours', 'Employed 30+ Hours', 'Gr.10 - Gr.12',\n",
    "       'Gr.7 - Gr.9', 'Homemaker', 'Kindergarten - Gr.6',\n",
    "       'No Response(Employment)', 'Permanently Unable to Work',\n",
    "       'Post Secondary Student', 'Preschool', 'Retired', 'Unemployed',\n",
    "       'Common Law', 'Married', 'Never Married', 'No Response(Marital)',\n",
    "       'Separated/Divorced', 'Widowed', 'Bicycle',\n",
    "       'Car/Truck/Van (as Driver)', 'Car/Truck/Van (as Passenger)',\n",
    "       'No Response(Transportation)', 'Other', 'Public Transit', 'Walk',\n",
    "       'Catholic', 'No Response(School)', 'Public', 'Assault', 'Break and Enter', 'Homicide',\n",
    "       'Robbery', 'Sexual Assaults', 'Theft From Vehicle', 'Theft Of Vehicle',\n",
    "       'Theft Over $5000']]"
   ]
  },
  {
   "cell_type": "code",
   "execution_count": 4,
   "metadata": {
    "collapsed": true
   },
   "outputs": [],
   "source": [
    "def train_test_spliter(df, random_seed=0, test_size=0.20, n_splits=1):\n",
    "    # trainm = preprocessing.maxabs_scale(df, axis=0, copy=True)\n",
    "    col = df.columns\n",
    "    df1 = pd.DataFrame(data=df, columns=col)\n",
    "    rs = ShuffleSplit(n_splits=n_splits, test_size=test_size, random_state=random_seed)\n",
    "    for train_index, test_index in rs.split(df):\n",
    "        pass\n",
    "    traindf = pd.DataFrame(data=df, index=train_index)\n",
    "    testdf = pd.DataFrame(data=df, index=test_index)\n",
    "    return traindf, testdf\n",
    "\n",
    "\n",
    "traindf, testdf = train_test_spliter(df)\n",
    "\n",
    "X_train = pd.DataFrame(data=traindf, columns=['Canadian Citizen', 'No Response(Citizen)', 'Non-Canadian Citizen',\n",
    "       'Refugee', 'No Longer In Use', 'Occupied', 'Unoccupied',\n",
    "       'Employed 0-30 Hours', 'Employed 30+ Hours', 'Gr.10 - Gr.12',\n",
    "       'Gr.7 - Gr.9', 'Homemaker', 'Kindergarten - Gr.6',\n",
    "       'No Response(Employment)', 'Permanently Unable to Work',\n",
    "       'Post Secondary Student', 'Preschool', 'Retired', 'Unemployed',\n",
    "       'Common Law', 'Married', 'Never Married', 'No Response(Marital)',\n",
    "       'Separated/Divorced', 'Widowed', 'Bicycle',\n",
    "       'Car/Truck/Van (as Driver)', 'Car/Truck/Van (as Passenger)',\n",
    "       'No Response(Transportation)', 'Other', 'Public Transit', 'Walk',\n",
    "       'Catholic', 'No Response(School)', 'Public'])\n",
    "X_train = preprocessing.maxabs_scale(X_train, axis=0, copy=True)\n",
    "\n",
    "y_train = pd.DataFrame(data=traindf, columns=['Assault', 'Break and Enter', 'Homicide',\n",
    "       'Robbery', 'Sexual Assaults', 'Theft From Vehicle', 'Theft Of Vehicle',\n",
    "       'Theft Over $5000'])\n",
    "X_test = pd.DataFrame(data=testdf, columns=['Canadian Citizen', 'No Response(Citizen)', 'Non-Canadian Citizen',\n",
    "       'Refugee', 'No Longer In Use', 'Occupied', 'Unoccupied',\n",
    "       'Employed 0-30 Hours', 'Employed 30+ Hours', 'Gr.10 - Gr.12',\n",
    "       'Gr.7 - Gr.9', 'Homemaker', 'Kindergarten - Gr.6',\n",
    "       'No Response(Employment)', 'Permanently Unable to Work',\n",
    "       'Post Secondary Student', 'Preschool', 'Retired', 'Unemployed',\n",
    "       'Common Law', 'Married', 'Never Married', 'No Response(Marital)',\n",
    "       'Separated/Divorced', 'Widowed', 'Bicycle',\n",
    "       'Car/Truck/Van (as Driver)', 'Car/Truck/Van (as Passenger)',\n",
    "       'No Response(Transportation)', 'Other', 'Public Transit', 'Walk',\n",
    "       'Catholic', 'No Response(School)', 'Public'])\n",
    "X_test = preprocessing.maxabs_scale(X_test, axis=0, copy=True)\n",
    "\n",
    "y_test = pd.DataFrame(data=testdf, columns=['Assault', 'Break and Enter', 'Homicide',\n",
    "       'Robbery', 'Sexual Assaults', 'Theft From Vehicle', 'Theft Of Vehicle',\n",
    "       'Theft Over $5000'])"
   ]
  },
  {
   "cell_type": "code",
   "execution_count": 5,
   "metadata": {
    "collapsed": false
   },
   "outputs": [
    {
     "data": {
      "text/plain": [
       "array([[  2.75972493e-01,   3.63248189e-01,   6.04786389e-04, ...,\n",
       "          5.19153888e-01,   2.99171625e-01,   6.51274750e-02],\n",
       "       [  8.75780264e-01,   5.71679490e-01,   8.81496964e-04, ...,\n",
       "          1.34451825e+00,   6.68084623e-01,   2.46806914e-02],\n",
       "       [  2.75972493e-01,   3.63248189e-01,   6.04786389e-04, ...,\n",
       "          5.19153888e-01,   2.99171625e-01,   6.51274750e-02],\n",
       "       ..., \n",
       "       [  2.45088560e+00,   1.33445664e+00,   8.61866085e-03, ...,\n",
       "          2.16530139e+00,   1.11014401e+00,   7.27190480e-02],\n",
       "       [  1.44842898e+00,   1.78036178e+00,   1.63637896e-02, ...,\n",
       "          2.42116587e+00,   1.44029417e+00,   6.05693583e-02],\n",
       "       [  2.55351978e+00,   1.21376702e+00,   7.36240344e-03, ...,\n",
       "          1.78493302e+00,   1.08432143e+00,   3.03916923e-02]])"
      ]
     },
     "execution_count": 5,
     "metadata": {},
     "output_type": "execute_result"
    }
   ],
   "source": [
    "reg = linear_model.LinearRegression()\n",
    "reg.fit(X_train, y_train)\n",
    "linear_result = reg.predict(X_test)\n",
    "linear_result"
   ]
  },
  {
   "cell_type": "code",
   "execution_count": 6,
   "metadata": {
    "collapsed": false
   },
   "outputs": [
    {
     "data": {
      "text/plain": [
       "array([[  2.38299912e-01,   4.22340693e-01,   7.43289206e-04, ...,\n",
       "          6.01756912e-01,   3.70631341e-01,   7.43517491e-02],\n",
       "       [  6.43424320e-01,   6.04844309e-01,   0.00000000e+00, ...,\n",
       "          1.29759148e+00,   1.18874603e-01,   6.63540843e-02],\n",
       "       [  2.38299912e-01,   4.22340693e-01,   7.43289206e-04, ...,\n",
       "          6.01756912e-01,   3.70631341e-01,   7.43517491e-02],\n",
       "       ..., \n",
       "       [  9.80072183e-01,   5.23478776e-01,   0.00000000e+00, ...,\n",
       "          1.67352726e+00,   1.11632191e+00,   0.00000000e+00],\n",
       "       [  8.83127706e-01,   7.44898565e-01,   0.00000000e+00, ...,\n",
       "          1.31312452e+00,   1.26709617e+00,   3.50222816e-02],\n",
       "       [  1.21934278e+00,   6.64552857e-01,   0.00000000e+00, ...,\n",
       "          1.31954768e+00,   1.55810841e-01,   7.00220423e-02]])"
      ]
     },
     "execution_count": 6,
     "metadata": {},
     "output_type": "execute_result"
    }
   ],
   "source": [
    "max_depth = 30\n",
    "\n",
    "# Random forest with multioutput regressor\n",
    "regr_multirf = MultiOutputRegressor(RandomForestRegressor(max_depth=max_depth,\n",
    "                                                          random_state=0))\n",
    "regr_multirf.fit(X_train, y_train)\n",
    "mo_rf_result = regr_multirf.predict(X_test)\n",
    "mo_rf_result"
   ]
  },
  {
   "cell_type": "code",
   "execution_count": 7,
   "metadata": {
    "collapsed": false
   },
   "outputs": [
    {
     "data": {
      "text/plain": [
       "array([[  2.41442322e-01,   4.21503476e-01,   7.58254153e-04, ...,\n",
       "          6.00259988e-01,   3.72760487e-01,   7.39819741e-02],\n",
       "       [  6.60340933e-01,   5.57940072e-01,   0.00000000e+00, ...,\n",
       "          1.10763895e+00,   1.54429687e-01,   1.16819377e-01],\n",
       "       [  2.41442322e-01,   4.21503476e-01,   7.58254153e-04, ...,\n",
       "          6.00259988e-01,   3.72760487e-01,   7.39819741e-02],\n",
       "       ..., \n",
       "       [  1.18897422e+00,   5.84820686e-01,   0.00000000e+00, ...,\n",
       "          1.49640430e+00,   1.07140355e+00,   0.00000000e+00],\n",
       "       [  9.62448107e-01,   7.97034493e-01,   0.00000000e+00, ...,\n",
       "          1.13186508e+00,   1.31536477e+00,   3.80097680e-02],\n",
       "       [  1.68639196e+00,   7.12649739e-01,   0.00000000e+00, ...,\n",
       "          1.12166338e+00,   1.50475302e-01,   3.78006880e-02]])"
      ]
     },
     "execution_count": 7,
     "metadata": {},
     "output_type": "execute_result"
    }
   ],
   "source": [
    "# Just random forest\n",
    "regr_rf = RandomForestRegressor(max_depth=max_depth, random_state=2)\n",
    "regr_rf.fit(X_train, y_train)\n",
    "y_rf = regr_rf.predict(X_test)\n",
    "y_rf"
   ]
  },
  {
   "cell_type": "code",
   "execution_count": 8,
   "metadata": {
    "collapsed": false
   },
   "outputs": [],
   "source": [
    "crimes = ['Assault', 'Break and Enter', 'Homicide', 'Robbery', 'Sexual Assaults',\n",
    "       'Theft From Vehicle', 'Theft Of Vehicle', 'Theft Over $5000']"
   ]
  },
  {
   "cell_type": "code",
   "execution_count": 9,
   "metadata": {
    "collapsed": false
   },
   "outputs": [
    {
     "data": {
      "text/plain": [
       "[[1.6931604960752744, 'Assault', 'Linear Regression'],\n",
       " [1.3384826875062119, 'Break and Enter', 'Linear Regression'],\n",
       " [0.06607571655220576, 'Homicide', 'Linear Regression'],\n",
       " [0.54111440161810143, 'Robbery', 'Linear Regression'],\n",
       " [0.43139676138785576, 'Sexual Assaults', 'Linear Regression'],\n",
       " [1.9536388941698706, 'Theft From Vehicle', 'Linear Regression'],\n",
       " [1.1055175972417137, 'Theft Of Vehicle', 'Linear Regression'],\n",
       " [0.27690759204934789, 'Theft Over $5000', 'Linear Regression']]"
      ]
     },
     "execution_count": 9,
     "metadata": {},
     "output_type": "execute_result"
    }
   ],
   "source": [
    "result1 = []\n",
    "for i in range(len(crimes)):\n",
    "    result1.append([np.sqrt(mean_squared_error(y_test[crimes[i]], linear_result[:,i])), crimes[i], 'Linear Regression'])\n",
    "    \n",
    "result1"
   ]
  },
  {
   "cell_type": "code",
   "execution_count": 10,
   "metadata": {
    "collapsed": false
   },
   "outputs": [
    {
     "data": {
      "text/plain": [
       "[[1.3750695312113566, 'Assault', 'Multi Random Forest'],\n",
       " [1.3218228413417059, 'Break and Enter', 'Multi Random Forest'],\n",
       " [0.068569793875729257, 'Homicide', 'Multi Random Forest'],\n",
       " [0.51176069204282626, 'Robbery', 'Multi Random Forest'],\n",
       " [0.43615848699521853, 'Sexual Assaults', 'Multi Random Forest'],\n",
       " [1.867185107457938, 'Theft From Vehicle', 'Multi Random Forest'],\n",
       " [1.0949743872334345, 'Theft Of Vehicle', 'Multi Random Forest'],\n",
       " [0.28117286233197142, 'Theft Over $5000', 'Multi Random Forest']]"
      ]
     },
     "execution_count": 10,
     "metadata": {},
     "output_type": "execute_result"
    }
   ],
   "source": [
    "result2 = []\n",
    "for i in range(len(crimes)):\n",
    "    result2.append([np.sqrt(mean_squared_error(y_test[crimes[i]], mo_rf_result[:,i])), crimes[i], 'Multi Random Forest'])\n",
    "\n",
    "result2"
   ]
  },
  {
   "cell_type": "code",
   "execution_count": 11,
   "metadata": {
    "collapsed": false
   },
   "outputs": [
    {
     "data": {
      "text/plain": [
       "[[1.3750695312113566, 'Assault', 'Multi Random Forest'],\n",
       " [1.3218228413417059, 'Break and Enter', 'Multi Random Forest'],\n",
       " [0.068569793875729257, 'Homicide', 'Multi Random Forest'],\n",
       " [0.51176069204282626, 'Robbery', 'Multi Random Forest'],\n",
       " [0.43615848699521853, 'Sexual Assaults', 'Multi Random Forest'],\n",
       " [1.867185107457938, 'Theft From Vehicle', 'Multi Random Forest'],\n",
       " [1.0949743872334345, 'Theft Of Vehicle', 'Multi Random Forest'],\n",
       " [0.28117286233197142, 'Theft Over $5000', 'Multi Random Forest']]"
      ]
     },
     "execution_count": 11,
     "metadata": {},
     "output_type": "execute_result"
    }
   ],
   "source": [
    "result3 = []\n",
    "for i in range(len(crimes)):\n",
    "    result3.append([np.sqrt(mean_squared_error(y_test[crimes[i]], mo_rf_result[:,i])), crimes[i], 'Multi Random Forest'])\n",
    "    \n",
    "result3"
   ]
  },
  {
   "cell_type": "code",
   "execution_count": 12,
   "metadata": {
    "collapsed": false
   },
   "outputs": [
    {
     "data": {
      "text/plain": [
       "[[1.3750695312113566, 'Assault', 'Multi Random Forest'],\n",
       " [1.3218228413417059, 'Break and Enter', 'Multi Random Forest'],\n",
       " [0.068569793875729257, 'Homicide', 'Multi Random Forest'],\n",
       " [0.51176069204282626, 'Robbery', 'Multi Random Forest'],\n",
       " [0.43615848699521853, 'Sexual Assaults', 'Multi Random Forest'],\n",
       " [1.867185107457938, 'Theft From Vehicle', 'Multi Random Forest'],\n",
       " [1.0949743872334345, 'Theft Of Vehicle', 'Multi Random Forest'],\n",
       " [0.28117286233197142, 'Theft Over $5000', 'Multi Random Forest'],\n",
       " [1.3750695312113566, 'Assault', 'Multi Random Forest'],\n",
       " [1.3218228413417059, 'Break and Enter', 'Multi Random Forest'],\n",
       " [0.068569793875729257, 'Homicide', 'Multi Random Forest'],\n",
       " [0.51176069204282626, 'Robbery', 'Multi Random Forest'],\n",
       " [0.43615848699521853, 'Sexual Assaults', 'Multi Random Forest'],\n",
       " [1.867185107457938, 'Theft From Vehicle', 'Multi Random Forest'],\n",
       " [1.0949743872334345, 'Theft Of Vehicle', 'Multi Random Forest'],\n",
       " [0.28117286233197142, 'Theft Over $5000', 'Multi Random Forest']]"
      ]
     },
     "execution_count": 12,
     "metadata": {},
     "output_type": "execute_result"
    }
   ],
   "source": [
    "result2.extend(result3)\n",
    "# result1.extend(result3)\n",
    "result2"
   ]
  },
  {
   "cell_type": "code",
   "execution_count": 13,
   "metadata": {
    "collapsed": false
   },
   "outputs": [
    {
     "data": {
      "text/html": [
       "<div>\n",
       "<table border=\"1\" class=\"dataframe\">\n",
       "  <thead>\n",
       "    <tr style=\"text-align: right;\">\n",
       "      <th></th>\n",
       "      <th>RMSE</th>\n",
       "      <th>Crime Type</th>\n",
       "      <th>Method</th>\n",
       "    </tr>\n",
       "  </thead>\n",
       "  <tbody>\n",
       "    <tr>\n",
       "      <th>0</th>\n",
       "      <td>1.375070</td>\n",
       "      <td>Assault</td>\n",
       "      <td>Multi Random Forest</td>\n",
       "    </tr>\n",
       "    <tr>\n",
       "      <th>1</th>\n",
       "      <td>1.321823</td>\n",
       "      <td>Break and Enter</td>\n",
       "      <td>Multi Random Forest</td>\n",
       "    </tr>\n",
       "    <tr>\n",
       "      <th>2</th>\n",
       "      <td>0.068570</td>\n",
       "      <td>Homicide</td>\n",
       "      <td>Multi Random Forest</td>\n",
       "    </tr>\n",
       "    <tr>\n",
       "      <th>3</th>\n",
       "      <td>0.511761</td>\n",
       "      <td>Robbery</td>\n",
       "      <td>Multi Random Forest</td>\n",
       "    </tr>\n",
       "    <tr>\n",
       "      <th>4</th>\n",
       "      <td>0.436158</td>\n",
       "      <td>Sexual Assaults</td>\n",
       "      <td>Multi Random Forest</td>\n",
       "    </tr>\n",
       "    <tr>\n",
       "      <th>5</th>\n",
       "      <td>1.867185</td>\n",
       "      <td>Theft From Vehicle</td>\n",
       "      <td>Multi Random Forest</td>\n",
       "    </tr>\n",
       "    <tr>\n",
       "      <th>6</th>\n",
       "      <td>1.094974</td>\n",
       "      <td>Theft Of Vehicle</td>\n",
       "      <td>Multi Random Forest</td>\n",
       "    </tr>\n",
       "    <tr>\n",
       "      <th>7</th>\n",
       "      <td>0.281173</td>\n",
       "      <td>Theft Over $5000</td>\n",
       "      <td>Multi Random Forest</td>\n",
       "    </tr>\n",
       "    <tr>\n",
       "      <th>8</th>\n",
       "      <td>1.375070</td>\n",
       "      <td>Assault</td>\n",
       "      <td>Multi Random Forest</td>\n",
       "    </tr>\n",
       "    <tr>\n",
       "      <th>9</th>\n",
       "      <td>1.321823</td>\n",
       "      <td>Break and Enter</td>\n",
       "      <td>Multi Random Forest</td>\n",
       "    </tr>\n",
       "    <tr>\n",
       "      <th>10</th>\n",
       "      <td>0.068570</td>\n",
       "      <td>Homicide</td>\n",
       "      <td>Multi Random Forest</td>\n",
       "    </tr>\n",
       "    <tr>\n",
       "      <th>11</th>\n",
       "      <td>0.511761</td>\n",
       "      <td>Robbery</td>\n",
       "      <td>Multi Random Forest</td>\n",
       "    </tr>\n",
       "    <tr>\n",
       "      <th>12</th>\n",
       "      <td>0.436158</td>\n",
       "      <td>Sexual Assaults</td>\n",
       "      <td>Multi Random Forest</td>\n",
       "    </tr>\n",
       "    <tr>\n",
       "      <th>13</th>\n",
       "      <td>1.867185</td>\n",
       "      <td>Theft From Vehicle</td>\n",
       "      <td>Multi Random Forest</td>\n",
       "    </tr>\n",
       "    <tr>\n",
       "      <th>14</th>\n",
       "      <td>1.094974</td>\n",
       "      <td>Theft Of Vehicle</td>\n",
       "      <td>Multi Random Forest</td>\n",
       "    </tr>\n",
       "    <tr>\n",
       "      <th>15</th>\n",
       "      <td>0.281173</td>\n",
       "      <td>Theft Over $5000</td>\n",
       "      <td>Multi Random Forest</td>\n",
       "    </tr>\n",
       "  </tbody>\n",
       "</table>\n",
       "</div>"
      ],
      "text/plain": [
       "        RMSE          Crime Type               Method\n",
       "0   1.375070             Assault  Multi Random Forest\n",
       "1   1.321823     Break and Enter  Multi Random Forest\n",
       "2   0.068570            Homicide  Multi Random Forest\n",
       "3   0.511761             Robbery  Multi Random Forest\n",
       "4   0.436158     Sexual Assaults  Multi Random Forest\n",
       "5   1.867185  Theft From Vehicle  Multi Random Forest\n",
       "6   1.094974    Theft Of Vehicle  Multi Random Forest\n",
       "7   0.281173    Theft Over $5000  Multi Random Forest\n",
       "8   1.375070             Assault  Multi Random Forest\n",
       "9   1.321823     Break and Enter  Multi Random Forest\n",
       "10  0.068570            Homicide  Multi Random Forest\n",
       "11  0.511761             Robbery  Multi Random Forest\n",
       "12  0.436158     Sexual Assaults  Multi Random Forest\n",
       "13  1.867185  Theft From Vehicle  Multi Random Forest\n",
       "14  1.094974    Theft Of Vehicle  Multi Random Forest\n",
       "15  0.281173    Theft Over $5000  Multi Random Forest"
      ]
     },
     "execution_count": 13,
     "metadata": {},
     "output_type": "execute_result"
    }
   ],
   "source": [
    "final = pd.DataFrame(data=result2)\n",
    "final.columns = ['RMSE', 'Crime Type', 'Method']\n",
    "final"
   ]
  },
  {
   "cell_type": "code",
   "execution_count": 14,
   "metadata": {
    "collapsed": false
   },
   "outputs": [],
   "source": [
    "gf = final.groupby(by='Crime Type')"
   ]
  },
  {
   "cell_type": "code",
   "execution_count": 15,
   "metadata": {
    "collapsed": false
   },
   "outputs": [
    {
     "data": {
      "text/html": [
       "<div>\n",
       "<table border=\"1\" class=\"dataframe\">\n",
       "  <thead>\n",
       "    <tr style=\"text-align: right;\">\n",
       "      <th></th>\n",
       "      <th>RMSE</th>\n",
       "    </tr>\n",
       "    <tr>\n",
       "      <th>Crime Type</th>\n",
       "      <th></th>\n",
       "    </tr>\n",
       "  </thead>\n",
       "  <tbody>\n",
       "    <tr>\n",
       "      <th>Assault</th>\n",
       "      <td>1.375070</td>\n",
       "    </tr>\n",
       "    <tr>\n",
       "      <th>Break and Enter</th>\n",
       "      <td>1.321823</td>\n",
       "    </tr>\n",
       "    <tr>\n",
       "      <th>Homicide</th>\n",
       "      <td>0.068570</td>\n",
       "    </tr>\n",
       "    <tr>\n",
       "      <th>Robbery</th>\n",
       "      <td>0.511761</td>\n",
       "    </tr>\n",
       "    <tr>\n",
       "      <th>Sexual Assaults</th>\n",
       "      <td>0.436158</td>\n",
       "    </tr>\n",
       "    <tr>\n",
       "      <th>Theft From Vehicle</th>\n",
       "      <td>1.867185</td>\n",
       "    </tr>\n",
       "    <tr>\n",
       "      <th>Theft Of Vehicle</th>\n",
       "      <td>1.094974</td>\n",
       "    </tr>\n",
       "    <tr>\n",
       "      <th>Theft Over $5000</th>\n",
       "      <td>0.281173</td>\n",
       "    </tr>\n",
       "  </tbody>\n",
       "</table>\n",
       "</div>"
      ],
      "text/plain": [
       "                        RMSE\n",
       "Crime Type                  \n",
       "Assault             1.375070\n",
       "Break and Enter     1.321823\n",
       "Homicide            0.068570\n",
       "Robbery             0.511761\n",
       "Sexual Assaults     0.436158\n",
       "Theft From Vehicle  1.867185\n",
       "Theft Of Vehicle    1.094974\n",
       "Theft Over $5000    0.281173"
      ]
     },
     "execution_count": 15,
     "metadata": {},
     "output_type": "execute_result"
    }
   ],
   "source": [
    "gf.mean()"
   ]
  },
  {
   "cell_type": "code",
   "execution_count": null,
   "metadata": {
    "collapsed": true
   },
   "outputs": [],
   "source": []
  }
 ],
 "metadata": {
  "anaconda-cloud": {},
  "kernelspec": {
   "display_name": "Python [conda root]",
   "language": "python",
   "name": "conda-root-py"
  },
  "language_info": {
   "codemirror_mode": {
    "name": "ipython",
    "version": 3
   },
   "file_extension": ".py",
   "mimetype": "text/x-python",
   "name": "python",
   "nbconvert_exporter": "python",
   "pygments_lexer": "ipython3",
   "version": "3.5.2"
  }
 },
 "nbformat": 4,
 "nbformat_minor": 1
}
