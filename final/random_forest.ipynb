{
 "cells": [
  {
   "cell_type": "code",
   "execution_count": 1,
   "metadata": {
    "collapsed": true
   },
   "outputs": [],
   "source": [
    "import pandas as pd\n",
    "import seaborn as sns\n",
    "import numpy as np\n",
    "\n",
    "from sklearn import linear_model\n",
    "from sklearn import preprocessing\n",
    "from sklearn.metrics import mean_squared_error\n",
    "from sklearn.model_selection import ShuffleSplit\n",
    "from sklearn.ensemble import RandomForestRegressor\n",
    "from sklearn import svm\n",
    "from sklearn.multioutput import MultiOutputRegressor"
   ]
  },
  {
   "cell_type": "code",
   "execution_count": 2,
   "metadata": {
    "collapsed": true
   },
   "outputs": [],
   "source": [
    "df = pd.read_csv('../merged_data/ready.csv')\n",
    "df = df.fillna(0)"
   ]
  },
  {
   "cell_type": "code",
   "execution_count": 3,
   "metadata": {
    "collapsed": true
   },
   "outputs": [],
   "source": [
    "df.columns\n",
    "df = df[['Canadian Citizen', 'No Response(Citizen)', 'Non-Canadian Citizen',\n",
    "       'Refugee', 'No Longer In Use', 'Occupied', 'Unoccupied',\n",
    "       'Employed 0-30 Hours', 'Employed 30+ Hours', 'Gr.10 - Gr.12',\n",
    "       'Gr.7 - Gr.9', 'Homemaker', 'Kindergarten - Gr.6',\n",
    "       'No Response(Employment)', 'Permanently Unable to Work',\n",
    "       'Post Secondary Student', 'Preschool', 'Retired', 'Unemployed',\n",
    "       'Common Law', 'Married', 'Never Married', 'No Response(Marital)',\n",
    "       'Separated/Divorced', 'Widowed', 'Bicycle',\n",
    "       'Car/Truck/Van (as Driver)', 'Car/Truck/Van (as Passenger)',\n",
    "       'No Response(Transportation)', 'Other', 'Public Transit', 'Walk',\n",
    "       'Catholic', 'No Response(School)', 'Public', 'Assault', 'Break and Enter', 'Homicide',\n",
    "       'Robbery', 'Sexual Assaults', 'Theft From Vehicle', 'Theft Of Vehicle',\n",
    "       'Theft Over $5000']]"
   ]
  },
  {
   "cell_type": "code",
   "execution_count": 4,
   "metadata": {
    "collapsed": true
   },
   "outputs": [],
   "source": [
    "def train_test_spliter(df, random_seed=0, test_size=0.20, n_splits=1):\n",
    "    # trainm = preprocessing.maxabs_scale(df, axis=0, copy=True)\n",
    "    col = df.columns\n",
    "    df1 = pd.DataFrame(data=df, columns=col)\n",
    "    rs = ShuffleSplit(n_splits=n_splits, test_size=test_size, random_state=random_seed)\n",
    "    for train_index, test_index in rs.split(df):\n",
    "        pass\n",
    "    traindf = pd.DataFrame(data=df, index=train_index)\n",
    "    testdf = pd.DataFrame(data=df, index=test_index)\n",
    "    return traindf, testdf\n",
    "\n",
    "\n",
    "traindf, testdf = train_test_spliter(df)\n",
    "\n",
    "X_train = pd.DataFrame(data=traindf, columns=['Canadian Citizen', 'No Response(Citizen)', 'Non-Canadian Citizen',\n",
    "       'Refugee', 'No Longer In Use', 'Occupied', 'Unoccupied',\n",
    "       'Employed 0-30 Hours', 'Employed 30+ Hours', 'Gr.10 - Gr.12',\n",
    "       'Gr.7 - Gr.9', 'Homemaker', 'Kindergarten - Gr.6',\n",
    "       'No Response(Employment)', 'Permanently Unable to Work',\n",
    "       'Post Secondary Student', 'Preschool', 'Retired', 'Unemployed',\n",
    "       'Common Law', 'Married', 'Never Married', 'No Response(Marital)',\n",
    "       'Separated/Divorced', 'Widowed', 'Bicycle',\n",
    "       'Car/Truck/Van (as Driver)', 'Car/Truck/Van (as Passenger)',\n",
    "       'No Response(Transportation)', 'Other', 'Public Transit', 'Walk',\n",
    "       'Catholic', 'No Response(School)', 'Public'])\n",
    "X_train = preprocessing.maxabs_scale(X_train, axis=0, copy=True)\n",
    "\n",
    "y_train = pd.DataFrame(data=traindf, columns=['Assault', 'Break and Enter', 'Homicide',\n",
    "       'Robbery', 'Sexual Assaults', 'Theft From Vehicle', 'Theft Of Vehicle',\n",
    "       'Theft Over $5000'])\n",
    "X_test = pd.DataFrame(data=testdf, columns=['Canadian Citizen', 'No Response(Citizen)', 'Non-Canadian Citizen',\n",
    "       'Refugee', 'No Longer In Use', 'Occupied', 'Unoccupied',\n",
    "       'Employed 0-30 Hours', 'Employed 30+ Hours', 'Gr.10 - Gr.12',\n",
    "       'Gr.7 - Gr.9', 'Homemaker', 'Kindergarten - Gr.6',\n",
    "       'No Response(Employment)', 'Permanently Unable to Work',\n",
    "       'Post Secondary Student', 'Preschool', 'Retired', 'Unemployed',\n",
    "       'Common Law', 'Married', 'Never Married', 'No Response(Marital)',\n",
    "       'Separated/Divorced', 'Widowed', 'Bicycle',\n",
    "       'Car/Truck/Van (as Driver)', 'Car/Truck/Van (as Passenger)',\n",
    "       'No Response(Transportation)', 'Other', 'Public Transit', 'Walk',\n",
    "       'Catholic', 'No Response(School)', 'Public'])\n",
    "X_test = preprocessing.maxabs_scale(X_test, axis=0, copy=True)\n",
    "\n",
    "y_test = pd.DataFrame(data=testdf, columns=['Assault', 'Break and Enter', 'Homicide',\n",
    "       'Robbery', 'Sexual Assaults', 'Theft From Vehicle', 'Theft Of Vehicle',\n",
    "       'Theft Over $5000'])"
   ]
  },
  {
   "cell_type": "code",
   "execution_count": 5,
   "metadata": {
    "collapsed": false
   },
   "outputs": [
    {
     "data": {
      "text/plain": [
       "array([[  2.75972493e-01,   3.63248189e-01,   6.04786389e-04, ...,\n",
       "          5.19153888e-01,   2.99171625e-01,   6.51274750e-02],\n",
       "       [  8.75780264e-01,   5.71679490e-01,   8.81496964e-04, ...,\n",
       "          1.34451825e+00,   6.68084623e-01,   2.46806914e-02],\n",
       "       [  2.75972493e-01,   3.63248189e-01,   6.04786389e-04, ...,\n",
       "          5.19153888e-01,   2.99171625e-01,   6.51274750e-02],\n",
       "       ..., \n",
       "       [  2.45088560e+00,   1.33445664e+00,   8.61866085e-03, ...,\n",
       "          2.16530139e+00,   1.11014401e+00,   7.27190480e-02],\n",
       "       [  1.44842898e+00,   1.78036178e+00,   1.63637896e-02, ...,\n",
       "          2.42116587e+00,   1.44029417e+00,   6.05693583e-02],\n",
       "       [  2.55351978e+00,   1.21376702e+00,   7.36240344e-03, ...,\n",
       "          1.78493302e+00,   1.08432143e+00,   3.03916923e-02]])"
      ]
     },
     "execution_count": 5,
     "metadata": {},
     "output_type": "execute_result"
    }
   ],
   "source": [
    "reg = linear_model.LinearRegression()\n",
    "reg.fit(X_train, y_train)\n",
    "linear_result = reg.predict(X_test)\n",
    "linear_result_train = reg.predict(X_train)\n",
    "linear_result"
   ]
  },
  {
   "cell_type": "code",
   "execution_count": 6,
   "metadata": {
    "collapsed": false
   },
   "outputs": [
    {
     "data": {
      "text/plain": [
       "array([[  2.44027535e-01,   4.05982200e-01,   1.24215584e-03, ...,\n",
       "          5.57186848e-01,   3.62225197e-01,   7.43668074e-02],\n",
       "       [  1.14187873e+00,   6.82415619e-01,   1.97420508e-03, ...,\n",
       "          1.60977657e+00,   7.42296875e-01,   3.84326503e-02],\n",
       "       [  2.44027535e-01,   4.05982200e-01,   1.24215584e-03, ...,\n",
       "          5.57186848e-01,   3.62225197e-01,   7.43668074e-02],\n",
       "       ..., \n",
       "       [  1.14187873e+00,   9.89590494e-01,   2.46667733e-03, ...,\n",
       "          2.34907787e+00,   8.57687479e-01,   4.29328681e-02],\n",
       "       [  1.14187873e+00,   1.34701634e+00,   4.81519949e-03, ...,\n",
       "          2.36881441e+00,   1.22606102e+00,   4.90408470e-02],\n",
       "       [  1.97228942e+00,   1.13033846e+00,   1.23366549e-02, ...,\n",
       "          1.68077129e+00,   1.40915761e+00,   4.22832615e-02]])"
      ]
     },
     "execution_count": 6,
     "metadata": {},
     "output_type": "execute_result"
    }
   ],
   "source": [
    "max_depth = 20\n",
    "\n",
    "# Random forest with multioutput regressor\n",
    "regr_multirf = MultiOutputRegressor(RandomForestRegressor(max_depth=4,\n",
    "                                                          random_state=2))\n",
    "regr_multirf.fit(X_train, y_train)\n",
    "mo_rf_result = regr_multirf.predict(X_test)\n",
    "mo_rf_result_train = regr_multirf.predict(X_train)\n",
    "mo_rf_result"
   ]
  },
  {
   "cell_type": "code",
   "execution_count": 7,
   "metadata": {
    "collapsed": false
   },
   "outputs": [
    {
     "data": {
      "text/plain": [
       "array([[  2.38299912e-01,   4.22340693e-01,   7.43289206e-04, ...,\n",
       "          6.01756912e-01,   3.70631341e-01,   7.43517491e-02],\n",
       "       [  6.35430353e-01,   6.14949890e-01,   0.00000000e+00, ...,\n",
       "          1.30060807e+00,   1.20684558e-01,   6.89181869e-02],\n",
       "       [  2.38299912e-01,   4.22340693e-01,   7.43289206e-04, ...,\n",
       "          6.01756912e-01,   3.70631341e-01,   7.43517491e-02],\n",
       "       ..., \n",
       "       [  9.52030205e-01,   5.27356158e-01,   0.00000000e+00, ...,\n",
       "          1.70431986e+00,   1.08471462e+00,   1.01077051e-02],\n",
       "       [  8.83127706e-01,   7.44898565e-01,   0.00000000e+00, ...,\n",
       "          1.31312452e+00,   1.26709617e+00,   3.50222816e-02],\n",
       "       [  1.24169225e+00,   6.45315437e-01,   0.00000000e+00, ...,\n",
       "          1.35422073e+00,   2.31376554e-01,   5.38216795e-02]])"
      ]
     },
     "execution_count": 7,
     "metadata": {},
     "output_type": "execute_result"
    }
   ],
   "source": [
    "# Just random forest\n",
    "regr_rf = RandomForestRegressor(max_depth=max_depth, random_state=0, max_features='log2')\n",
    "regr_rf.fit(X_train, y_train)\n",
    "y_rf = regr_rf.predict(X_test)\n",
    "y_rf_train = regr_rf.predict(X_train)\n",
    "y_rf"
   ]
  },
  {
   "cell_type": "code",
   "execution_count": 8,
   "metadata": {
    "collapsed": false
   },
   "outputs": [],
   "source": [
    "crimes = ['Assault', 'Break and Enter', 'Homicide', 'Robbery', 'Sexual Assaults',\n",
    "       'Theft From Vehicle', 'Theft Of Vehicle', 'Theft Over $5000']"
   ]
  },
  {
   "cell_type": "code",
   "execution_count": 9,
   "metadata": {
    "collapsed": false
   },
   "outputs": [
    {
     "data": {
      "text/plain": [
       "[[1.6931604960752744, 'Assault', 'Test: Linear Regression'],\n",
       " [1.3384826875062119, 'Break and Enter', 'Test: Linear Regression'],\n",
       " [0.06607571655220576, 'Homicide', 'Test: Linear Regression'],\n",
       " [0.54111440161810143, 'Robbery', 'Test: Linear Regression'],\n",
       " [0.43139676138785576, 'Sexual Assaults', 'Test: Linear Regression'],\n",
       " [1.9536388941698706, 'Theft From Vehicle', 'Test: Linear Regression'],\n",
       " [1.1055175972417137, 'Theft Of Vehicle', 'Test: Linear Regression'],\n",
       " [0.27690759204934789, 'Theft Over $5000', 'Test: Linear Regression']]"
      ]
     },
     "execution_count": 9,
     "metadata": {},
     "output_type": "execute_result"
    }
   ],
   "source": [
    "result1 = []\n",
    "result1_train = []\n",
    "for i in range(len(crimes)):\n",
    "    result1.append([np.sqrt(mean_squared_error(y_test[crimes[i]], linear_result[:,i])), crimes[i], 'Test: Linear Regression'])\n",
    "    result1_train.append([np.sqrt(mean_squared_error(y_train[crimes[i]], linear_result_train[:,i])), crimes[i], 'Train: Linear Regression'])\n",
    "result1"
   ]
  },
  {
   "cell_type": "code",
   "execution_count": 10,
   "metadata": {
    "collapsed": false
   },
   "outputs": [
    {
     "data": {
      "text/plain": [
       "[[1.4855457449408931,\n",
       "  'Assault',\n",
       "  'Test: Multi Random Forest with Multioutput Regressor'],\n",
       " [1.3331433783677902,\n",
       "  'Break and Enter',\n",
       "  'Test: Multi Random Forest with Multioutput Regressor'],\n",
       " [0.067034624731854217,\n",
       "  'Homicide',\n",
       "  'Test: Multi Random Forest with Multioutput Regressor'],\n",
       " [0.51440571413021385,\n",
       "  'Robbery',\n",
       "  'Test: Multi Random Forest with Multioutput Regressor'],\n",
       " [0.43029289816663757,\n",
       "  'Sexual Assaults',\n",
       "  'Test: Multi Random Forest with Multioutput Regressor'],\n",
       " [1.9108550136455225,\n",
       "  'Theft From Vehicle',\n",
       "  'Test: Multi Random Forest with Multioutput Regressor'],\n",
       " [1.1014073974695837,\n",
       "  'Theft Of Vehicle',\n",
       "  'Test: Multi Random Forest with Multioutput Regressor'],\n",
       " [0.27660733777378127,\n",
       "  'Theft Over $5000',\n",
       "  'Test: Multi Random Forest with Multioutput Regressor']]"
      ]
     },
     "execution_count": 10,
     "metadata": {},
     "output_type": "execute_result"
    }
   ],
   "source": [
    "result2 = []\n",
    "result2_train = []\n",
    "for i in range(len(crimes)):\n",
    "    result2.append([np.sqrt(mean_squared_error(y_test[crimes[i]], mo_rf_result[:,i])), crimes[i], 'Test: Multi Random Forest with Multioutput Regressor'])\n",
    "    result2_train.append([np.sqrt(mean_squared_error(y_train[crimes[i]], mo_rf_result_train[:,i])), crimes[i], 'Train: Multi Random Forest with Multioutput Regressor'])\n",
    "result2"
   ]
  },
  {
   "cell_type": "code",
   "execution_count": 11,
   "metadata": {
    "collapsed": false
   },
   "outputs": [
    {
     "data": {
      "text/plain": [
       "[[1.3749494517636933, 'Assault', 'Test: Multi Random Forest'],\n",
       " [1.3215195307697483, 'Break and Enter', 'Test: Multi Random Forest'],\n",
       " [0.068557466888134563, 'Homicide', 'Test: Multi Random Forest'],\n",
       " [0.51160384759726607, 'Robbery', 'Test: Multi Random Forest'],\n",
       " [0.43601613970991726, 'Sexual Assaults', 'Test: Multi Random Forest'],\n",
       " [1.8669324985554929, 'Theft From Vehicle', 'Test: Multi Random Forest'],\n",
       " [1.0948030110257101, 'Theft Of Vehicle', 'Test: Multi Random Forest'],\n",
       " [0.28107193305949651, 'Theft Over $5000', 'Test: Multi Random Forest']]"
      ]
     },
     "execution_count": 11,
     "metadata": {},
     "output_type": "execute_result"
    }
   ],
   "source": [
    "result3 = []\n",
    "result3_train = []\n",
    "for i in range(len(crimes)):\n",
    "    result3.append([np.sqrt(mean_squared_error(y_test[crimes[i]], y_rf[:,i])), crimes[i], 'Test: Multi Random Forest'])\n",
    "    result3_train.append([np.sqrt(mean_squared_error(y_train[crimes[i]], y_rf_train[:,i])), crimes[i], 'Train: Multi Random Forest'])\n",
    "result3"
   ]
  },
  {
   "cell_type": "code",
   "execution_count": 12,
   "metadata": {
    "collapsed": false
   },
   "outputs": [
    {
     "data": {
      "text/plain": [
       "[[1.4855457449408931,\n",
       "  'Assault',\n",
       "  'Test: Multi Random Forest with Multioutput Regressor'],\n",
       " [1.3331433783677902,\n",
       "  'Break and Enter',\n",
       "  'Test: Multi Random Forest with Multioutput Regressor'],\n",
       " [0.067034624731854217,\n",
       "  'Homicide',\n",
       "  'Test: Multi Random Forest with Multioutput Regressor'],\n",
       " [0.51440571413021385,\n",
       "  'Robbery',\n",
       "  'Test: Multi Random Forest with Multioutput Regressor'],\n",
       " [0.43029289816663757,\n",
       "  'Sexual Assaults',\n",
       "  'Test: Multi Random Forest with Multioutput Regressor'],\n",
       " [1.9108550136455225,\n",
       "  'Theft From Vehicle',\n",
       "  'Test: Multi Random Forest with Multioutput Regressor'],\n",
       " [1.1014073974695837,\n",
       "  'Theft Of Vehicle',\n",
       "  'Test: Multi Random Forest with Multioutput Regressor'],\n",
       " [0.27660733777378127,\n",
       "  'Theft Over $5000',\n",
       "  'Test: Multi Random Forest with Multioutput Regressor'],\n",
       " [1.3749494517636933, 'Assault', 'Test: Multi Random Forest'],\n",
       " [1.3215195307697483, 'Break and Enter', 'Test: Multi Random Forest'],\n",
       " [0.068557466888134563, 'Homicide', 'Test: Multi Random Forest'],\n",
       " [0.51160384759726607, 'Robbery', 'Test: Multi Random Forest'],\n",
       " [0.43601613970991726, 'Sexual Assaults', 'Test: Multi Random Forest'],\n",
       " [1.8669324985554929, 'Theft From Vehicle', 'Test: Multi Random Forest'],\n",
       " [1.0948030110257101, 'Theft Of Vehicle', 'Test: Multi Random Forest'],\n",
       " [0.28107193305949651, 'Theft Over $5000', 'Test: Multi Random Forest']]"
      ]
     },
     "execution_count": 12,
     "metadata": {},
     "output_type": "execute_result"
    }
   ],
   "source": [
    "result2.extend(result3)\n",
    "result2_train.extend(result3_train)\n",
    "# result1.extend(result3)\n",
    "result2"
   ]
  },
  {
   "cell_type": "code",
   "execution_count": 13,
   "metadata": {
    "collapsed": false
   },
   "outputs": [
    {
     "data": {
      "text/html": [
       "<div>\n",
       "<table border=\"1\" class=\"dataframe\">\n",
       "  <thead>\n",
       "    <tr style=\"text-align: right;\">\n",
       "      <th></th>\n",
       "      <th>RMSE</th>\n",
       "      <th>Crime Type</th>\n",
       "      <th>Method</th>\n",
       "    </tr>\n",
       "  </thead>\n",
       "  <tbody>\n",
       "    <tr>\n",
       "      <th>0</th>\n",
       "      <td>1.485546</td>\n",
       "      <td>Assault</td>\n",
       "      <td>Test: Multi Random Forest with Multioutput Reg...</td>\n",
       "    </tr>\n",
       "    <tr>\n",
       "      <th>8</th>\n",
       "      <td>1.374949</td>\n",
       "      <td>Assault</td>\n",
       "      <td>Test: Multi Random Forest</td>\n",
       "    </tr>\n",
       "    <tr>\n",
       "      <th>1</th>\n",
       "      <td>1.333143</td>\n",
       "      <td>Break and Enter</td>\n",
       "      <td>Test: Multi Random Forest with Multioutput Reg...</td>\n",
       "    </tr>\n",
       "    <tr>\n",
       "      <th>9</th>\n",
       "      <td>1.321520</td>\n",
       "      <td>Break and Enter</td>\n",
       "      <td>Test: Multi Random Forest</td>\n",
       "    </tr>\n",
       "    <tr>\n",
       "      <th>2</th>\n",
       "      <td>0.067035</td>\n",
       "      <td>Homicide</td>\n",
       "      <td>Test: Multi Random Forest with Multioutput Reg...</td>\n",
       "    </tr>\n",
       "    <tr>\n",
       "      <th>10</th>\n",
       "      <td>0.068557</td>\n",
       "      <td>Homicide</td>\n",
       "      <td>Test: Multi Random Forest</td>\n",
       "    </tr>\n",
       "    <tr>\n",
       "      <th>3</th>\n",
       "      <td>0.514406</td>\n",
       "      <td>Robbery</td>\n",
       "      <td>Test: Multi Random Forest with Multioutput Reg...</td>\n",
       "    </tr>\n",
       "    <tr>\n",
       "      <th>11</th>\n",
       "      <td>0.511604</td>\n",
       "      <td>Robbery</td>\n",
       "      <td>Test: Multi Random Forest</td>\n",
       "    </tr>\n",
       "    <tr>\n",
       "      <th>4</th>\n",
       "      <td>0.430293</td>\n",
       "      <td>Sexual Assaults</td>\n",
       "      <td>Test: Multi Random Forest with Multioutput Reg...</td>\n",
       "    </tr>\n",
       "    <tr>\n",
       "      <th>12</th>\n",
       "      <td>0.436016</td>\n",
       "      <td>Sexual Assaults</td>\n",
       "      <td>Test: Multi Random Forest</td>\n",
       "    </tr>\n",
       "    <tr>\n",
       "      <th>5</th>\n",
       "      <td>1.910855</td>\n",
       "      <td>Theft From Vehicle</td>\n",
       "      <td>Test: Multi Random Forest with Multioutput Reg...</td>\n",
       "    </tr>\n",
       "    <tr>\n",
       "      <th>13</th>\n",
       "      <td>1.866932</td>\n",
       "      <td>Theft From Vehicle</td>\n",
       "      <td>Test: Multi Random Forest</td>\n",
       "    </tr>\n",
       "    <tr>\n",
       "      <th>6</th>\n",
       "      <td>1.101407</td>\n",
       "      <td>Theft Of Vehicle</td>\n",
       "      <td>Test: Multi Random Forest with Multioutput Reg...</td>\n",
       "    </tr>\n",
       "    <tr>\n",
       "      <th>14</th>\n",
       "      <td>1.094803</td>\n",
       "      <td>Theft Of Vehicle</td>\n",
       "      <td>Test: Multi Random Forest</td>\n",
       "    </tr>\n",
       "    <tr>\n",
       "      <th>7</th>\n",
       "      <td>0.276607</td>\n",
       "      <td>Theft Over $5000</td>\n",
       "      <td>Test: Multi Random Forest with Multioutput Reg...</td>\n",
       "    </tr>\n",
       "    <tr>\n",
       "      <th>15</th>\n",
       "      <td>0.281072</td>\n",
       "      <td>Theft Over $5000</td>\n",
       "      <td>Test: Multi Random Forest</td>\n",
       "    </tr>\n",
       "  </tbody>\n",
       "</table>\n",
       "</div>"
      ],
      "text/plain": [
       "        RMSE          Crime Type  \\\n",
       "0   1.485546             Assault   \n",
       "8   1.374949             Assault   \n",
       "1   1.333143     Break and Enter   \n",
       "9   1.321520     Break and Enter   \n",
       "2   0.067035            Homicide   \n",
       "10  0.068557            Homicide   \n",
       "3   0.514406             Robbery   \n",
       "11  0.511604             Robbery   \n",
       "4   0.430293     Sexual Assaults   \n",
       "12  0.436016     Sexual Assaults   \n",
       "5   1.910855  Theft From Vehicle   \n",
       "13  1.866932  Theft From Vehicle   \n",
       "6   1.101407    Theft Of Vehicle   \n",
       "14  1.094803    Theft Of Vehicle   \n",
       "7   0.276607    Theft Over $5000   \n",
       "15  0.281072    Theft Over $5000   \n",
       "\n",
       "                                               Method  \n",
       "0   Test: Multi Random Forest with Multioutput Reg...  \n",
       "8                           Test: Multi Random Forest  \n",
       "1   Test: Multi Random Forest with Multioutput Reg...  \n",
       "9                           Test: Multi Random Forest  \n",
       "2   Test: Multi Random Forest with Multioutput Reg...  \n",
       "10                          Test: Multi Random Forest  \n",
       "3   Test: Multi Random Forest with Multioutput Reg...  \n",
       "11                          Test: Multi Random Forest  \n",
       "4   Test: Multi Random Forest with Multioutput Reg...  \n",
       "12                          Test: Multi Random Forest  \n",
       "5   Test: Multi Random Forest with Multioutput Reg...  \n",
       "13                          Test: Multi Random Forest  \n",
       "6   Test: Multi Random Forest with Multioutput Reg...  \n",
       "14                          Test: Multi Random Forest  \n",
       "7   Test: Multi Random Forest with Multioutput Reg...  \n",
       "15                          Test: Multi Random Forest  "
      ]
     },
     "execution_count": 13,
     "metadata": {},
     "output_type": "execute_result"
    }
   ],
   "source": [
    "final = pd.DataFrame(data=result2)\n",
    "final.columns = ['RMSE', 'Crime Type', 'Method']\n",
    "final.sort_values(by=['Crime Type'], inplace=True)\n",
    "final"
   ]
  },
  {
   "cell_type": "code",
   "execution_count": 14,
   "metadata": {
    "collapsed": false
   },
   "outputs": [
    {
     "data": {
      "text/plain": [
       "[1.6931604960752744,\n",
       " 1.3384826875062119,\n",
       " 0.06607571655220576,\n",
       " 0.54111440161810143,\n",
       " 0.43139676138785576,\n",
       " 1.9536388941698706,\n",
       " 1.1055175972417137,\n",
       " 0.27690759204934789]"
      ]
     },
     "execution_count": 14,
     "metadata": {},
     "output_type": "execute_result"
    }
   ],
   "source": [
    "# Linear Regression\n",
    "final1 = [x[0] for x in result1]\n",
    "final1"
   ]
  },
  {
   "cell_type": "code",
   "execution_count": 15,
   "metadata": {
    "collapsed": false
   },
   "outputs": [
    {
     "data": {
      "text/plain": [
       "[1.7879716351256758,\n",
       " 1.3994737736305458,\n",
       " 0.068929110845428077,\n",
       " 0.55429691253627422,\n",
       " 0.40639756285775003,\n",
       " 1.9035134804485057,\n",
       " 1.1489845830377428,\n",
       " 0.29773143656868267]"
      ]
     },
     "execution_count": 15,
     "metadata": {},
     "output_type": "execute_result"
    }
   ],
   "source": [
    "# Linear Regression train\n",
    "final1_train = [x[0] for x in result1_train]\n",
    "final1_train"
   ]
  },
  {
   "cell_type": "code",
   "execution_count": 16,
   "metadata": {
    "collapsed": false
   },
   "outputs": [
    {
     "data": {
      "text/plain": [
       "[1.4855457449408931,\n",
       " 1.3331433783677902,\n",
       " 0.067034624731854217,\n",
       " 0.51440571413021385,\n",
       " 0.43029289816663757,\n",
       " 1.9108550136455225,\n",
       " 1.1014073974695837,\n",
       " 0.27660733777378127]"
      ]
     },
     "execution_count": 16,
     "metadata": {},
     "output_type": "execute_result"
    }
   ],
   "source": [
    "# Multitask Random Forest (with Multioutput Regressor)\n",
    "final2 = [x[0] for x in result2]\n",
    "final2[:8]"
   ]
  },
  {
   "cell_type": "code",
   "execution_count": 17,
   "metadata": {
    "collapsed": false
   },
   "outputs": [
    {
     "data": {
      "text/plain": [
       "[1.5621251064209223,\n",
       " 1.3692983258273925,\n",
       " 0.068124536150459103,\n",
       " 0.53287771373628612,\n",
       " 0.39259163078858234,\n",
       " 1.8680287034845902,\n",
       " 1.1350660127129353,\n",
       " 0.29480147269065327]"
      ]
     },
     "execution_count": 17,
     "metadata": {},
     "output_type": "execute_result"
    }
   ],
   "source": [
    "# Multitask Random Forest (with Multioutput Regressor) train\n",
    "final2_train = [x[0] for x in result2_train]\n",
    "final2_train[:8]"
   ]
  },
  {
   "cell_type": "code",
   "execution_count": 18,
   "metadata": {
    "collapsed": false
   },
   "outputs": [
    {
     "data": {
      "text/plain": [
       "[1.3749494517636933,\n",
       " 1.3215195307697483,\n",
       " 0.068557466888134563,\n",
       " 0.51160384759726607,\n",
       " 0.43601613970991726,\n",
       " 1.8669324985554929,\n",
       " 1.0948030110257101,\n",
       " 0.28107193305949651]"
      ]
     },
     "execution_count": 18,
     "metadata": {},
     "output_type": "execute_result"
    }
   ],
   "source": [
    "# Multitask Random Forest\n",
    "final3 = [x[0] for x in result3]\n",
    "final3"
   ]
  },
  {
   "cell_type": "code",
   "execution_count": 19,
   "metadata": {
    "collapsed": false
   },
   "outputs": [
    {
     "data": {
      "text/plain": [
       "[1.4105436695502018,\n",
       " 1.3110160636988262,\n",
       " 0.067460996812193433,\n",
       " 0.50515335515248738,\n",
       " 0.38141847762168168,\n",
       " 1.7689129601816131,\n",
       " 1.0838735953132739,\n",
       " 0.29083826598015994]"
      ]
     },
     "execution_count": 19,
     "metadata": {},
     "output_type": "execute_result"
    }
   ],
   "source": [
    "# Multitask Random Forest train\n",
    "final3_train = [x[0] for x in result3_train]\n",
    "final3_train"
   ]
  },
  {
   "cell_type": "code",
   "execution_count": null,
   "metadata": {
    "collapsed": true
   },
   "outputs": [],
   "source": []
  },
  {
   "cell_type": "code",
   "execution_count": null,
   "metadata": {
    "collapsed": true
   },
   "outputs": [],
   "source": []
  }
 ],
 "metadata": {
  "anaconda-cloud": {},
  "kernelspec": {
   "display_name": "Python [conda root]",
   "language": "python",
   "name": "conda-root-py"
  },
  "language_info": {
   "codemirror_mode": {
    "name": "ipython",
    "version": 3
   },
   "file_extension": ".py",
   "mimetype": "text/x-python",
   "name": "python",
   "nbconvert_exporter": "python",
   "pygments_lexer": "ipython3",
   "version": "3.5.2"
  }
 },
 "nbformat": 4,
 "nbformat_minor": 1
}
