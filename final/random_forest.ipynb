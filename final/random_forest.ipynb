{
 "cells": [
  {
   "cell_type": "code",
   "execution_count": 1,
   "metadata": {
    "collapsed": true
   },
   "outputs": [],
   "source": [
    "import pandas as pd\n",
    "import seaborn as sns\n",
    "import numpy as np\n",
    "\n",
    "from sklearn import linear_model\n",
    "from sklearn import preprocessing\n",
    "from sklearn.metrics import mean_squared_error\n",
    "from sklearn.model_selection import ShuffleSplit\n",
    "from sklearn.ensemble import RandomForestRegressor\n",
    "from sklearn import svm\n",
    "from sklearn.multioutput import MultiOutputRegressor"
   ]
  },
  {
   "cell_type": "code",
   "execution_count": 2,
   "metadata": {
    "collapsed": true
   },
   "outputs": [],
   "source": [
    "df = pd.read_csv('../merged_data/ready.csv')\n",
    "df = df.fillna(0)"
   ]
  },
  {
   "cell_type": "code",
   "execution_count": 3,
   "metadata": {
    "collapsed": true
   },
   "outputs": [],
   "source": [
    "df.columns\n",
    "df = df[['Canadian Citizen', 'No Response(Citizen)', 'Non-Canadian Citizen',\n",
    "       'Refugee', 'No Longer In Use', 'Occupied', 'Unoccupied',\n",
    "       'Employed 0-30 Hours', 'Employed 30+ Hours', 'Gr.10 - Gr.12',\n",
    "       'Gr.7 - Gr.9', 'Homemaker', 'Kindergarten - Gr.6',\n",
    "       'No Response(Employment)', 'Permanently Unable to Work',\n",
    "       'Post Secondary Student', 'Preschool', 'Retired', 'Unemployed',\n",
    "       'Common Law', 'Married', 'Never Married', 'No Response(Marital)',\n",
    "       'Separated/Divorced', 'Widowed', 'Bicycle',\n",
    "       'Car/Truck/Van (as Driver)', 'Car/Truck/Van (as Passenger)',\n",
    "       'No Response(Transportation)', 'Other', 'Public Transit', 'Walk',\n",
    "       'Catholic', 'No Response(School)', 'Public', 'Assault', 'Break and Enter', 'Homicide',\n",
    "       'Robbery', 'Sexual Assaults', 'Theft From Vehicle', 'Theft Of Vehicle',\n",
    "       'Theft Over $5000']]"
   ]
  },
  {
   "cell_type": "code",
   "execution_count": 4,
   "metadata": {
    "collapsed": true
   },
   "outputs": [],
   "source": [
    "def train_test_spliter(df, random_seed=0, test_size=0.20, n_splits=1):\n",
    "    # trainm = preprocessing.maxabs_scale(df, axis=0, copy=True)\n",
    "    col = df.columns\n",
    "    df1 = pd.DataFrame(data=df, columns=col)\n",
    "    rs = ShuffleSplit(n_splits=n_splits, test_size=test_size, random_state=random_seed)\n",
    "    for train_index, test_index in rs.split(df):\n",
    "        pass\n",
    "    traindf = pd.DataFrame(data=df, index=train_index)\n",
    "    testdf = pd.DataFrame(data=df, index=test_index)\n",
    "    return traindf, testdf\n",
    "\n",
    "\n",
    "traindf, testdf = train_test_spliter(df)\n",
    "\n",
    "X_train = pd.DataFrame(data=traindf, columns=['Canadian Citizen', 'No Response(Citizen)', 'Non-Canadian Citizen',\n",
    "       'Refugee', 'No Longer In Use', 'Occupied', 'Unoccupied',\n",
    "       'Employed 0-30 Hours', 'Employed 30+ Hours', 'Gr.10 - Gr.12',\n",
    "       'Gr.7 - Gr.9', 'Homemaker', 'Kindergarten - Gr.6',\n",
    "       'No Response(Employment)', 'Permanently Unable to Work',\n",
    "       'Post Secondary Student', 'Preschool', 'Retired', 'Unemployed',\n",
    "       'Common Law', 'Married', 'Never Married', 'No Response(Marital)',\n",
    "       'Separated/Divorced', 'Widowed', 'Bicycle',\n",
    "       'Car/Truck/Van (as Driver)', 'Car/Truck/Van (as Passenger)',\n",
    "       'No Response(Transportation)', 'Other', 'Public Transit', 'Walk',\n",
    "       'Catholic', 'No Response(School)', 'Public'])\n",
    "X_train = preprocessing.maxabs_scale(X_train, axis=0, copy=True)\n",
    "\n",
    "y_train = pd.DataFrame(data=traindf, columns=['Assault', 'Break and Enter', 'Homicide',\n",
    "       'Robbery', 'Sexual Assaults', 'Theft From Vehicle', 'Theft Of Vehicle',\n",
    "       'Theft Over $5000'])\n",
    "X_test = pd.DataFrame(data=testdf, columns=['Canadian Citizen', 'No Response(Citizen)', 'Non-Canadian Citizen',\n",
    "       'Refugee', 'No Longer In Use', 'Occupied', 'Unoccupied',\n",
    "       'Employed 0-30 Hours', 'Employed 30+ Hours', 'Gr.10 - Gr.12',\n",
    "       'Gr.7 - Gr.9', 'Homemaker', 'Kindergarten - Gr.6',\n",
    "       'No Response(Employment)', 'Permanently Unable to Work',\n",
    "       'Post Secondary Student', 'Preschool', 'Retired', 'Unemployed',\n",
    "       'Common Law', 'Married', 'Never Married', 'No Response(Marital)',\n",
    "       'Separated/Divorced', 'Widowed', 'Bicycle',\n",
    "       'Car/Truck/Van (as Driver)', 'Car/Truck/Van (as Passenger)',\n",
    "       'No Response(Transportation)', 'Other', 'Public Transit', 'Walk',\n",
    "       'Catholic', 'No Response(School)', 'Public'])\n",
    "X_test = preprocessing.maxabs_scale(X_test, axis=0, copy=True)\n",
    "\n",
    "y_test = pd.DataFrame(data=testdf, columns=['Assault', 'Break and Enter', 'Homicide',\n",
    "       'Robbery', 'Sexual Assaults', 'Theft From Vehicle', 'Theft Of Vehicle',\n",
    "       'Theft Over $5000'])"
   ]
  },
  {
   "cell_type": "code",
   "execution_count": 5,
   "metadata": {
    "collapsed": false
   },
   "outputs": [
    {
     "data": {
      "text/plain": [
       "array([[  2.75972493e-01,   3.63248189e-01,   6.04786389e-04, ...,\n",
       "          5.19153888e-01,   2.99171625e-01,   6.51274750e-02],\n",
       "       [  8.75780264e-01,   5.71679490e-01,   8.81496964e-04, ...,\n",
       "          1.34451825e+00,   6.68084623e-01,   2.46806914e-02],\n",
       "       [  2.75972493e-01,   3.63248189e-01,   6.04786389e-04, ...,\n",
       "          5.19153888e-01,   2.99171625e-01,   6.51274750e-02],\n",
       "       ..., \n",
       "       [  2.45088560e+00,   1.33445664e+00,   8.61866085e-03, ...,\n",
       "          2.16530139e+00,   1.11014401e+00,   7.27190480e-02],\n",
       "       [  1.44842898e+00,   1.78036178e+00,   1.63637896e-02, ...,\n",
       "          2.42116587e+00,   1.44029417e+00,   6.05693583e-02],\n",
       "       [  2.55351978e+00,   1.21376702e+00,   7.36240344e-03, ...,\n",
       "          1.78493302e+00,   1.08432143e+00,   3.03916923e-02]])"
      ]
     },
     "execution_count": 5,
     "metadata": {},
     "output_type": "execute_result"
    }
   ],
   "source": [
    "reg = linear_model.LinearRegression()\n",
    "reg.fit(X_train, y_train)\n",
    "linear_result = reg.predict(X_test)\n",
    "linear_result"
   ]
  },
  {
   "cell_type": "code",
   "execution_count": 6,
   "metadata": {
    "collapsed": false
   },
   "outputs": [
    {
     "data": {
      "text/plain": [
       "array([[  2.41437084e-01,   4.22024327e-01,   7.51598453e-04, ...,\n",
       "          6.00742877e-01,   3.72825375e-01,   7.39840861e-02],\n",
       "       [  6.96705706e-01,   5.76990006e-01,   2.19780220e-05, ...,\n",
       "          1.17890319e+00,   2.02084398e-01,   6.67248524e-02],\n",
       "       [  2.41437084e-01,   4.22024327e-01,   7.51598453e-04, ...,\n",
       "          6.00742877e-01,   3.72825375e-01,   7.39840861e-02],\n",
       "       ..., \n",
       "       [  1.15334204e+00,   6.41255287e-01,   1.77777778e-04, ...,\n",
       "          1.48240317e+00,   1.00876521e+00,   1.75959508e-02],\n",
       "       [  1.09123066e+00,   8.19320113e-01,   2.19780220e-05, ...,\n",
       "          1.24414864e+00,   1.26124672e+00,   3.38772315e-02],\n",
       "       [  1.70288922e+00,   7.13111101e-01,   5.83090379e-04, ...,\n",
       "          1.27160137e+00,   2.36036920e-01,   4.35247253e-02]])"
      ]
     },
     "execution_count": 6,
     "metadata": {},
     "output_type": "execute_result"
    }
   ],
   "source": [
    "max_depth = 12\n",
    "\n",
    "# Random forest with multioutput regressor\n",
    "regr_multirf = MultiOutputRegressor(RandomForestRegressor(max_depth=max_depth,\n",
    "                                                          random_state=2))\n",
    "regr_multirf.fit(X_train, y_train)\n",
    "mo_rf_result = regr_multirf.predict(X_test)\n",
    "mo_rf_result"
   ]
  },
  {
   "cell_type": "code",
   "execution_count": 7,
   "metadata": {
    "collapsed": false
   },
   "outputs": [
    {
     "data": {
      "text/plain": [
       "array([[  2.41568307e-01,   4.21405097e-01,   7.56805855e-04, ...,\n",
       "          6.00331115e-01,   3.72798732e-01,   7.40563712e-02],\n",
       "       [  6.39481037e-01,   6.46047387e-01,   2.59893238e-03, ...,\n",
       "          1.19918256e+00,   5.10671818e-01,   3.87174632e-02],\n",
       "       [  2.41568307e-01,   4.21405097e-01,   7.56805855e-04, ...,\n",
       "          6.00331115e-01,   3.72798732e-01,   7.40563712e-02],\n",
       "       ..., \n",
       "       [  1.09123763e+00,   6.83317137e-01,   4.46944215e-03, ...,\n",
       "          1.49262588e+00,   9.36387477e-01,   8.57222601e-03],\n",
       "       [  1.17132908e+00,   8.94383026e-01,   2.35610315e-03, ...,\n",
       "          1.63071908e+00,   1.10231629e+00,   4.91743026e-02],\n",
       "       [  1.44236828e+00,   7.92838260e-01,   7.00751199e-04, ...,\n",
       "          1.22696912e+00,   4.39653141e-01,   3.17773256e-02]])"
      ]
     },
     "execution_count": 7,
     "metadata": {},
     "output_type": "execute_result"
    }
   ],
   "source": [
    "# Just random forest\n",
    "regr_rf = RandomForestRegressor(max_depth=max_depth, random_state=2)\n",
    "regr_rf.fit(X_train, y_train)\n",
    "y_rf = regr_rf.predict(X_test)\n",
    "y_rf"
   ]
  },
  {
   "cell_type": "code",
   "execution_count": 8,
   "metadata": {
    "collapsed": false
   },
   "outputs": [],
   "source": [
    "crimes = ['Assault', 'Break and Enter', 'Homicide', 'Robbery', 'Sexual Assaults',\n",
    "       'Theft From Vehicle', 'Theft Of Vehicle', 'Theft Over $5000']"
   ]
  },
  {
   "cell_type": "code",
   "execution_count": 9,
   "metadata": {
    "collapsed": false
   },
   "outputs": [
    {
     "data": {
      "text/plain": [
       "[[1.6931604960752744, 'Assault', 'Linear Regression'],\n",
       " [1.3384826875062119, 'Break and Enter', 'Linear Regression'],\n",
       " [0.06607571655220576, 'Homicide', 'Linear Regression'],\n",
       " [0.54111440161810143, 'Robbery', 'Linear Regression'],\n",
       " [0.43139676138785576, 'Sexual Assaults', 'Linear Regression'],\n",
       " [1.9536388941698706, 'Theft From Vehicle', 'Linear Regression'],\n",
       " [1.1055175972417137, 'Theft Of Vehicle', 'Linear Regression'],\n",
       " [0.27690759204934789, 'Theft Over $5000', 'Linear Regression']]"
      ]
     },
     "execution_count": 9,
     "metadata": {},
     "output_type": "execute_result"
    }
   ],
   "source": [
    "result1 = []\n",
    "for i in range(len(crimes)):\n",
    "    result1.append([np.sqrt(mean_squared_error(y_test[crimes[i]], linear_result[:,i])), crimes[i], 'Linear Regression'])\n",
    "    \n",
    "result1"
   ]
  },
  {
   "cell_type": "code",
   "execution_count": 10,
   "metadata": {
    "collapsed": false
   },
   "outputs": [
    {
     "data": {
      "text/plain": [
       "[[1.3725428445838139,\n",
       "  'Assault',\n",
       "  'Multi Random Forest (with Multioutput Regressor)'],\n",
       " [1.3205749627932026,\n",
       "  'Break and Enter',\n",
       "  'Multi Random Forest (with Multioutput Regressor)'],\n",
       " [0.068467776053308116,\n",
       "  'Homicide',\n",
       "  'Multi Random Forest (with Multioutput Regressor)'],\n",
       " [0.50850471996035596,\n",
       "  'Robbery',\n",
       "  'Multi Random Forest (with Multioutput Regressor)'],\n",
       " [0.4334847631668296,\n",
       "  'Sexual Assaults',\n",
       "  'Multi Random Forest (with Multioutput Regressor)'],\n",
       " [1.8575913465908769,\n",
       "  'Theft From Vehicle',\n",
       "  'Multi Random Forest (with Multioutput Regressor)'],\n",
       " [1.0899324120453286,\n",
       "  'Theft Of Vehicle',\n",
       "  'Multi Random Forest (with Multioutput Regressor)'],\n",
       " [0.27814700465064562,\n",
       "  'Theft Over $5000',\n",
       "  'Multi Random Forest (with Multioutput Regressor)']]"
      ]
     },
     "execution_count": 10,
     "metadata": {},
     "output_type": "execute_result"
    }
   ],
   "source": [
    "result2 = []\n",
    "for i in range(len(crimes)):\n",
    "    result2.append([np.sqrt(mean_squared_error(y_test[crimes[i]], mo_rf_result[:,i])), crimes[i], 'Multi Random Forest (with Multioutput Regressor)'])\n",
    "\n",
    "result2"
   ]
  },
  {
   "cell_type": "code",
   "execution_count": 11,
   "metadata": {
    "collapsed": false
   },
   "outputs": [
    {
     "data": {
      "text/plain": [
       "[[1.3722736112950127, 'Assault', 'Multi Random Forest'],\n",
       " [1.3166119071268452, 'Break and Enter', 'Multi Random Forest'],\n",
       " [0.067863070698364447, 'Homicide', 'Multi Random Forest'],\n",
       " [0.5063804179509549, 'Robbery', 'Multi Random Forest'],\n",
       " [0.43201057428284545, 'Sexual Assaults', 'Multi Random Forest'],\n",
       " [1.8515625287723361, 'Theft From Vehicle', 'Multi Random Forest'],\n",
       " [1.0831639940216897, 'Theft Of Vehicle', 'Multi Random Forest'],\n",
       " [0.27764217530543728, 'Theft Over $5000', 'Multi Random Forest']]"
      ]
     },
     "execution_count": 11,
     "metadata": {},
     "output_type": "execute_result"
    }
   ],
   "source": [
    "result3 = []\n",
    "for i in range(len(crimes)):\n",
    "    result3.append([np.sqrt(mean_squared_error(y_test[crimes[i]], y_rf[:,i])), crimes[i], 'Multi Random Forest'])\n",
    "    \n",
    "result3"
   ]
  },
  {
   "cell_type": "code",
   "execution_count": 12,
   "metadata": {
    "collapsed": false
   },
   "outputs": [
    {
     "data": {
      "text/plain": [
       "[[1.3725428445838139,\n",
       "  'Assault',\n",
       "  'Multi Random Forest (with Multioutput Regressor)'],\n",
       " [1.3205749627932026,\n",
       "  'Break and Enter',\n",
       "  'Multi Random Forest (with Multioutput Regressor)'],\n",
       " [0.068467776053308116,\n",
       "  'Homicide',\n",
       "  'Multi Random Forest (with Multioutput Regressor)'],\n",
       " [0.50850471996035596,\n",
       "  'Robbery',\n",
       "  'Multi Random Forest (with Multioutput Regressor)'],\n",
       " [0.4334847631668296,\n",
       "  'Sexual Assaults',\n",
       "  'Multi Random Forest (with Multioutput Regressor)'],\n",
       " [1.8575913465908769,\n",
       "  'Theft From Vehicle',\n",
       "  'Multi Random Forest (with Multioutput Regressor)'],\n",
       " [1.0899324120453286,\n",
       "  'Theft Of Vehicle',\n",
       "  'Multi Random Forest (with Multioutput Regressor)'],\n",
       " [0.27814700465064562,\n",
       "  'Theft Over $5000',\n",
       "  'Multi Random Forest (with Multioutput Regressor)'],\n",
       " [1.3722736112950127, 'Assault', 'Multi Random Forest'],\n",
       " [1.3166119071268452, 'Break and Enter', 'Multi Random Forest'],\n",
       " [0.067863070698364447, 'Homicide', 'Multi Random Forest'],\n",
       " [0.5063804179509549, 'Robbery', 'Multi Random Forest'],\n",
       " [0.43201057428284545, 'Sexual Assaults', 'Multi Random Forest'],\n",
       " [1.8515625287723361, 'Theft From Vehicle', 'Multi Random Forest'],\n",
       " [1.0831639940216897, 'Theft Of Vehicle', 'Multi Random Forest'],\n",
       " [0.27764217530543728, 'Theft Over $5000', 'Multi Random Forest']]"
      ]
     },
     "execution_count": 12,
     "metadata": {},
     "output_type": "execute_result"
    }
   ],
   "source": [
    "result2.extend(result3)\n",
    "# result1.extend(result3)\n",
    "result2"
   ]
  },
  {
   "cell_type": "code",
   "execution_count": 13,
   "metadata": {
    "collapsed": false
   },
   "outputs": [
    {
     "data": {
      "text/html": [
       "<div>\n",
       "<table border=\"1\" class=\"dataframe\">\n",
       "  <thead>\n",
       "    <tr style=\"text-align: right;\">\n",
       "      <th></th>\n",
       "      <th>RMSE</th>\n",
       "      <th>Crime Type</th>\n",
       "      <th>Method</th>\n",
       "    </tr>\n",
       "  </thead>\n",
       "  <tbody>\n",
       "    <tr>\n",
       "      <th>0</th>\n",
       "      <td>1.372543</td>\n",
       "      <td>Assault</td>\n",
       "      <td>Multi Random Forest (with Multioutput Regressor)</td>\n",
       "    </tr>\n",
       "    <tr>\n",
       "      <th>1</th>\n",
       "      <td>1.320575</td>\n",
       "      <td>Break and Enter</td>\n",
       "      <td>Multi Random Forest (with Multioutput Regressor)</td>\n",
       "    </tr>\n",
       "    <tr>\n",
       "      <th>2</th>\n",
       "      <td>0.068468</td>\n",
       "      <td>Homicide</td>\n",
       "      <td>Multi Random Forest (with Multioutput Regressor)</td>\n",
       "    </tr>\n",
       "    <tr>\n",
       "      <th>3</th>\n",
       "      <td>0.508505</td>\n",
       "      <td>Robbery</td>\n",
       "      <td>Multi Random Forest (with Multioutput Regressor)</td>\n",
       "    </tr>\n",
       "    <tr>\n",
       "      <th>4</th>\n",
       "      <td>0.433485</td>\n",
       "      <td>Sexual Assaults</td>\n",
       "      <td>Multi Random Forest (with Multioutput Regressor)</td>\n",
       "    </tr>\n",
       "    <tr>\n",
       "      <th>5</th>\n",
       "      <td>1.857591</td>\n",
       "      <td>Theft From Vehicle</td>\n",
       "      <td>Multi Random Forest (with Multioutput Regressor)</td>\n",
       "    </tr>\n",
       "    <tr>\n",
       "      <th>6</th>\n",
       "      <td>1.089932</td>\n",
       "      <td>Theft Of Vehicle</td>\n",
       "      <td>Multi Random Forest (with Multioutput Regressor)</td>\n",
       "    </tr>\n",
       "    <tr>\n",
       "      <th>7</th>\n",
       "      <td>0.278147</td>\n",
       "      <td>Theft Over $5000</td>\n",
       "      <td>Multi Random Forest (with Multioutput Regressor)</td>\n",
       "    </tr>\n",
       "    <tr>\n",
       "      <th>8</th>\n",
       "      <td>1.372274</td>\n",
       "      <td>Assault</td>\n",
       "      <td>Multi Random Forest</td>\n",
       "    </tr>\n",
       "    <tr>\n",
       "      <th>9</th>\n",
       "      <td>1.316612</td>\n",
       "      <td>Break and Enter</td>\n",
       "      <td>Multi Random Forest</td>\n",
       "    </tr>\n",
       "    <tr>\n",
       "      <th>10</th>\n",
       "      <td>0.067863</td>\n",
       "      <td>Homicide</td>\n",
       "      <td>Multi Random Forest</td>\n",
       "    </tr>\n",
       "    <tr>\n",
       "      <th>11</th>\n",
       "      <td>0.506380</td>\n",
       "      <td>Robbery</td>\n",
       "      <td>Multi Random Forest</td>\n",
       "    </tr>\n",
       "    <tr>\n",
       "      <th>12</th>\n",
       "      <td>0.432011</td>\n",
       "      <td>Sexual Assaults</td>\n",
       "      <td>Multi Random Forest</td>\n",
       "    </tr>\n",
       "    <tr>\n",
       "      <th>13</th>\n",
       "      <td>1.851563</td>\n",
       "      <td>Theft From Vehicle</td>\n",
       "      <td>Multi Random Forest</td>\n",
       "    </tr>\n",
       "    <tr>\n",
       "      <th>14</th>\n",
       "      <td>1.083164</td>\n",
       "      <td>Theft Of Vehicle</td>\n",
       "      <td>Multi Random Forest</td>\n",
       "    </tr>\n",
       "    <tr>\n",
       "      <th>15</th>\n",
       "      <td>0.277642</td>\n",
       "      <td>Theft Over $5000</td>\n",
       "      <td>Multi Random Forest</td>\n",
       "    </tr>\n",
       "  </tbody>\n",
       "</table>\n",
       "</div>"
      ],
      "text/plain": [
       "        RMSE          Crime Type  \\\n",
       "0   1.372543             Assault   \n",
       "1   1.320575     Break and Enter   \n",
       "2   0.068468            Homicide   \n",
       "3   0.508505             Robbery   \n",
       "4   0.433485     Sexual Assaults   \n",
       "5   1.857591  Theft From Vehicle   \n",
       "6   1.089932    Theft Of Vehicle   \n",
       "7   0.278147    Theft Over $5000   \n",
       "8   1.372274             Assault   \n",
       "9   1.316612     Break and Enter   \n",
       "10  0.067863            Homicide   \n",
       "11  0.506380             Robbery   \n",
       "12  0.432011     Sexual Assaults   \n",
       "13  1.851563  Theft From Vehicle   \n",
       "14  1.083164    Theft Of Vehicle   \n",
       "15  0.277642    Theft Over $5000   \n",
       "\n",
       "                                              Method  \n",
       "0   Multi Random Forest (with Multioutput Regressor)  \n",
       "1   Multi Random Forest (with Multioutput Regressor)  \n",
       "2   Multi Random Forest (with Multioutput Regressor)  \n",
       "3   Multi Random Forest (with Multioutput Regressor)  \n",
       "4   Multi Random Forest (with Multioutput Regressor)  \n",
       "5   Multi Random Forest (with Multioutput Regressor)  \n",
       "6   Multi Random Forest (with Multioutput Regressor)  \n",
       "7   Multi Random Forest (with Multioutput Regressor)  \n",
       "8                                Multi Random Forest  \n",
       "9                                Multi Random Forest  \n",
       "10                               Multi Random Forest  \n",
       "11                               Multi Random Forest  \n",
       "12                               Multi Random Forest  \n",
       "13                               Multi Random Forest  \n",
       "14                               Multi Random Forest  \n",
       "15                               Multi Random Forest  "
      ]
     },
     "execution_count": 13,
     "metadata": {},
     "output_type": "execute_result"
    }
   ],
   "source": [
    "final = pd.DataFrame(data=result2)\n",
    "final.columns = ['RMSE', 'Crime Type', 'Method']\n",
    "final"
   ]
  },
  {
   "cell_type": "code",
   "execution_count": null,
   "metadata": {
    "collapsed": false
   },
   "outputs": [],
   "source": []
  },
  {
   "cell_type": "code",
   "execution_count": null,
   "metadata": {
    "collapsed": false
   },
   "outputs": [],
   "source": []
  },
  {
   "cell_type": "code",
   "execution_count": null,
   "metadata": {
    "collapsed": true
   },
   "outputs": [],
   "source": []
  }
 ],
 "metadata": {
  "anaconda-cloud": {},
  "kernelspec": {
   "display_name": "Python [conda root]",
   "language": "python",
   "name": "conda-root-py"
  },
  "language_info": {
   "codemirror_mode": {
    "name": "ipython",
    "version": 3
   },
   "file_extension": ".py",
   "mimetype": "text/x-python",
   "name": "python",
   "nbconvert_exporter": "python",
   "pygments_lexer": "ipython3",
   "version": "3.5.2"
  }
 },
 "nbformat": 4,
 "nbformat_minor": 1
}
