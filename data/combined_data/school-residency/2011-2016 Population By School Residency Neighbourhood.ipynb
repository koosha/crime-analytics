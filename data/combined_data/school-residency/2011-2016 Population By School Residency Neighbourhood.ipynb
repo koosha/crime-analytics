{
 "cells": [
  {
   "cell_type": "code",
   "execution_count": 1,
   "metadata": {
    "collapsed": true
   },
   "outputs": [],
   "source": [
    "import pandas as pd\n",
    "import numpy as np"
   ]
  },
  {
   "cell_type": "code",
   "execution_count": 2,
   "metadata": {
    "collapsed": true
   },
   "outputs": [],
   "source": [
    "df2016 = pd.read_csv('2016_Census_-_Population_By_School_Residency__Neighbourhood_.csv')\n",
    "df2014 = pd.read_csv('2014_Census_-_Population_By_School_Residency__Neighbourhood_.csv')\n",
    "df2012 = pd.read_csv('2012_Census_-_Population_By_School_Residency__Neighbourhood_.csv')  "
   ]
  },
  {
   "cell_type": "code",
   "execution_count": 4,
   "metadata": {
    "collapsed": false
   },
   "outputs": [],
   "source": [
    "def build(df, year):\n",
    "    df_minus = pd.DataFrame(dtype='int64')\n",
    "    for idx, row in df.iterrows():\n",
    "        for i in range(1, 5):\n",
    "            for j in range(1, 4):\n",
    "                row['Quarter'] = int(i)\n",
    "                row['Month'] = int(3*(i-1)+j)\n",
    "                row['Year'] = int(year)\n",
    "                df_minus = df_minus.append(row)\n",
    "    return df_minus"
   ]
  },
  {
   "cell_type": "code",
   "execution_count": 5,
   "metadata": {
    "collapsed": true
   },
   "outputs": [],
   "source": [
    "df2011 = build(df2012, 2011)\n",
    "df2012 = build(df2012, 2012)"
   ]
  },
  {
   "cell_type": "code",
   "execution_count": 6,
   "metadata": {
    "collapsed": true
   },
   "outputs": [],
   "source": [
    "df2013 = build(df2014, 2013)\n",
    "df2014 = build(df2014, 2014)"
   ]
  },
  {
   "cell_type": "code",
   "execution_count": 7,
   "metadata": {
    "collapsed": true
   },
   "outputs": [],
   "source": [
    "df2015 = build(df2016, 2015)\n",
    "df2016 = build(df2016, 2016)"
   ]
  },
  {
   "cell_type": "code",
   "execution_count": 8,
   "metadata": {
    "collapsed": true
   },
   "outputs": [],
   "source": [
    "final_df = pd.DataFrame()\n",
    "final_df = final_df.append(df2011).append(df2012).append(df2013).append(df2014).append(df2015).append(df2016)"
   ]
  },
  {
   "cell_type": "code",
   "execution_count": 10,
   "metadata": {
    "collapsed": false
   },
   "outputs": [],
   "source": [
    "final_df.to_csv('2011-2016-Population_By_School_Residency__Neighbourhood_.csv')"
   ]
  },
  {
   "cell_type": "code",
   "execution_count": null,
   "metadata": {
    "collapsed": true
   },
   "outputs": [],
   "source": []
  }
 ],
 "metadata": {
  "anaconda-cloud": {},
  "kernelspec": {
   "display_name": "Python [conda env:466]",
   "language": "python",
   "name": "conda-env-466-py"
  },
  "language_info": {
   "codemirror_mode": {
    "name": "ipython",
    "version": 3
   },
   "file_extension": ".py",
   "mimetype": "text/x-python",
   "name": "python",
   "nbconvert_exporter": "python",
   "pygments_lexer": "ipython3",
   "version": "3.5.2"
  }
 },
 "nbformat": 4,
 "nbformat_minor": 1
}
