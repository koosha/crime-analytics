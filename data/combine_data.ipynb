{
 "cells": [
  {
   "cell_type": "code",
   "execution_count": 19,
   "metadata": {
    "collapsed": true
   },
   "outputs": [],
   "source": [
    "import pandas as pd\n",
    "import numpy as np"
   ]
  },
  {
   "cell_type": "code",
   "execution_count": 20,
   "metadata": {
    "collapsed": false
   },
   "outputs": [],
   "source": [
    "df2012 = pd.read_csv('2012_Census_-_Dwelling_Unit_By_Ownership__Neighbourhood_.csv')\n",
    "df2014 = pd.read_csv('2014_Census_-_Dwelling_Unit_By_Ownership__Neighbourhood_.csv')\n",
    "df2016 = pd.read_csv('2016_Census_-_Dwelling_Unit_By_Ownership__Neighbourhood_.csv')"
   ]
  },
  {
   "cell_type": "code",
   "execution_count": 21,
   "metadata": {
    "collapsed": false
   },
   "outputs": [
    {
     "data": {
      "text/plain": [
       "Index(['﻿Ward', 'Neighbourhood Number', 'Neighbourhood Name', 'Owned',\n",
       "       'Rented', 'No Response'],\n",
       "      dtype='object')"
      ]
     },
     "execution_count": 21,
     "metadata": {},
     "output_type": "execute_result"
    }
   ],
   "source": [
    "new_columns = df2016.columns\n",
    "new_columns"
   ]
  },
  {
   "cell_type": "code",
   "execution_count": 22,
   "metadata": {
    "collapsed": false
   },
   "outputs": [],
   "source": [
    "# The column name is changed in 2016, need some unification\n",
    "df2012.columns = new_columns\n",
    "df2014.columns = new_columns"
   ]
  },
  {
   "cell_type": "code",
   "execution_count": 23,
   "metadata": {
    "collapsed": false
   },
   "outputs": [
    {
     "data": {
      "text/plain": [
       "array([ True,  True,  True,  True,  True,  True], dtype=bool)"
      ]
     },
     "execution_count": 23,
     "metadata": {},
     "output_type": "execute_result"
    }
   ],
   "source": [
    "df2012.columns == df2016.columns"
   ]
  },
  {
   "cell_type": "code",
   "execution_count": 24,
   "metadata": {
    "collapsed": false
   },
   "outputs": [
    {
     "data": {
      "text/plain": [
       "array([ True,  True,  True,  True,  True,  True], dtype=bool)"
      ]
     },
     "execution_count": 24,
     "metadata": {},
     "output_type": "execute_result"
    }
   ],
   "source": [
    "df2012.columns == df2014.columns"
   ]
  },
  {
   "cell_type": "code",
   "execution_count": 25,
   "metadata": {
    "collapsed": false
   },
   "outputs": [
    {
     "name": "stdout",
     "output_type": "stream",
     "text": [
      "﻿Ward                                    Ward 1\n",
      "Neighbourhood Number                       4010\n",
      "Neighbourhood Name      ALBERTA PARK INDUSTRIAL\n",
      "Owned                                         0\n",
      "Rented                                        0\n",
      "No Response                                   0\n",
      "Quarter                                       1\n",
      "Month                                         1\n",
      "Year                                       2012\n",
      "Name: 0, dtype: object\n",
      "﻿Ward                                    Ward 1\n",
      "Neighbourhood Number                       4010\n",
      "Neighbourhood Name      ALBERTA PARK INDUSTRIAL\n",
      "Owned                                         0\n",
      "Rented                                        0\n",
      "No Response                                   0\n",
      "Quarter                                       1\n",
      "Month                                         2\n",
      "Year                                       2012\n",
      "Name: 0, dtype: object\n",
      "﻿Ward                                    Ward 1\n",
      "Neighbourhood Number                       4010\n",
      "Neighbourhood Name      ALBERTA PARK INDUSTRIAL\n",
      "Owned                                         0\n",
      "Rented                                        0\n",
      "No Response                                   0\n",
      "Quarter                                       1\n",
      "Month                                         3\n",
      "Year                                       2012\n",
      "Name: 0, dtype: object\n",
      "﻿Ward                                    Ward 1\n",
      "Neighbourhood Number                       4010\n",
      "Neighbourhood Name      ALBERTA PARK INDUSTRIAL\n",
      "Owned                                         0\n",
      "Rented                                        0\n",
      "No Response                                   0\n",
      "Quarter                                       2\n",
      "Month                                         4\n",
      "Year                                       2012\n",
      "Name: 0, dtype: object\n",
      "﻿Ward                                    Ward 1\n",
      "Neighbourhood Number                       4010\n",
      "Neighbourhood Name      ALBERTA PARK INDUSTRIAL\n",
      "Owned                                         0\n",
      "Rented                                        0\n",
      "No Response                                   0\n",
      "Quarter                                       2\n",
      "Month                                         5\n",
      "Year                                       2012\n",
      "Name: 0, dtype: object\n",
      "﻿Ward                                    Ward 1\n",
      "Neighbourhood Number                       4010\n",
      "Neighbourhood Name      ALBERTA PARK INDUSTRIAL\n",
      "Owned                                         0\n",
      "Rented                                        0\n",
      "No Response                                   0\n",
      "Quarter                                       2\n",
      "Month                                         6\n",
      "Year                                       2012\n",
      "Name: 0, dtype: object\n",
      "﻿Ward                                    Ward 1\n",
      "Neighbourhood Number                       4010\n",
      "Neighbourhood Name      ALBERTA PARK INDUSTRIAL\n",
      "Owned                                         0\n",
      "Rented                                        0\n",
      "No Response                                   0\n",
      "Quarter                                       3\n",
      "Month                                         7\n",
      "Year                                       2012\n",
      "Name: 0, dtype: object\n",
      "﻿Ward                                    Ward 1\n",
      "Neighbourhood Number                       4010\n",
      "Neighbourhood Name      ALBERTA PARK INDUSTRIAL\n",
      "Owned                                         0\n",
      "Rented                                        0\n",
      "No Response                                   0\n",
      "Quarter                                       3\n",
      "Month                                         8\n",
      "Year                                       2012\n",
      "Name: 0, dtype: object\n",
      "﻿Ward                                    Ward 1\n",
      "Neighbourhood Number                       4010\n",
      "Neighbourhood Name      ALBERTA PARK INDUSTRIAL\n",
      "Owned                                         0\n",
      "Rented                                        0\n",
      "No Response                                   0\n",
      "Quarter                                       3\n",
      "Month                                         9\n",
      "Year                                       2012\n",
      "Name: 0, dtype: object\n",
      "﻿Ward                                    Ward 1\n",
      "Neighbourhood Number                       4010\n",
      "Neighbourhood Name      ALBERTA PARK INDUSTRIAL\n",
      "Owned                                         0\n",
      "Rented                                        0\n",
      "No Response                                   0\n",
      "Quarter                                       4\n",
      "Month                                        10\n",
      "Year                                       2012\n",
      "Name: 0, dtype: object\n",
      "﻿Ward                                    Ward 1\n",
      "Neighbourhood Number                       4010\n",
      "Neighbourhood Name      ALBERTA PARK INDUSTRIAL\n",
      "Owned                                         0\n",
      "Rented                                        0\n",
      "No Response                                   0\n",
      "Quarter                                       4\n",
      "Month                                        11\n",
      "Year                                       2012\n",
      "Name: 0, dtype: object\n",
      "﻿Ward                                    Ward 1\n",
      "Neighbourhood Number                       4010\n",
      "Neighbourhood Name      ALBERTA PARK INDUSTRIAL\n",
      "Owned                                         0\n",
      "Rented                                        0\n",
      "No Response                                   0\n",
      "Quarter                                       4\n",
      "Month                                        12\n",
      "Year                                       2012\n",
      "Name: 0, dtype: object\n"
     ]
    }
   ],
   "source": [
    "for i, row in df2012.iterrows():\n",
    "    for i in range(1, 5):\n",
    "        for j in range(1, 4):\n",
    "            row['Quarter'] = i\n",
    "            row['Month'] = 3*(i-1)+j\n",
    "            row['Year'] = 2012\n",
    "            # Just don't want to print too many stuff here, check the result by one neiborhood\n",
    "            if row['Neighbourhood Name'] == 'ALBERTA PARK INDUSTRIAL':\n",
    "                print(row)"
   ]
  },
  {
   "cell_type": "code",
   "execution_count": null,
   "metadata": {
    "collapsed": true
   },
   "outputs": [],
   "source": []
  }
 ],
 "metadata": {
  "anaconda-cloud": {},
  "kernelspec": {
   "display_name": "Python [conda root]",
   "language": "python",
   "name": "conda-root-py"
  },
  "language_info": {
   "codemirror_mode": {
    "name": "ipython",
    "version": 3
   },
   "file_extension": ".py",
   "mimetype": "text/x-python",
   "name": "python",
   "nbconvert_exporter": "python",
   "pygments_lexer": "ipython3",
   "version": "3.5.2"
  }
 },
 "nbformat": 4,
 "nbformat_minor": 1
}
