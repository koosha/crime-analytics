{
 "cells": [
  {
   "cell_type": "code",
   "execution_count": 1,
   "metadata": {
    "collapsed": true
   },
   "outputs": [],
   "source": [
    "import pandas as pd\n",
    "import numpy as np"
   ]
  },
  {
   "cell_type": "code",
   "execution_count": 2,
   "metadata": {
    "collapsed": false
   },
   "outputs": [],
   "source": [
    "df2012 = pd.read_csv('../data/2012_Census_-_Population_By_School_Residency__Neighbourhood_.csv')\n",
    "df2014 = pd.read_csv('../data/2014_Census_-_Population_By_School_Residency__Neighbourhood_.csv')\n",
    "df2016 = pd.read_csv('../data/2016_Census_-_Population_By_School_Residency__Neighbourhood_.csv')"
   ]
  },
  {
   "cell_type": "code",
   "execution_count": 3,
   "metadata": {
    "collapsed": false
   },
   "outputs": [
    {
     "data": {
      "text/plain": [
       "Index(['WARD', 'NEIGHBOURHOOD_NUMBER', 'NEIGHBOURHOOD NAME', 'EDMONTON_PUBLIC',\n",
       "       'EDMONTON_CATHOLIC', 'NO_RESPONSE'],\n",
       "      dtype='object')"
      ]
     },
     "execution_count": 3,
     "metadata": {},
     "output_type": "execute_result"
    }
   ],
   "source": [
    "df2012.columns"
   ]
  },
  {
   "cell_type": "code",
   "execution_count": 4,
   "metadata": {
    "collapsed": false
   },
   "outputs": [
    {
     "data": {
      "text/plain": [
       "Index(['WARD', 'NEIGHBOURHOOD_NUMBER', 'NEIGHBOURHOOD_NAME', 'PUBLIC',\n",
       "       'CATHOLIC', 'NO_RESPONSE'],\n",
       "      dtype='object')"
      ]
     },
     "execution_count": 4,
     "metadata": {},
     "output_type": "execute_result"
    }
   ],
   "source": [
    "df2014.columns"
   ]
  },
  {
   "cell_type": "code",
   "execution_count": 5,
   "metadata": {
    "collapsed": false
   },
   "outputs": [
    {
     "data": {
      "text/plain": [
       "Index(['﻿Ward', 'Neighbourhood Number', 'Neighbourhood Name', 'Public',\n",
       "       'Catholic', 'Francophone', 'No Response'],\n",
       "      dtype='object')"
      ]
     },
     "execution_count": 5,
     "metadata": {},
     "output_type": "execute_result"
    }
   ],
   "source": [
    "df2016.columns"
   ]
  },
  {
   "cell_type": "code",
   "execution_count": 6,
   "metadata": {
    "collapsed": true
   },
   "outputs": [],
   "source": [
    "df2016['Public'] = df2016['Francophone'] + df2016['Public']"
   ]
  },
  {
   "cell_type": "code",
   "execution_count": 7,
   "metadata": {
    "collapsed": true
   },
   "outputs": [],
   "source": [
    "del df2016['Francophone']"
   ]
  },
  {
   "cell_type": "code",
   "execution_count": 8,
   "metadata": {
    "collapsed": false
   },
   "outputs": [
    {
     "data": {
      "text/plain": [
       "Index(['﻿Ward', 'Neighbourhood Number', 'Neighbourhood Name', 'Public',\n",
       "       'Catholic', 'No Response'],\n",
       "      dtype='object')"
      ]
     },
     "execution_count": 8,
     "metadata": {},
     "output_type": "execute_result"
    }
   ],
   "source": [
    "new_columns = df2016.columns\n",
    "new_columns"
   ]
  },
  {
   "cell_type": "code",
   "execution_count": 9,
   "metadata": {
    "collapsed": true
   },
   "outputs": [],
   "source": [
    "# The column names is changed in 2016, need some unification\n",
    "df2012.columns = new_columns\n",
    "df2014.columns = new_columns"
   ]
  },
  {
   "cell_type": "code",
   "execution_count": 10,
   "metadata": {
    "collapsed": false
   },
   "outputs": [
    {
     "data": {
      "text/plain": [
       "array([ True,  True,  True,  True,  True,  True], dtype=bool)"
      ]
     },
     "execution_count": 10,
     "metadata": {},
     "output_type": "execute_result"
    }
   ],
   "source": [
    "df2012.columns == df2016.columns"
   ]
  },
  {
   "cell_type": "code",
   "execution_count": 11,
   "metadata": {
    "collapsed": false
   },
   "outputs": [
    {
     "data": {
      "text/plain": [
       "array([ True,  True,  True,  True,  True,  True], dtype=bool)"
      ]
     },
     "execution_count": 11,
     "metadata": {},
     "output_type": "execute_result"
    }
   ],
   "source": [
    "df2014.columns == df2016.columns"
   ]
  },
  {
   "cell_type": "code",
   "execution_count": null,
   "metadata": {
    "collapsed": true
   },
   "outputs": [],
   "source": [
    "def build(df, year):\n",
    "    df_minus = pd.DataFrame(dtype='int64')\n",
    "    for idx, row in df.iterrows():\n",
    "        for i in range(1, 5):\n",
    "            for j in range(1, 4):\n",
    "                row['Quarter'] = int(i)\n",
    "                row['Month'] = int(3*(i-1)+j)\n",
    "                row['Year'] = int(year)\n",
    "                df_minus = df_minus.append(row)\n",
    "    return df_minus"
   ]
  },
  {
   "cell_type": "code",
   "execution_count": null,
   "metadata": {
    "collapsed": true
   },
   "outputs": [],
   "source": [
    "df2011 = build(df2012, 2011)\n",
    "df2012 = build(df2012, 2012)\n",
    "df2013 = build(df2014, 2013)\n",
    "df2014 = build(df2014, 2014)\n",
    "df2015 = build(df2016, 2015)\n",
    "df2016 = build(df2016, 2016)"
   ]
  },
  {
   "cell_type": "code",
   "execution_count": null,
   "metadata": {
    "collapsed": true
   },
   "outputs": [],
   "source": [
    "final_df = pd.DataFrame()\n",
    "final_df = final_df.append(df2011).append(df2012).append(df2013).append(df2014).append(df2015).append(df2016)\n",
    "final_df = final_df.rename(columns={'No Response': 'No Response(School)'})"
   ]
  },
  {
   "cell_type": "code",
   "execution_count": null,
   "metadata": {
    "collapsed": false
   },
   "outputs": [],
   "source": [
    "for i in final_df.columns:\n",
    "    try:\n",
    "        final_df[i] = final_df[i].astype('int64')\n",
    "        print(i, 'is an int64 column')\n",
    "    except:\n",
    "        print(i, 'is not an int64 column')"
   ]
  },
  {
   "cell_type": "code",
   "execution_count": null,
   "metadata": {
    "collapsed": false
   },
   "outputs": [],
   "source": [
    "final_df.reset_index()\n",
    "final_df"
   ]
  },
  {
   "cell_type": "code",
   "execution_count": null,
   "metadata": {
    "collapsed": true
   },
   "outputs": [],
   "source": [
    "final_df.to_csv('../merged_data/Population_By_School_Residency.csv')"
   ]
  },
  {
   "cell_type": "code",
   "execution_count": null,
   "metadata": {
    "collapsed": true
   },
   "outputs": [],
   "source": []
  }
 ],
 "metadata": {
  "kernelspec": {
   "display_name": "Python [conda root]",
   "language": "python",
   "name": "conda-root-py"
  },
  "language_info": {
   "codemirror_mode": {
    "name": "ipython",
    "version": 3
   },
   "file_extension": ".py",
   "mimetype": "text/x-python",
   "name": "python",
   "nbconvert_exporter": "python",
   "pygments_lexer": "ipython3",
   "version": "3.5.2"
  }
 },
 "nbformat": 4,
 "nbformat_minor": 1
}
