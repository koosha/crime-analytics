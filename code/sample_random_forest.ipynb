{
 "cells": [
  {
   "cell_type": "code",
   "execution_count": 1,
   "metadata": {
    "collapsed": true
   },
   "outputs": [],
   "source": [
    "import pandas as pd\n",
    "import numpy as np\n",
    "import matplotlib.pyplot as plt\n",
    "\n",
    "from sklearn import preprocessing, linear_model\n",
    "from sklearn.metrics import mean_squared_error\n",
    "from sklearn.model_selection import ShuffleSplit\n",
    "from sklearn.ensemble import RandomForestRegressor\n",
    "from sklearn.multioutput import MultiOutputRegressor"
   ]
  },
  {
   "cell_type": "code",
   "execution_count": 2,
   "metadata": {
    "collapsed": false
   },
   "outputs": [],
   "source": [
    "def train_test_spliter(df, random_seed=0, test_size=0.20, n_splits=1):\n",
    "    trainm = preprocessing.maxabs_scale(df, axis=0, copy=True)\n",
    "    col = df.columns\n",
    "    df1 = pd.DataFrame(data=trainm, columns=col)\n",
    "    rs = ShuffleSplit(n_splits=n_splits, test_size=test_size, random_state=random_seed)\n",
    "    for train_index, test_index in rs.split(df):\n",
    "        pass\n",
    "    traindf = pd.DataFrame(data=df, index=train_index)\n",
    "    testdf = pd.DataFrame(data=df, index=test_index)\n",
    "    return traindf, testdf"
   ]
  },
  {
   "cell_type": "code",
   "execution_count": 3,
   "metadata": {
    "collapsed": false
   },
   "outputs": [
    {
     "data": {
      "text/html": [
       "<div>\n",
       "<table border=\"1\" class=\"dataframe\">\n",
       "  <thead>\n",
       "    <tr style=\"text-align: right;\">\n",
       "      <th></th>\n",
       "      <th>a</th>\n",
       "      <th>b</th>\n",
       "      <th>c</th>\n",
       "      <th>y1</th>\n",
       "      <th>y2</th>\n",
       "    </tr>\n",
       "  </thead>\n",
       "  <tbody>\n",
       "    <tr>\n",
       "      <th>134</th>\n",
       "      <td>0.589902</td>\n",
       "      <td>0.671126</td>\n",
       "      <td>0.341183</td>\n",
       "      <td>0.430241</td>\n",
       "      <td>1.769707</td>\n",
       "    </tr>\n",
       "    <tr>\n",
       "      <th>66</th>\n",
       "      <td>0.011837</td>\n",
       "      <td>0.431590</td>\n",
       "      <td>0.719130</td>\n",
       "      <td>0.318881</td>\n",
       "      <td>0.035511</td>\n",
       "    </tr>\n",
       "    <tr>\n",
       "      <th>26</th>\n",
       "      <td>0.777405</td>\n",
       "      <td>0.717705</td>\n",
       "      <td>0.831068</td>\n",
       "      <td>1.242539</td>\n",
       "      <td>2.332215</td>\n",
       "    </tr>\n",
       "    <tr>\n",
       "      <th>113</th>\n",
       "      <td>0.214004</td>\n",
       "      <td>0.231163</td>\n",
       "      <td>0.603016</td>\n",
       "      <td>0.268443</td>\n",
       "      <td>0.642012</td>\n",
       "    </tr>\n",
       "    <tr>\n",
       "      <th>168</th>\n",
       "      <td>0.430676</td>\n",
       "      <td>0.386141</td>\n",
       "      <td>0.512394</td>\n",
       "      <td>0.418532</td>\n",
       "      <td>1.292028</td>\n",
       "    </tr>\n",
       "    <tr>\n",
       "      <th>63</th>\n",
       "      <td>0.748453</td>\n",
       "      <td>0.732463</td>\n",
       "      <td>0.142701</td>\n",
       "      <td>0.211328</td>\n",
       "      <td>2.245359</td>\n",
       "    </tr>\n",
       "    <tr>\n",
       "      <th>8</th>\n",
       "      <td>0.675500</td>\n",
       "      <td>0.575396</td>\n",
       "      <td>0.656886</td>\n",
       "      <td>0.821696</td>\n",
       "      <td>2.026501</td>\n",
       "    </tr>\n",
       "    <tr>\n",
       "      <th>75</th>\n",
       "      <td>0.763285</td>\n",
       "      <td>0.185831</td>\n",
       "      <td>0.873224</td>\n",
       "      <td>0.828790</td>\n",
       "      <td>2.289856</td>\n",
       "    </tr>\n",
       "    <tr>\n",
       "      <th>118</th>\n",
       "      <td>0.865976</td>\n",
       "      <td>0.575599</td>\n",
       "      <td>0.964822</td>\n",
       "      <td>1.390863</td>\n",
       "      <td>2.597927</td>\n",
       "    </tr>\n",
       "    <tr>\n",
       "      <th>143</th>\n",
       "      <td>0.467573</td>\n",
       "      <td>0.692257</td>\n",
       "      <td>0.695690</td>\n",
       "      <td>0.806882</td>\n",
       "      <td>1.402720</td>\n",
       "    </tr>\n",
       "  </tbody>\n",
       "</table>\n",
       "</div>"
      ],
      "text/plain": [
       "            a         b         c        y1        y2\n",
       "134  0.589902  0.671126  0.341183  0.430241  1.769707\n",
       "66   0.011837  0.431590  0.719130  0.318881  0.035511\n",
       "26   0.777405  0.717705  0.831068  1.242539  2.332215\n",
       "113  0.214004  0.231163  0.603016  0.268443  0.642012\n",
       "168  0.430676  0.386141  0.512394  0.418532  1.292028\n",
       "63   0.748453  0.732463  0.142701  0.211328  2.245359\n",
       "8    0.675500  0.575396  0.656886  0.821696  2.026501\n",
       "75   0.763285  0.185831  0.873224  0.828790  2.289856\n",
       "118  0.865976  0.575599  0.964822  1.390863  2.597927\n",
       "143  0.467573  0.692257  0.695690  0.806882  1.402720"
      ]
     },
     "execution_count": 3,
     "metadata": {},
     "output_type": "execute_result"
    }
   ],
   "source": [
    "train_test_spliter(pd.read_csv('../data/test1.csv'))[0].head(10)"
   ]
  },
  {
   "cell_type": "code",
   "execution_count": 4,
   "metadata": {
    "collapsed": false
   },
   "outputs": [
    {
     "data": {
      "text/html": [
       "<div>\n",
       "<table border=\"1\" class=\"dataframe\">\n",
       "  <thead>\n",
       "    <tr style=\"text-align: right;\">\n",
       "      <th></th>\n",
       "      <th>a</th>\n",
       "      <th>b</th>\n",
       "      <th>c</th>\n",
       "      <th>y1</th>\n",
       "      <th>y2</th>\n",
       "    </tr>\n",
       "  </thead>\n",
       "  <tbody>\n",
       "    <tr>\n",
       "      <th>18</th>\n",
       "      <td>0.203861</td>\n",
       "      <td>0.378814</td>\n",
       "      <td>0.177686</td>\n",
       "      <td>0.103533</td>\n",
       "      <td>0.611584</td>\n",
       "    </tr>\n",
       "    <tr>\n",
       "      <th>170</th>\n",
       "      <td>0.688840</td>\n",
       "      <td>0.531851</td>\n",
       "      <td>0.754094</td>\n",
       "      <td>0.920515</td>\n",
       "      <td>2.066519</td>\n",
       "    </tr>\n",
       "    <tr>\n",
       "      <th>107</th>\n",
       "      <td>0.360372</td>\n",
       "      <td>0.487634</td>\n",
       "      <td>0.843383</td>\n",
       "      <td>0.715193</td>\n",
       "      <td>1.081115</td>\n",
       "    </tr>\n",
       "    <tr>\n",
       "      <th>98</th>\n",
       "      <td>0.805632</td>\n",
       "      <td>0.254294</td>\n",
       "      <td>0.292346</td>\n",
       "      <td>0.309865</td>\n",
       "      <td>2.416895</td>\n",
       "    </tr>\n",
       "    <tr>\n",
       "      <th>177</th>\n",
       "      <td>0.569208</td>\n",
       "      <td>0.410178</td>\n",
       "      <td>0.269691</td>\n",
       "      <td>0.264131</td>\n",
       "      <td>1.707625</td>\n",
       "    </tr>\n",
       "    <tr>\n",
       "      <th>182</th>\n",
       "      <td>0.541083</td>\n",
       "      <td>0.854148</td>\n",
       "      <td>0.653009</td>\n",
       "      <td>0.911098</td>\n",
       "      <td>1.623250</td>\n",
       "    </tr>\n",
       "    <tr>\n",
       "      <th>5</th>\n",
       "      <td>0.584544</td>\n",
       "      <td>0.144620</td>\n",
       "      <td>0.433638</td>\n",
       "      <td>0.316193</td>\n",
       "      <td>1.753633</td>\n",
       "    </tr>\n",
       "    <tr>\n",
       "      <th>146</th>\n",
       "      <td>0.554896</td>\n",
       "      <td>0.725991</td>\n",
       "      <td>0.449658</td>\n",
       "      <td>0.575961</td>\n",
       "      <td>1.664688</td>\n",
       "    </tr>\n",
       "    <tr>\n",
       "      <th>12</th>\n",
       "      <td>0.485312</td>\n",
       "      <td>0.846474</td>\n",
       "      <td>0.864118</td>\n",
       "      <td>1.150820</td>\n",
       "      <td>1.455935</td>\n",
       "    </tr>\n",
       "    <tr>\n",
       "      <th>152</th>\n",
       "      <td>0.243379</td>\n",
       "      <td>0.324236</td>\n",
       "      <td>0.796994</td>\n",
       "      <td>0.452387</td>\n",
       "      <td>0.730138</td>\n",
       "    </tr>\n",
       "  </tbody>\n",
       "</table>\n",
       "</div>"
      ],
      "text/plain": [
       "            a         b         c        y1        y2\n",
       "18   0.203861  0.378814  0.177686  0.103533  0.611584\n",
       "170  0.688840  0.531851  0.754094  0.920515  2.066519\n",
       "107  0.360372  0.487634  0.843383  0.715193  1.081115\n",
       "98   0.805632  0.254294  0.292346  0.309865  2.416895\n",
       "177  0.569208  0.410178  0.269691  0.264131  1.707625\n",
       "182  0.541083  0.854148  0.653009  0.911098  1.623250\n",
       "5    0.584544  0.144620  0.433638  0.316193  1.753633\n",
       "146  0.554896  0.725991  0.449658  0.575961  1.664688\n",
       "12   0.485312  0.846474  0.864118  1.150820  1.455935\n",
       "152  0.243379  0.324236  0.796994  0.452387  0.730138"
      ]
     },
     "execution_count": 4,
     "metadata": {},
     "output_type": "execute_result"
    }
   ],
   "source": [
    "train_test_spliter(pd.read_csv('../data/test1.csv'))[1].head(10)"
   ]
  },
  {
   "cell_type": "code",
   "execution_count": 5,
   "metadata": {
    "collapsed": false
   },
   "outputs": [
    {
     "data": {
      "text/html": [
       "<div>\n",
       "<table border=\"1\" class=\"dataframe\">\n",
       "  <thead>\n",
       "    <tr style=\"text-align: right;\">\n",
       "      <th></th>\n",
       "      <th>a</th>\n",
       "      <th>b</th>\n",
       "      <th>c</th>\n",
       "      <th>y1</th>\n",
       "      <th>y2</th>\n",
       "    </tr>\n",
       "  </thead>\n",
       "  <tbody>\n",
       "    <tr>\n",
       "      <th>0</th>\n",
       "      <td>0.622063</td>\n",
       "      <td>0.147337</td>\n",
       "      <td>0.321680</td>\n",
       "      <td>0.166659</td>\n",
       "      <td>0.622063</td>\n",
       "    </tr>\n",
       "    <tr>\n",
       "      <th>1</th>\n",
       "      <td>0.089455</td>\n",
       "      <td>0.423165</td>\n",
       "      <td>0.867130</td>\n",
       "      <td>0.298726</td>\n",
       "      <td>0.089455</td>\n",
       "    </tr>\n",
       "    <tr>\n",
       "      <th>2</th>\n",
       "      <td>0.209278</td>\n",
       "      <td>0.491120</td>\n",
       "      <td>0.347587</td>\n",
       "      <td>0.163670</td>\n",
       "      <td>0.209278</td>\n",
       "    </tr>\n",
       "  </tbody>\n",
       "</table>\n",
       "</div>"
      ],
      "text/plain": [
       "          a         b         c        y1        y2\n",
       "0  0.622063  0.147337  0.321680  0.166659  0.622063\n",
       "1  0.089455  0.423165  0.867130  0.298726  0.089455\n",
       "2  0.209278  0.491120  0.347587  0.163670  0.209278"
      ]
     },
     "execution_count": 5,
     "metadata": {},
     "output_type": "execute_result"
    }
   ],
   "source": [
    "df = pd.read_csv('../data/test1.csv')\n",
    "col = df.columns\n",
    "trainm = preprocessing.maxabs_scale(df, axis=0, copy=True)\n",
    "df1 = pd.DataFrame(data=trainm, columns=col)\n",
    "df1.head(3)"
   ]
  },
  {
   "cell_type": "code",
   "execution_count": 6,
   "metadata": {
    "collapsed": false
   },
   "outputs": [
    {
     "data": {
      "text/plain": [
       "1"
      ]
     },
     "execution_count": 6,
     "metadata": {},
     "output_type": "execute_result"
    }
   ],
   "source": [
    "rs = ShuffleSplit(n_splits=1, test_size=.20, random_state=0)\n",
    "rs.get_n_splits(df)"
   ]
  },
  {
   "cell_type": "code",
   "execution_count": 7,
   "metadata": {
    "collapsed": false
   },
   "outputs": [
    {
     "name": "stdout",
     "output_type": "stream",
     "text": [
      "TRAIN: [134  66  26 113 168  63   8  75 118 143  71 124 184  97 149  24  30 160\n",
      "  40  56 131  96 181  19 153  92  54 163  51  86 139  90 137 101 144  89\n",
      " 109  14  27 141 187  46 138 195 108  62   2  59 136 197  43  10 194  73\n",
      " 196 178 175 126  93 112 158 191  50   0  94 110  95  64 167  41  69  49\n",
      "  48  85  13 161  23 186 135  20  15  78 104  52 100  76   3 116 164 198\n",
      "   6  68  84 121 155 171 156  91 199  11 119 102  35  57  65   1 120 162\n",
      "  42 105 132 173  17  38 133  53 157 128  34  28 114 151  31 166 127 176\n",
      "  32 142 169 147  29  99  82  79 115 148 193  72  77  25 165  81 188 174\n",
      " 190  39  58 140  88  70  87  36  21   9 103  67 192 117  47 172] TEST: [ 18 170 107  98 177 182   5 146  12 152  61 125 180 154  80   7  33 130\n",
      "  37  74 183 145  45 159  60 123 179 185 122  44  16  55 150 111  22 189\n",
      " 129   4  83 106]\n"
     ]
    }
   ],
   "source": [
    "for train_index, test_index in rs.split(df):\n",
    "    print(\"TRAIN:\", train_index, \"TEST:\", test_index)"
   ]
  },
  {
   "cell_type": "code",
   "execution_count": 8,
   "metadata": {
    "collapsed": false
   },
   "outputs": [
    {
     "data": {
      "text/html": [
       "<div>\n",
       "<table border=\"1\" class=\"dataframe\">\n",
       "  <thead>\n",
       "    <tr style=\"text-align: right;\">\n",
       "      <th></th>\n",
       "      <th>a</th>\n",
       "      <th>b</th>\n",
       "      <th>c</th>\n",
       "      <th>y1</th>\n",
       "      <th>y2</th>\n",
       "    </tr>\n",
       "  </thead>\n",
       "  <tbody>\n",
       "    <tr>\n",
       "      <th>134</th>\n",
       "      <td>0.589902</td>\n",
       "      <td>0.671126</td>\n",
       "      <td>0.341183</td>\n",
       "      <td>0.430241</td>\n",
       "      <td>1.769707</td>\n",
       "    </tr>\n",
       "    <tr>\n",
       "      <th>66</th>\n",
       "      <td>0.011837</td>\n",
       "      <td>0.431590</td>\n",
       "      <td>0.719130</td>\n",
       "      <td>0.318881</td>\n",
       "      <td>0.035511</td>\n",
       "    </tr>\n",
       "    <tr>\n",
       "      <th>26</th>\n",
       "      <td>0.777405</td>\n",
       "      <td>0.717705</td>\n",
       "      <td>0.831068</td>\n",
       "      <td>1.242539</td>\n",
       "      <td>2.332215</td>\n",
       "    </tr>\n",
       "  </tbody>\n",
       "</table>\n",
       "</div>"
      ],
      "text/plain": [
       "            a         b         c        y1        y2\n",
       "134  0.589902  0.671126  0.341183  0.430241  1.769707\n",
       "66   0.011837  0.431590  0.719130  0.318881  0.035511\n",
       "26   0.777405  0.717705  0.831068  1.242539  2.332215"
      ]
     },
     "execution_count": 8,
     "metadata": {},
     "output_type": "execute_result"
    }
   ],
   "source": [
    "traindf = pd.DataFrame(data=df, index=train_index)\n",
    "traindf.head(3)"
   ]
  },
  {
   "cell_type": "code",
   "execution_count": 9,
   "metadata": {
    "collapsed": false
   },
   "outputs": [
    {
     "data": {
      "text/html": [
       "<div>\n",
       "<table border=\"1\" class=\"dataframe\">\n",
       "  <thead>\n",
       "    <tr style=\"text-align: right;\">\n",
       "      <th></th>\n",
       "      <th>a</th>\n",
       "      <th>b</th>\n",
       "      <th>c</th>\n",
       "      <th>y1</th>\n",
       "      <th>y2</th>\n",
       "    </tr>\n",
       "  </thead>\n",
       "  <tbody>\n",
       "    <tr>\n",
       "      <th>18</th>\n",
       "      <td>0.203861</td>\n",
       "      <td>0.378814</td>\n",
       "      <td>0.177686</td>\n",
       "      <td>0.103533</td>\n",
       "      <td>0.611584</td>\n",
       "    </tr>\n",
       "    <tr>\n",
       "      <th>170</th>\n",
       "      <td>0.688840</td>\n",
       "      <td>0.531851</td>\n",
       "      <td>0.754094</td>\n",
       "      <td>0.920515</td>\n",
       "      <td>2.066519</td>\n",
       "    </tr>\n",
       "    <tr>\n",
       "      <th>107</th>\n",
       "      <td>0.360372</td>\n",
       "      <td>0.487634</td>\n",
       "      <td>0.843383</td>\n",
       "      <td>0.715193</td>\n",
       "      <td>1.081115</td>\n",
       "    </tr>\n",
       "  </tbody>\n",
       "</table>\n",
       "</div>"
      ],
      "text/plain": [
       "            a         b         c        y1        y2\n",
       "18   0.203861  0.378814  0.177686  0.103533  0.611584\n",
       "170  0.688840  0.531851  0.754094  0.920515  2.066519\n",
       "107  0.360372  0.487634  0.843383  0.715193  1.081115"
      ]
     },
     "execution_count": 9,
     "metadata": {},
     "output_type": "execute_result"
    }
   ],
   "source": [
    "testdf = pd.DataFrame(data=df, index=test_index)\n",
    "testdf.head(3)"
   ]
  },
  {
   "cell_type": "code",
   "execution_count": 10,
   "metadata": {
    "collapsed": false
   },
   "outputs": [
    {
     "data": {
      "text/plain": [
       "True"
      ]
     },
     "execution_count": 10,
     "metadata": {},
     "output_type": "execute_result"
    }
   ],
   "source": [
    "# testdf_scaled = preprocessing.scale(testdf)\n",
    "# traindf_scaled = preprocessing.scale(traindf)\n",
    "len(traindf) == 160 and len(testdf) == 40"
   ]
  },
  {
   "cell_type": "code",
   "execution_count": 11,
   "metadata": {
    "collapsed": true
   },
   "outputs": [],
   "source": [
    "X_train = pd.DataFrame(data=traindf, columns=['a', 'b', 'c'])\n",
    "Y_train = pd.DataFrame(data=traindf, columns=['y1', 'y2'])\n",
    "X_test = pd.DataFrame(data=testdf, columns=['a', 'b', 'c'])\n",
    "Y_test = pd.DataFrame(data=testdf, columns=['y1', 'y2'])"
   ]
  },
  {
   "cell_type": "code",
   "execution_count": 12,
   "metadata": {
    "collapsed": false
   },
   "outputs": [
    {
     "data": {
      "text/plain": [
       "array([[-0.0133893 ,  0.61158362],\n",
       "       [ 0.85303623,  2.06651889],\n",
       "       [ 0.76722845,  1.0811146 ],\n",
       "       [ 0.33376524,  2.41689458],\n",
       "       [ 0.26446273,  1.70762508],\n",
       "       [ 0.8177701 ,  1.62325012],\n",
       "       [ 0.32307462,  1.75363313],\n",
       "       [ 0.56874786,  1.66468756],\n",
       "       [ 0.99760833,  1.45593516],\n",
       "       [ 0.59713324,  0.73013849],\n",
       "       [-0.07974384,  0.29097057],\n",
       "       [ 0.56781565,  1.50061887],\n",
       "       [ 0.11509854,  0.70961314],\n",
       "       [ 0.46329389,  1.13702771],\n",
       "       [ 0.82590833,  1.54034219],\n",
       "       [ 0.55068725,  0.59054972],\n",
       "       [ 0.7121467 ,  2.2373307 ],\n",
       "       [ 0.63140541,  2.6451551 ],\n",
       "       [ 0.76103129,  1.98468749],\n",
       "       [ 0.96287789,  1.54317128],\n",
       "       [ 0.60666496,  2.64302044],\n",
       "       [ 0.98684464,  2.25285545],\n",
       "       [ 0.35209884,  1.7666799 ],\n",
       "       [ 0.26677717,  1.54724406],\n",
       "       [ 1.18743731,  2.28576559],\n",
       "       [ 0.5303727 ,  2.96419331],\n",
       "       [ 0.61814839,  1.89198992],\n",
       "       [ 0.3708044 ,  0.05789819],\n",
       "       [ 1.03196633,  1.55572613],\n",
       "       [ 1.04253698,  0.94715405],\n",
       "       [ 0.44205751,  0.30854968],\n",
       "       [ 0.53588155,  0.08481303],\n",
       "       [ 0.4052877 ,  0.69173014],\n",
       "       [ 0.06788437,  1.44634317],\n",
       "       [ 0.48121161,  0.23372247],\n",
       "       [ 0.6782807 ,  1.67899708],\n",
       "       [ 0.35411455,  2.85500829],\n",
       "       [-0.0547352 ,  1.23457729],\n",
       "       [ 0.44524895,  0.16829471],\n",
       "       [ 0.25220673,  0.53311765]])"
      ]
     },
     "execution_count": 12,
     "metadata": {},
     "output_type": "execute_result"
    }
   ],
   "source": [
    "reg = linear_model.LinearRegression()\n",
    "reg.fit(X_train, Y_train)\n",
    "linear_result = reg.predict(X_test)\n",
    "linear_result"
   ]
  },
  {
   "cell_type": "code",
   "execution_count": 13,
   "metadata": {
    "collapsed": false
   },
   "outputs": [
    {
     "data": {
      "text/plain": [
       "array([[-0.0133893 ,  0.61158362],\n",
       "       [ 0.85303623,  2.06651889],\n",
       "       [ 0.76722845,  1.0811146 ],\n",
       "       [ 0.33376524,  2.41689458],\n",
       "       [ 0.26446273,  1.70762508],\n",
       "       [ 0.8177701 ,  1.62325012],\n",
       "       [ 0.32307462,  1.75363313],\n",
       "       [ 0.56874786,  1.66468756],\n",
       "       [ 0.99760833,  1.45593516],\n",
       "       [ 0.59713324,  0.73013849],\n",
       "       [-0.07974384,  0.29097057],\n",
       "       [ 0.56781565,  1.50061887],\n",
       "       [ 0.11509854,  0.70961314],\n",
       "       [ 0.46329389,  1.13702771],\n",
       "       [ 0.82590833,  1.54034219],\n",
       "       [ 0.55068725,  0.59054972],\n",
       "       [ 0.7121467 ,  2.2373307 ],\n",
       "       [ 0.63140541,  2.6451551 ],\n",
       "       [ 0.76103129,  1.98468749],\n",
       "       [ 0.96287789,  1.54317128],\n",
       "       [ 0.60666496,  2.64302044],\n",
       "       [ 0.98684464,  2.25285545],\n",
       "       [ 0.35209884,  1.7666799 ],\n",
       "       [ 0.26677717,  1.54724406],\n",
       "       [ 1.18743731,  2.28576559],\n",
       "       [ 0.5303727 ,  2.96419331],\n",
       "       [ 0.61814839,  1.89198992],\n",
       "       [ 0.3708044 ,  0.05789819],\n",
       "       [ 1.03196633,  1.55572613],\n",
       "       [ 1.04253698,  0.94715405],\n",
       "       [ 0.44205751,  0.30854968],\n",
       "       [ 0.53588155,  0.08481303],\n",
       "       [ 0.4052877 ,  0.69173014],\n",
       "       [ 0.06788437,  1.44634317],\n",
       "       [ 0.48121161,  0.23372247],\n",
       "       [ 0.6782807 ,  1.67899708],\n",
       "       [ 0.35411455,  2.85500829],\n",
       "       [-0.0547352 ,  1.23457729],\n",
       "       [ 0.44524895,  0.16829471],\n",
       "       [ 0.25220673,  0.53311765]])"
      ]
     },
     "execution_count": 13,
     "metadata": {},
     "output_type": "execute_result"
    }
   ],
   "source": [
    "reg = linear_model.LinearRegression()\n",
    "reg.fit(X_train, Y_train)\n",
    "linear_result = reg.predict(X_test)\n",
    "linear_result"
   ]
  },
  {
   "cell_type": "code",
   "execution_count": 14,
   "metadata": {
    "collapsed": false
   },
   "outputs": [
    {
     "data": {
      "text/plain": [
       "array([[ 0.15504522,  0.62410882],\n",
       "       [ 0.94258987,  2.06367173],\n",
       "       [ 0.60684557,  1.07100332],\n",
       "       [ 0.39044133,  2.4260313 ],\n",
       "       [ 0.26756044,  1.70165808],\n",
       "       [ 0.8316347 ,  1.64419902],\n",
       "       [ 0.34639838,  1.80217102],\n",
       "       [ 0.46958867,  1.66954325],\n",
       "       [ 0.95797209,  1.45505909],\n",
       "       [ 0.44284326,  0.71746858],\n",
       "       [ 0.10719925,  0.27196706],\n",
       "       [ 0.51325019,  1.47584156],\n",
       "       [ 0.10350421,  0.73169125],\n",
       "       [ 0.37365638,  1.12511466],\n",
       "       [ 0.71637365,  1.54106582],\n",
       "       [ 0.48706203,  0.60291723],\n",
       "       [ 0.73645621,  2.23524549],\n",
       "       [ 0.51579036,  2.63620654],\n",
       "       [ 0.75848587,  1.99774033],\n",
       "       [ 0.70863927,  1.54106582],\n",
       "       [ 0.7396866 ,  2.60792322],\n",
       "       [ 0.90153424,  2.25442006],\n",
       "       [ 0.38808809,  1.79389409],\n",
       "       [ 0.3456077 ,  1.54205025],\n",
       "       [ 1.30189605,  2.28128426],\n",
       "       [ 0.5460828 ,  2.95551202],\n",
       "       [ 0.52634321,  1.87896363],\n",
       "       [ 0.3833613 ,  0.04236043],\n",
       "       [ 1.02211503,  1.53814573],\n",
       "       [ 0.96968655,  0.91825343],\n",
       "       [ 0.4417839 ,  0.28776329],\n",
       "       [ 0.62258418,  0.10285453],\n",
       "       [ 0.38284224,  0.69696266],\n",
       "       [ 0.16381514,  1.4676257 ],\n",
       "       [ 0.4417839 ,  0.25517587],\n",
       "       [ 0.565442  ,  1.67062196],\n",
       "       [ 0.08017265,  2.85944869],\n",
       "       [ 0.07402462,  1.23234801],\n",
       "       [ 0.37323624,  0.20144874],\n",
       "       [ 0.3385105 ,  0.53702124]])"
      ]
     },
     "execution_count": 14,
     "metadata": {},
     "output_type": "execute_result"
    }
   ],
   "source": [
    "max_depth = 30\n",
    "\n",
    "# Random forest with multioutput regressor\n",
    "regr_multirf = MultiOutputRegressor(RandomForestRegressor(max_depth=max_depth,\n",
    "                                                          random_state=0))\n",
    "regr_multirf.fit(X_train, Y_train)\n",
    "mo_rf_result = regr_multirf.predict(X_test)\n",
    "mo_rf_result"
   ]
  },
  {
   "cell_type": "code",
   "execution_count": 15,
   "metadata": {
    "collapsed": false
   },
   "outputs": [
    {
     "data": {
      "text/plain": [
       "array([[ 0.06127   ,  0.60452084],\n",
       "       [ 0.97547184,  2.03199233],\n",
       "       [ 0.63641424,  1.17509859],\n",
       "       [ 0.38828105,  2.48104126],\n",
       "       [ 0.33284398,  1.70126009],\n",
       "       [ 0.91795154,  1.66935698],\n",
       "       [ 0.39633759,  1.74103495],\n",
       "       [ 0.35503419,  1.71304948],\n",
       "       [ 0.92455664,  1.25917362],\n",
       "       [ 0.51459831,  0.64117552],\n",
       "       [ 0.1712191 ,  0.25581403],\n",
       "       [ 0.63589766,  1.46101492],\n",
       "       [ 0.30166641,  0.66015797],\n",
       "       [ 0.45184733,  1.07632865],\n",
       "       [ 0.71161682,  1.46375987],\n",
       "       [ 0.43519672,  0.59454226],\n",
       "       [ 0.87419861,  2.104836  ],\n",
       "       [ 0.48518591,  2.65203283],\n",
       "       [ 0.84660367,  1.92226387],\n",
       "       [ 0.72810625,  1.43110344],\n",
       "       [ 0.76633891,  2.61073379],\n",
       "       [ 1.04233641,  2.21280254],\n",
       "       [ 0.41323589,  1.71716306],\n",
       "       [ 0.46607276,  1.44143655],\n",
       "       [ 1.21239056,  2.27170825],\n",
       "       [ 0.5929057 ,  2.88596593],\n",
       "       [ 0.65412505,  1.95855544],\n",
       "       [ 0.34882872,  0.0666409 ],\n",
       "       [ 0.92890863,  1.34964266],\n",
       "       [ 0.91274775,  0.94404784],\n",
       "       [ 0.41465944,  0.1424692 ],\n",
       "       [ 0.49274434,  0.07955787],\n",
       "       [ 0.35235767,  0.70179001],\n",
       "       [ 0.15403736,  1.39681198],\n",
       "       [ 0.42291995,  0.13714333],\n",
       "       [ 0.77274875,  1.8328524 ],\n",
       "       [ 0.32967785,  2.8748882 ],\n",
       "       [ 0.09385052,  1.27998983],\n",
       "       [ 0.37380103,  0.14241196],\n",
       "       [ 0.27799566,  0.54053475]])"
      ]
     },
     "execution_count": 15,
     "metadata": {},
     "output_type": "execute_result"
    }
   ],
   "source": [
    "# Just random forest\n",
    "regr_rf = RandomForestRegressor(max_depth=max_depth, random_state=2)\n",
    "regr_rf.fit(X_train, Y_train)\n",
    "y_rf = regr_rf.predict(X_test)\n",
    "y_rf"
   ]
  },
  {
   "cell_type": "code",
   "execution_count": 16,
   "metadata": {
    "collapsed": false
   },
   "outputs": [
    {
     "data": {
      "text/plain": [
       "0.0067207014475528125"
      ]
     },
     "execution_count": 16,
     "metadata": {},
     "output_type": "execute_result"
    }
   ],
   "source": [
    "mean_squared_error(Y_test, linear_result)"
   ]
  },
  {
   "cell_type": "code",
   "execution_count": 17,
   "metadata": {
    "collapsed": false
   },
   "outputs": [
    {
     "data": {
      "text/plain": [
       "0.0072324949232488497"
      ]
     },
     "execution_count": 17,
     "metadata": {},
     "output_type": "execute_result"
    }
   ],
   "source": [
    "mean_squared_error(Y_test, mo_rf_result)"
   ]
  },
  {
   "cell_type": "code",
   "execution_count": 18,
   "metadata": {
    "collapsed": false
   },
   "outputs": [
    {
     "data": {
      "text/plain": [
       "0.013725086045229326"
      ]
     },
     "execution_count": 18,
     "metadata": {},
     "output_type": "execute_result"
    }
   ],
   "source": [
    "mean_squared_error(Y_test, y_rf)"
   ]
  },
  {
   "cell_type": "code",
   "execution_count": null,
   "metadata": {
    "collapsed": true
   },
   "outputs": [],
   "source": []
  },
  {
   "cell_type": "code",
   "execution_count": null,
   "metadata": {
    "collapsed": true
   },
   "outputs": [],
   "source": []
  },
  {
   "cell_type": "code",
   "execution_count": 19,
   "metadata": {
    "collapsed": false
   },
   "outputs": [
    {
     "data": {
      "text/plain": [
       "0.065000000000000002"
      ]
     },
     "execution_count": 19,
     "metadata": {},
     "output_type": "execute_result"
    }
   ],
   "source": [
    "y1 = [1, 0.7]\n",
    "y2 = [1.2, 1]\n",
    "mean_squared_error(y1, y2)"
   ]
  },
  {
   "cell_type": "code",
   "execution_count": 20,
   "metadata": {
    "collapsed": false
   },
   "outputs": [
    {
     "data": {
      "text/plain": [
       "0.03999999999999998"
      ]
     },
     "execution_count": 20,
     "metadata": {},
     "output_type": "execute_result"
    }
   ],
   "source": [
    "y1 = [1]\n",
    "y2 = [1.2]\n",
    "mean_squared_error(y1, y2)"
   ]
  },
  {
   "cell_type": "code",
   "execution_count": 21,
   "metadata": {
    "collapsed": false
   },
   "outputs": [
    {
     "data": {
      "text/plain": [
       "0.090000000000000024"
      ]
     },
     "execution_count": 21,
     "metadata": {},
     "output_type": "execute_result"
    }
   ],
   "source": [
    "y1 = [0.7]\n",
    "y2 = [1]\n",
    "mean_squared_error(y1, y2)"
   ]
  },
  {
   "cell_type": "code",
   "execution_count": null,
   "metadata": {
    "collapsed": true
   },
   "outputs": [],
   "source": []
  }
 ],
 "metadata": {
  "anaconda-cloud": {},
  "kernelspec": {
   "display_name": "Python [conda root]",
   "language": "python",
   "name": "conda-root-py"
  },
  "language_info": {
   "codemirror_mode": {
    "name": "ipython",
    "version": 3
   },
   "file_extension": ".py",
   "mimetype": "text/x-python",
   "name": "python",
   "nbconvert_exporter": "python",
   "pygments_lexer": "ipython3",
   "version": "3.5.2"
  }
 },
 "nbformat": 4,
 "nbformat_minor": 1
}
