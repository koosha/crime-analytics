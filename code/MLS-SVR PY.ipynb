{
 "cells": [
  {
   "cell_type": "code",
   "execution_count": 1,
   "metadata": {
    "collapsed": false
   },
   "outputs": [],
   "source": [
    "import numpy as np\n",
    "import math\n",
    "import time\n",
    "\n",
    "\n",
    "def MLSSVRTrain(trnX, trnY, gamma, lambdaa, p):\n",
    "    if (len(trnX) != len(trnY)):\n",
    "        print('The number of rows in trnX and trnY must be equal.')\n",
    "        return 0, 0\n",
    "    \n",
    "    l = np.shape(trnY)[0]\n",
    "    m = np.shape(trnY)[1]\n",
    "    if not gamma or  not lambdaa:\n",
    "        gamma=1\n",
    "        lambdaa = 1\n",
    "    K = Kerfun('rbf', trnX, trnX, p, 0)\n",
    "    H = np.tile(K, (m, m))+ np.identity(m * l) / gamma\n",
    "    P = np.zeros((m*l,m))\n",
    "    for  t in range(1,m+1):\n",
    "        idx1 = l * (t - 1) + 1;\n",
    "        idx2 = l * t;\n",
    "        H[idx1-1:idx2, idx1-1:idx2] = H[idx1-1:idx2, idx1-1:idx2] + K*(m/lambdaa) \n",
    "        P[idx1-1:idx2 , t-1] = np.transpose(np.ones((l,1)))\n",
    "\n",
    "    eta, _, _, _ = np.linalg.lstsq(H,P)\n",
    "    ttrnY = np.transpose(trnY.ravel(order='F'))\n",
    "    nu, _, _, _ = np.linalg.lstsq(H,ttrnY)\n",
    "    S = np.dot(np.transpose(P),eta)\n",
    "    b = np.dot(np.dot(np.linalg.inv(S), np.transpose(eta)), ttrnY)\n",
    "    alpha = nu - np.dot(eta, b)\n",
    "    alpha = np.reshape(alpha,(l,m), order='F')\n",
    "    return alpha, b\n"
   ]
  },
  {
   "cell_type": "code",
   "execution_count": 2,
   "metadata": {
    "collapsed": false
   },
   "outputs": [],
   "source": [
    "def Kerfun(kernel,X,Z,p1,p2):\n",
    "\tsx  = np.shape(X)\n",
    "\tsz  = np.shape(Z)\n",
    "\tif sx[1] != sz[1]:\n",
    "\t\tK = []\n",
    "\t\tprint(\"The second dimensions for X and Z must be agree.\")\n",
    "\t\treturn K\n",
    "\n",
    "\tif kernel.lower() == 'linear':\n",
    "\t\tK = np.dot(X,np.transpose(Z))\n",
    "\telif kernel.lower() == 'poly':\n",
    "\t\tK = np.power((np.dot(X,np.transpose(Z))+p1),p2)\n",
    "\telif kernel.lower() == 'rbf':\n",
    "\t\tK = np.exp(-p1*(np.tile(np.sum(X*X, axis=1),(sz[0],1)).T+np.tile(np.transpose(np.sum(Z*Z, axis=1)),(sx[0],1))-2*X.dot(np.transpose(Z))))\n",
    "\telif kernel.lower() == 'erbf':\n",
    "\t\tK = np.exp(-np.sqrt(np.tile(np.sum(X*X, axis=1),(sz[0],1)).T+np.tile(np.transpose(np.sum(Z*Z, axis=1)),(sx[0],1))-2*X.dot(np.transpose(Z)))/(2*p1**2))+p2\n",
    "\telif kernel.lower() == 'sigmoid':\n",
    "\t\tK = np.tanh(p1*X.dot(np.transpose(Z))/sx[1]+p2)\n",
    "\telse:\n",
    "\t\tK = X.dot(np.transpose(Z))+p1+p2\n",
    "\treturn K\n",
    "\n"
   ]
  },
  {
   "cell_type": "code",
   "execution_count": 3,
   "metadata": {
    "collapsed": false
   },
   "outputs": [],
   "source": [
    "import numpy as np\n",
    "import math\n",
    "\n",
    "\n",
    "\n",
    "\n",
    "def MLSSVRPredict(tstX, tstY, trnX, alpha, b, lambdaa, p):\n",
    "    if np.shape(tstY)[1] != len(b):\n",
    "        print('The number of column in tstY and b must be equal.')\n",
    "        return\n",
    "\n",
    "    m = np.shape(tstY)[1]\n",
    "    l = np.shape(trnX)[0]\n",
    "    \n",
    "    if (np.shape(alpha)[0] != l or np.shape(alpha)[1] != m):\n",
    "        print('The size of alpha should be ' + l + '*' + m)\n",
    "        return\n",
    "\n",
    "    tstN = np.shape(tstX)[0];\n",
    "    b = np.transpose(b.ravel(order='F'))\n",
    "    K = Kerfun('rbf', tstX, trnX, p, 0)\n",
    "    predictY = np.transpose(np.tile(np.transpose(np.sum(np.dot(K,alpha),axis=1)), (m,1 ))) + np.dot(K,alpha)*(m/lambdaa) + np.tile(np.transpose(b), (tstN, 1))\n",
    "\n",
    "\n",
    "    TSE = np.zeros((1,m))\n",
    "    R2 = np.zeros((1,m))\n",
    "    for t in range(m):\n",
    "        ppp = predictY[:, t]\n",
    "        ttt = tstY[:, t]\n",
    "   \n",
    "        TSE[0,t] = np.sum((ppp-ttt)**2)\n",
    "        R = np.corrcoef(ppp, tstY[:,t])\n",
    "        if (len(R)>1):\n",
    "            R2[0,t] = R[0,1]**2\n",
    "    return predictY, TSE, R2\n"
   ]
  },
  {
   "cell_type": "code",
   "execution_count": 21,
   "metadata": {
    "collapsed": false
   },
   "outputs": [],
   "source": [
    "import random\n",
    "import numpy as np\n",
    "import math\n",
    "def GridMLSSVR(trnX,trnY,fold):\n",
    "    gamma = np.power(np.arange(-5, 15, 2),2)\n",
    "    lambdaa = np.power(np.arange(-10, 10, 2),2)\n",
    "    p = np.power(np.arange(-15, 3, 2),2)\n",
    "    tYs = np.shape(trnY)\n",
    "    m = tYs[1]\n",
    "\n",
    "    trnX,trnY = random_perm(trnX, trnY);\n",
    "\n",
    "    MSE_best = math.inf\n",
    "\n",
    "    MSE = np.zeros((fold, m))\n",
    "    curR2 = np.zeros((1, m))\n",
    "    R2 = np.zeros((1, m))\n",
    "\n",
    "    sp = np.shape(p)\n",
    "    sg = np.shape(gamma)\n",
    "    sl = np.shape(lambdaa)\n",
    "    for i in range(sg[0]):\n",
    "        for j in range(sl[0]):\n",
    "            for k in range(sp[0]):\n",
    "                predictY = []\n",
    "                for v in range(fold):\n",
    "                    train_inst, train_lbl, test_inst, test_lbl = folding(trnX, trnY, fold, v)\n",
    "                    \n",
    "                    alpha, b = MLSSVRTrain(train_inst, train_lbl, gamma[i], lambdaa[j], p[k])\n",
    "                    tmpY, ms, xx = MLSSVRPredict(test_inst, test_lbl,train_inst,alpha,b,lambdaa[j],p[k])\n",
    "                    MSE[v,:] = ms\n",
    "\n",
    "                    if not np.shape(predictY)[0]:\n",
    "                        predictY = tmpY\n",
    "                    else:\n",
    "                        predictY = np.concatenate((predictY, tmpY), axis=0)\n",
    "\n",
    "                sy = np.shape(trnY)\n",
    "                curMSE = np.sum(MSE)/ (sy[0]*sy[1])\n",
    "\n",
    "                if MSE_best > curMSE:\n",
    "                    gamma_best = gamma[i]\n",
    "                    lambda_best = lambdaa[j]\n",
    "                    p_best = p[k]\n",
    "                    MSE_best = curMSE\n",
    "    return gamma_best, lambda_best, p_best, MSE_best\n",
    "\n",
    "                    \n",
    "\n",
    "\n",
    "\n",
    "def random_perm(svm_inst, svm_lbl):\n",
    "    \n",
    "    random.seed(a=1, version=2)\n",
    "    n = np.shape(svm_inst)[0]\n",
    "    for i in range(n):\n",
    "        k = round(i + (n - i) * random.random())-1\n",
    "        svm_inst[[k, i], :] = svm_inst[[i, k], :]\n",
    "        svm_lbl[[k, i], :] = svm_lbl[[i, k], :]\n",
    "    return svm_inst, svm_lbl\n",
    "\n",
    "\n",
    "\n",
    "\n",
    "def folding(svm_inst, svm_lbl, fold, k):\n",
    "    n = np.shape(svm_inst)[0]\n",
    "    start_index = round((k - 1)*n/fold) + 1;\n",
    "    end_index = round(k*n/fold);\n",
    "    test_index = [start_index, end_index]\n",
    "\n",
    "    test_inst = svm_inst[test_index, :];\n",
    "    test_lbl = svm_lbl[test_index, :];\n",
    "\n",
    "    train_inst = svm_inst;\n",
    "    #train_inst[test_index, :] = [];\n",
    "    np.delete(train_inst, test_index, axis=0)\n",
    "    train_lbl = svm_lbl;\n",
    "    #train_lbl[test_index, :] = [];\n",
    "    np.delete(train_lbl, test_index, axis=0)\n",
    "\n",
    "    return train_inst, train_lbl, test_inst, test_lbl\n"
   ]
  },
  {
   "cell_type": "code",
   "execution_count": 4,
   "metadata": {
    "collapsed": false
   },
   "outputs": [],
   "source": [
    "import pandas as pd\n",
    "df = pd.read_csv('../data/test1.csv')"
   ]
  },
  {
   "cell_type": "code",
   "execution_count": 5,
   "metadata": {
    "collapsed": false
   },
   "outputs": [],
   "source": [
    "\n",
    "import pandas as pd\n",
    "import numpy as np\n",
    "import matplotlib.pyplot as plt\n",
    "\n",
    "from sklearn import preprocessing, linear_model\n",
    "from sklearn.metrics import mean_squared_error\n",
    "from sklearn.model_selection import ShuffleSplit\n",
    "from sklearn.ensemble import RandomForestRegressor\n",
    "from sklearn.multioutput import MultiOutputRegressor\n",
    "def train_test_spliter(df, random_seed=0, test_size=0.20, n_splits=1):\n",
    "    trainm = preprocessing.maxabs_scale(df, axis=0, copy=True)\n",
    "    col = df.columns\n",
    "    df1 = pd.DataFrame(data=trainm, columns=col)\n",
    "    rs = ShuffleSplit(n_splits=n_splits, test_size=test_size, random_state=random_seed)\n",
    "    for train_index, test_index in rs.split(df):\n",
    "        pass\n",
    "    traindf = pd.DataFrame(data=df, index=train_index)\n",
    "    testdf = pd.DataFrame(data=df, index=test_index)\n",
    "    return traindf, testdf"
   ]
  },
  {
   "cell_type": "code",
   "execution_count": 26,
   "metadata": {
    "collapsed": false
   },
   "outputs": [],
   "source": [
    "traindf, testdf = train_test_spliter(df)"
   ]
  },
  {
   "cell_type": "code",
   "execution_count": 7,
   "metadata": {
    "collapsed": false
   },
   "outputs": [],
   "source": [
    "train_m = traindf.values"
   ]
  },
  {
   "cell_type": "code",
   "execution_count": 8,
   "metadata": {
    "collapsed": true
   },
   "outputs": [],
   "source": [
    "test_m = testdf.values"
   ]
  },
  {
   "cell_type": "code",
   "execution_count": 9,
   "metadata": {
    "collapsed": false
   },
   "outputs": [],
   "source": [
    "train_instance =train_m[:,0:3]"
   ]
  },
  {
   "cell_type": "code",
   "execution_count": 10,
   "metadata": {
    "collapsed": true
   },
   "outputs": [],
   "source": [
    "train_label = train_m[:,3:5]"
   ]
  },
  {
   "cell_type": "code",
   "execution_count": 11,
   "metadata": {
    "collapsed": true
   },
   "outputs": [],
   "source": [
    "test_instance =test_m[:,0:3]"
   ]
  },
  {
   "cell_type": "code",
   "execution_count": 12,
   "metadata": {
    "collapsed": true
   },
   "outputs": [],
   "source": [
    "test_label = test_m[:,3:5]"
   ]
  },
  {
   "cell_type": "code",
   "execution_count": 13,
   "metadata": {
    "collapsed": true
   },
   "outputs": [],
   "source": [
    "X = train_instance\n",
    "Z = train_instance"
   ]
  },
  {
   "cell_type": "code",
   "execution_count": null,
   "metadata": {
    "collapsed": false
   },
   "outputs": [],
   "source": [
    "K = np.exp(-1*(np.tile(np.sum(X*X, axis=1),(sz[0],1)).T+np.tile(np.transpose(np.sum(Z*Z, axis=1)),(sx[0],1))-2*X.dot(np.transpose(Z))))"
   ]
  },
  {
   "cell_type": "code",
   "execution_count": null,
   "metadata": {
    "collapsed": false
   },
   "outputs": [],
   "source": [
    "import scipy.io as sio\n",
    "sio.savemat('trnX.mat',{'Matrix1':train_instance})\n",
    "sio.savemat('trnY.mat',{'Matrix1':train_label})\n",
    "sio.savemat('tstX.mat',{'Matrix1':test_instance})\n",
    "sio.savemat('tstY.mat',{'Matrix1':test_label})"
   ]
  },
  {
   "cell_type": "code",
   "execution_count": 14,
   "metadata": {
    "collapsed": false
   },
   "outputs": [],
   "source": [
    "alpha,b = MLSSVRTrain(train_instance,train_label,1,1,1)"
   ]
  },
  {
   "cell_type": "code",
   "execution_count": null,
   "metadata": {
    "collapsed": false
   },
   "outputs": [],
   "source": [
    "MLSSVRPredict(test_instance, test_label, train_instance, alpha, b, 1, 1)"
   ]
  },
  {
   "cell_type": "code",
   "execution_count": 28,
   "metadata": {
    "collapsed": false
   },
   "outputs": [
    {
     "name": "stderr",
     "output_type": "stream",
     "text": [
      "/Users/Kulbear/anaconda/lib/python3.5/site-packages/numpy/lib/function_base.py:4310: FutureWarning: in the future negative indices will not be ignored by `numpy.delete`.\n",
      "  \"`numpy.delete`.\", FutureWarning)\n"
     ]
    }
   ],
   "source": [
    "trnX = train_instance\n",
    "trnY = train_label\n",
    "gamma_best, lambda_best, p_best, MSE_best = GridMLSSVR(trnX,trnY,5)"
   ]
  },
  {
   "cell_type": "code",
   "execution_count": 29,
   "metadata": {
    "collapsed": true
   },
   "outputs": [],
   "source": [
    "alpha,b = MLSSVRTrain(train_instance,train_label,gamma_best,lambda_best, p_best)"
   ]
  },
  {
   "cell_type": "code",
   "execution_count": 30,
   "metadata": {
    "collapsed": false
   },
   "outputs": [
    {
     "data": {
      "text/plain": [
       "(array([[ 0.09775068,  0.58191474],\n",
       "        [ 0.85833902,  2.02129018],\n",
       "        [ 0.71235429,  1.0754867 ],\n",
       "        [ 0.30791839,  2.47933833],\n",
       "        [ 0.27987689,  1.69218858],\n",
       "        [ 0.96028704,  1.63338285],\n",
       "        [ 0.32607547,  1.7290909 ],\n",
       "        [ 0.56928159,  1.62021161],\n",
       "        [ 1.16633211,  1.4346901 ],\n",
       "        [ 0.46158372,  0.73371174],\n",
       "        [ 0.03763364,  0.19991961],\n",
       "        [ 0.49851494,  1.53597745],\n",
       "        [ 0.13167075,  0.7593729 ],\n",
       "        [ 0.43049893,  1.13138277],\n",
       "        [ 0.78857616,  1.55285531],\n",
       "        [ 0.56473995,  0.636297  ],\n",
       "        [ 0.68558722,  2.21831356],\n",
       "        [ 0.54325872,  2.66079606],\n",
       "        [ 0.76211686,  1.95544598],\n",
       "        [ 0.80837568,  1.53794821],\n",
       "        [ 0.55564975,  2.26977522],\n",
       "        [ 1.05892341,  2.25964809],\n",
       "        [ 0.35744775,  1.74742411],\n",
       "        [ 0.29845019,  1.53618925],\n",
       "        [ 1.40612547,  2.19739105],\n",
       "        [ 0.49486454,  2.04309745],\n",
       "        [ 0.62235759,  1.91928615],\n",
       "        [ 0.38614102,  0.1327358 ],\n",
       "        [ 1.09180796,  1.47637161],\n",
       "        [ 0.94800672,  1.13360841],\n",
       "        [ 0.32403001,  0.93292027],\n",
       "        [ 0.42731018,  0.21242981],\n",
       "        [ 0.37702869,  0.70969398],\n",
       "        [ 0.08952517,  1.43678308],\n",
       "        [ 0.30913086,  0.60977842],\n",
       "        [ 0.73596734,  1.65786412],\n",
       "        [ 0.1425106 ,  2.68264293],\n",
       "        [-0.00449228,  1.23209009],\n",
       "        [ 0.46487643,  0.18806433],\n",
       "        [ 0.26407622,  0.54927083]]),\n",
       " array([[ 0.17006373,  1.64828682]]),\n",
       " array([[ 0.97127343,  0.94350646]]))"
      ]
     },
     "execution_count": 30,
     "metadata": {},
     "output_type": "execute_result"
    }
   ],
   "source": [
    "MLSSVRPredict(test_instance, test_label, train_instance, alpha, b, lambda_best, p_best)"
   ]
  },
  {
   "cell_type": "code",
   "execution_count": 31,
   "metadata": {
    "collapsed": true
   },
   "outputs": [],
   "source": [
    "a = [[ 0.09775068,  0.58191474],\n",
    "        [ 0.85833902,  2.02129018],\n",
    "        [ 0.71235429,  1.0754867 ],\n",
    "        [ 0.30791839,  2.47933833],\n",
    "        [ 0.27987689,  1.69218858],\n",
    "        [ 0.96028704,  1.63338285],\n",
    "        [ 0.32607547,  1.7290909 ],\n",
    "        [ 0.56928159,  1.62021161],\n",
    "        [ 1.16633211,  1.4346901 ],\n",
    "        [ 0.46158372,  0.73371174],\n",
    "        [ 0.03763364,  0.19991961],\n",
    "        [ 0.49851494,  1.53597745],\n",
    "        [ 0.13167075,  0.7593729 ],\n",
    "        [ 0.43049893,  1.13138277],\n",
    "        [ 0.78857616,  1.55285531],\n",
    "        [ 0.56473995,  0.636297  ],\n",
    "        [ 0.68558722,  2.21831356],\n",
    "        [ 0.54325872,  2.66079606],\n",
    "        [ 0.76211686,  1.95544598],\n",
    "        [ 0.80837568,  1.53794821],\n",
    "        [ 0.55564975,  2.26977522],\n",
    "        [ 1.05892341,  2.25964809],\n",
    "        [ 0.35744775,  1.74742411],\n",
    "        [ 0.29845019,  1.53618925],\n",
    "        [ 1.40612547,  2.19739105],\n",
    "        [ 0.49486454,  2.04309745],\n",
    "        [ 0.62235759,  1.91928615],\n",
    "        [ 0.38614102,  0.1327358 ],\n",
    "        [ 1.09180796,  1.47637161],\n",
    "        [ 0.94800672,  1.13360841],\n",
    "        [ 0.32403001,  0.93292027],\n",
    "        [ 0.42731018,  0.21242981],\n",
    "        [ 0.37702869,  0.70969398],\n",
    "        [ 0.08952517,  1.43678308],\n",
    "        [ 0.30913086,  0.60977842],\n",
    "        [ 0.73596734,  1.65786412],\n",
    "        [ 0.1425106 ,  2.68264293],\n",
    "        [-0.00449228,  1.23209009],\n",
    "        [ 0.46487643,  0.18806433],\n",
    "        [ 0.26407622,  0.54927083]]"
   ]
  },
  {
   "cell_type": "code",
   "execution_count": 33,
   "metadata": {
    "collapsed": false
   },
   "outputs": [
    {
     "data": {
      "text/plain": [
       "0.022729381885691569"
      ]
     },
     "execution_count": 33,
     "metadata": {},
     "output_type": "execute_result"
    }
   ],
   "source": [
    "from sklearn.metrics import mean_squared_error\n",
    "\n",
    "mean_squared_error(a, test_label)"
   ]
  },
  {
   "cell_type": "code",
   "execution_count": null,
   "metadata": {
    "collapsed": true
   },
   "outputs": [],
   "source": []
  }
 ],
 "metadata": {
  "anaconda-cloud": {},
  "kernelspec": {
   "display_name": "Python [conda root]",
   "language": "python",
   "name": "conda-root-py"
  },
  "language_info": {
   "codemirror_mode": {
    "name": "ipython",
    "version": 3
   },
   "file_extension": ".py",
   "mimetype": "text/x-python",
   "name": "python",
   "nbconvert_exporter": "python",
   "pygments_lexer": "ipython3",
   "version": "3.5.2"
  }
 },
 "nbformat": 4,
 "nbformat_minor": 1
}
