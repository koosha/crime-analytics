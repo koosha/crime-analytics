{
 "cells": [
  {
   "cell_type": "code",
   "execution_count": 379,
   "metadata": {
    "collapsed": false
   },
   "outputs": [],
   "source": [
    "import numpy as np\n",
    "import math\n",
    "\n",
    "\n",
    "\n",
    "def MLSSVRTrain(trnX, trnY, gamma, lambdaa, p):\n",
    "    if (len(trnX) != len(trnY)):\n",
    "        print('The number of rows in trnX and trnY must be equal.')\n",
    "        return 0, 0\n",
    "    \n",
    "    l = np.shape(trnY)[0]\n",
    "    m = np.shape(trnY)[1]\n",
    "    if not gamma or  not lambdaa:\n",
    "        gamma=1\n",
    "        lambdaa = 1\n",
    "    K = Kerfun('rbf', trnX, trnX, p, 0)\n",
    "    H = np.tile(K, (m, m))+ np.identity(m * l) / gamma\n",
    "\n",
    "    P = np.zeros((m*l,m))\n",
    "    print(K)\n",
    "    print(H)\n",
    "    for  t in range(1,m+1):\n",
    "        idx1 = l * (t - 1) + 1;\n",
    "        idx2 = l * t;\n",
    "#dangerous index\n",
    "        # for i in xrange(idx1,idx2):\n",
    "        #     for j in xrange(idx1,idx2):\n",
    "        #         H(i,j) = H(i,j)+ K*(m/lambda)\n",
    "        #     P(i , t) = np.ones((l,1))\n",
    "        H[idx1-1:idx2, idx1-1:idx2] = H[idx1-1:idx2, idx1-1:idx2] + K*(m/lambdaa) \n",
    "        P[idx1-1:idx2 , t-1] = np.transpose(np.ones((l,1)))\n",
    "\n",
    "\n",
    "    eta, _, _, _ = np.linalg.lstsq(H,P)\n",
    "    ttrnY = np.transpose(trnY.ravel())\n",
    "    nu, _, _, _ = np.linalg.lstsq(H,ttrnY)\n",
    "    S = np.dot(np.transpose(P),eta)\n",
    "    b = np.dot(np.dot(np.linalg.inv(S), np.transpose(eta)), ttrnY)\n",
    "    alpha = nu - np.dot(eta, b)\n",
    "    alpha = np.reshape(alpha,(l,m))\n",
    "\n",
    "    return alpha, b\n"
   ]
  },
  {
   "cell_type": "code",
   "execution_count": 419,
   "metadata": {
    "collapsed": false
   },
   "outputs": [
    {
     "ename": "SyntaxError",
     "evalue": "invalid syntax (<ipython-input-419-38683b6bc0fa>, line 14)",
     "output_type": "error",
     "traceback": [
      "\u001b[0;36m  File \u001b[0;32m\"<ipython-input-419-38683b6bc0fa>\"\u001b[0;36m, line \u001b[0;32m14\u001b[0m\n\u001b[0;31m    K = np.exp(-p1*np.tile(np.sum(train_instance*train_instance, axis=1),(sz[0],1))+np.tile(np.transpose(np.sum(Z*Z, axis=1)),(sx[0],1))-2*X.dot(np.transpose(Z)))\telif kernel.lower == 'erbf':\u001b[0m\n\u001b[0m                                                                                                                                                                  \t   ^\u001b[0m\n\u001b[0;31mSyntaxError\u001b[0m\u001b[0;31m:\u001b[0m invalid syntax\n"
     ]
    }
   ],
   "source": [
    "def Kerfun(kernel,X,Z,p1,p2):\n",
    "\tsx  = np.shape(X)\n",
    "\tsz  = np.shape(Z)\n",
    "\tif sx[1] != sz[1]:\n",
    "\t\tK = []\n",
    "\t\tprint(\"The second dimensions for X and Z must be agree.\")\n",
    "\t\treturn K\n",
    "\n",
    "\tif kernel.lower == 'linear':\n",
    "\t\tK = np.dot(X,np.transpose(Z))\n",
    "\telif kernel.lower == 'poly':\n",
    "\t\tK = np.power((np.dot(X,np.transpose(Z))+p1),p2)\n",
    "\telif kernel.lower == 'rbf':\n",
    "\t\tK = np.exp(-p1*np.tile(np.sum(train_instance*train_instance, axis=1),(sz[0],1))+np.tile(np.transpose(np.sum(Z*Z, axis=1)),(sx[0],1))-2*X.dot(np.transpose(Z)))\telif kernel.lower == 'erbf':\n",
    "\t\t#K = np.exp(-p1*np.tile(np.sum(X*X, axis=1),(1,sz[0]))+np.transpose(np.sum(Z*Z, axis=1)).reshape(sx[0],1)-2*X.dot(np.transpose(Z)))/(2*np.power(p1,2))+p2\n",
    "\telif kernel.lower == 'sigmoid':\n",
    "\t\tK = np.tanh(p1*X.dot(np.transpose(Z))/sx[1]+p2)\n",
    "\telse:\n",
    "\t\tK = X.dot(np.transpose(Z))+p1+p2\n",
    "\treturn K\n",
    "\n"
   ]
  },
  {
   "cell_type": "code",
   "execution_count": 298,
   "metadata": {
    "collapsed": false
   },
   "outputs": [],
   "source": [
    "import numpy as np\n",
    "import math\n",
    "\n",
    "\n",
    "\n",
    "\n",
    "def MLSSVRPredict(tstX, tstY, trnX, alpha, b, lambdaa, p):\n",
    "    if np.shape(tstY)[1] != len(b):\n",
    "        print('The number of column in tstY and b must be equal.')\n",
    "        return\n",
    "\n",
    "    #m = len(tstY.columns);\n",
    "    m = np.shape(tstY)[1]\n",
    "    #l = len(trnX);\n",
    "    l = np.shape(trnX)[0]\n",
    "    \n",
    "    if (np.shape(alpha)[0] != l or np.shape(alpha)[1] != m):\n",
    "        print('The size of alpha should be ' + l + '*' + m)\n",
    "        return\n",
    "\n",
    "    tstN = np.shape(tstX)[0];\n",
    "    #b = np.reshape(b,[],1)\n",
    "    b = np.transpose(b.ravel())\n",
    "\n",
    "    K = Kerfun('rbf', tstX, trnX, p, 0)\n",
    "    #predictY = repmat( sum(K*alpha, 2), 1, m) + K*alpha*(m/lambda) + repmat(b', tstN, 1);\n",
    "\n",
    "    #predictY = np.tile(np.sum(np.dot(K,alpha), axis=1), (l, m)) + np.dot(K,alpha)*(m/lambdaa) + np.tile(np.transpose(b), (tstN, l))\n",
    "    predictY = np.transpose(np.tile(np.transpose(np.sum(np.dot(K,alpha),axis=1)), (m,1 ))) + np.dot(K,alpha)*(m/lambdaa) + np.tile(np.transpose(b), (tstN, 1))\n",
    "\n",
    "\n",
    "    TSE = np.zeros((1,m))\n",
    "    R2 = np.zeros((1,m))\n",
    "    for t in range(m):\n",
    "        ppp = predictY[:, t]\n",
    "        ttt = tstY[:, t]\n",
    "   \n",
    "        TSE[0,t] = np.sum((ppp-ttt)**2)\n",
    "        R = np.corrcoef(ppp, tstY[:,t])\n",
    "        if (len(R)>1):\n",
    "            R2[0,t] = R[0,1]**2\n",
    "    return predictY, TSE, R2\n"
   ]
  },
  {
   "cell_type": "code",
   "execution_count": 420,
   "metadata": {
    "collapsed": false
   },
   "outputs": [],
   "source": [
    "import random\n",
    "import numpy as np\n",
    "import math\n",
    "def GridMLSSVR(trnX,trnY,fold):\n",
    "\n",
    " \tgamma = np.power(np.arange(-5, 15, 2),2)\n",
    " \tlambdaa = np.power(np.arange(-10, 10, 2),2)\n",
    " \tp = np.power(np.arange(-15, 3, 2),2)\n",
    " \ttYs = np.shape(trnY)\n",
    " \tm = tYs[1]\n",
    "\n",
    " \ttrnX,trnY = random_perm(trnX, trnY);\n",
    "\n",
    " \tMSE_best =  math.inf\n",
    "\n",
    " \tMSE = np.zeros((fold, m))\n",
    " \tcurR2 = np.zeros((1, m))\n",
    " \tR2 = np.zeros((1, m))\n",
    "\n",
    " \tsp = np.shape(p)\n",
    " \tsg = np.shape(gamma)\n",
    " \tsl = np.shape(lambdaa)\n",
    " \tfor i in range(sg[0]):\n",
    " \t\tfor j in range(sl[0]):\n",
    " \t\t\tfor k in range(sp[0]):\n",
    " \t\t\t\tpredictY = []\n",
    " \t\t\t\tfor v in range(fold):\n",
    " \t\t\t\t\ttrain_inst, train_lbl, test_inst, test_lbl = folding(trnX, trnY, fold, v)\n",
    " \t\t\t\t\tprint(train_inst)\n",
    " \t\t\t\t\tprint(train_lbl)\n",
    " \t\t\t\t\tprint(test_inst)\n",
    " \t\t\t\t\tprint(test_lbl)\n",
    " \t\t\t\t\treturn\n",
    " \t\t\t\t\t\n",
    " \t\t\t\t\talpha, b = MLSSVRTrain(train_inst, train_lbl, gamma[i], lambdaa[j], p[k])\n",
    " \t\t\t\t\ttmpY, ms, xx = MLSSVRPredict(test_inst, test_lbl,train_inst,alpha,b,lambdaa[j],p[k])\n",
    " \t\t\t\t\ttmpY, ms, xx = MLSSVRPredict(test_inst, test_lbl,train_inst,alpha,b,lambdaa[j],p[k])\n",
    " \t\t\t\t\ttmpY, ms, xx = MLSSVRPredict(test_inst, test_lbl,train_inst,alpha,b,lambdaa[j],p[k])\n",
    " \t\t\t\t\tMSE[v,:] = ms\n",
    "\n",
    " \t\t\t\t\tif not np.shape(predictY)[0]:\n",
    " \t\t\t\t\t\tpredictY = tmpY\n",
    " \t\t\t\t\telse:\t\n",
    " \t\t\t\t\t\tpredictY = np.concatenate((predictY, tmpY), axis=0)\n",
    "\n",
    " \t\t\t\tsy = np.shape(trnY)\t\t\n",
    " \t\t\t\tcurMSE = np.sum(MSE)/ (sy[0]*sy[1]); \t\t\n",
    "\n",
    " \t\t\t\tif MSE_best > curMSE:\n",
    " \t\t\t\t    gamma_best = gamma[i]\n",
    " \t\t\t\t    lambda_best = lambdaa[j]\n",
    " \t\t\t\t    p_best = p[k]\n",
    "\n",
    " \t#print('gamma = ' + str(math.log2(gamma[i]) + ' lambda = ' +str(math.log2(lambdaa[j])) + ' p = ' +str(math.log2(p[k])) +' mean_MSE = ' + str(curMSE) +' (best :' +str(math.log2(gamma_best))+' '+ str(math.log2(lambda_best))+' ' +str(math.log2(p_best))+' '+str(MSE_best)))\n",
    " \tprint(math.log2(gamma_best))\n",
    " \tprint(math.log2(lambda_best))\n",
    " \tprint(math.log2(p_best))\n",
    " \tprint(MSE_best)\n",
    "\n",
    "\n",
    "def random_perm(svm_inst, svm_lbl):\n",
    "    \n",
    "    random.seed(a=1, version=2)\n",
    "    n = np.shape(svm_inst)[0]\n",
    "    for i in range(n):\n",
    "        k = round(i + (n - i) * random.random())-1\n",
    "        svm_inst[[k, i], :] = svm_inst[[i, k], :]\n",
    "        svm_lbl[[k, i], :] = svm_lbl[[i, k], :]\n",
    "    return svm_inst, svm_lbl\n",
    "\n",
    "\n",
    "\n",
    "\n",
    "def folding(svm_inst, svm_lbl, fold, k):\n",
    "    n = np.shape(svm_inst)[0]\n",
    "    start_index = round((k - 1)*n/fold) + 1;\n",
    "    end_index = round(k*n/fold);\n",
    "    test_index = [start_index, end_index]\n",
    "\n",
    "    test_inst = svm_inst[test_index, :];\n",
    "    test_lbl = svm_lbl[test_index, :];\n",
    "\n",
    "    train_inst = svm_inst;\n",
    "    #train_inst[test_index, :] = [];\n",
    "    np.delete(train_inst, test_index, axis=0)\n",
    "    train_lbl = svm_lbl;\n",
    "    #train_lbl[test_index, :] = [];\n",
    "    np.delete(train_lbl, test_index, axis=0)\n",
    "\n",
    "    return train_inst, train_lbl, test_inst, test_lbl\n"
   ]
  },
  {
   "cell_type": "code",
   "execution_count": 283,
   "metadata": {
    "collapsed": false
   },
   "outputs": [],
   "source": [
    "import pandas as pd\n",
    "df = pd.read_csv('test1.csv')"
   ]
  },
  {
   "cell_type": "code",
   "execution_count": 284,
   "metadata": {
    "collapsed": false
   },
   "outputs": [],
   "source": [
    "\n",
    "import pandas as pd\n",
    "import numpy as np\n",
    "import matplotlib.pyplot as plt\n",
    "\n",
    "from sklearn import preprocessing, linear_model\n",
    "from sklearn.metrics import mean_squared_error\n",
    "from sklearn.model_selection import ShuffleSplit\n",
    "from sklearn.ensemble import RandomForestRegressor\n",
    "from sklearn.multioutput import MultiOutputRegressor\n",
    "def train_test_spliter(df, random_seed=0, test_size=0.20, n_splits=1):\n",
    "    trainm = preprocessing.maxabs_scale(df, axis=0, copy=True)\n",
    "    col = df.columns\n",
    "    df1 = pd.DataFrame(data=trainm, columns=col)\n",
    "    rs = ShuffleSplit(n_splits=n_splits, test_size=test_size, random_state=random_seed)\n",
    "    for train_index, test_index in rs.split(df):\n",
    "        pass\n",
    "    traindf = pd.DataFrame(data=df, index=train_index)\n",
    "    testdf = pd.DataFrame(data=df, index=test_index)\n",
    "    return traindf, testdf"
   ]
  },
  {
   "cell_type": "code",
   "execution_count": 285,
   "metadata": {
    "collapsed": false
   },
   "outputs": [],
   "source": [
    "traindf, testdf = train_test_spliter(df)"
   ]
  },
  {
   "cell_type": "code",
   "execution_count": 286,
   "metadata": {
    "collapsed": false
   },
   "outputs": [],
   "source": [
    "train_m = traindf.values"
   ]
  },
  {
   "cell_type": "code",
   "execution_count": 287,
   "metadata": {
    "collapsed": true
   },
   "outputs": [],
   "source": [
    "test_m = testdf.values"
   ]
  },
  {
   "cell_type": "code",
   "execution_count": 288,
   "metadata": {
    "collapsed": false
   },
   "outputs": [],
   "source": [
    "train_instance =train_m[:,0:3]"
   ]
  },
  {
   "cell_type": "code",
   "execution_count": 289,
   "metadata": {
    "collapsed": true
   },
   "outputs": [],
   "source": [
    "train_label = train_m[:,3:5]"
   ]
  },
  {
   "cell_type": "code",
   "execution_count": 290,
   "metadata": {
    "collapsed": true
   },
   "outputs": [],
   "source": [
    "test_instance =test_m[:,0:3]"
   ]
  },
  {
   "cell_type": "code",
   "execution_count": 291,
   "metadata": {
    "collapsed": true
   },
   "outputs": [],
   "source": [
    "test_label = test_m[:,3:5]"
   ]
  },
  {
   "cell_type": "code",
   "execution_count": 324,
   "metadata": {
    "collapsed": false
   },
   "outputs": [],
   "source": [
    "import scipy.io as sio\n",
    "sio.savemat('trnX.mat',{'Matrix1':train_instance})\n",
    "sio.savemat('trnY.mat',{'Matrix1':train_label})\n",
    "sio.savemat('tstX.mat',{'Matrix1':test_instance})\n",
    "sio.savemat('tstY.mat',{'Matrix1':test_label})"
   ]
  },
  {
   "cell_type": "code",
   "execution_count": 421,
   "metadata": {
    "collapsed": false
   },
   "outputs": [
    {
     "name": "stdout",
     "output_type": "stream",
     "text": [
      "[[ 8.41832829  8.52816251  8.44793758 ...,  8.26948624  8.423839\n",
      "   8.70830761]\n",
      " [ 8.52816251  9.59113502  8.77757487 ...,  9.06463991  8.60083841\n",
      "   9.69232423]\n",
      " [ 8.44793758  8.77757487  8.87336361 ...,  8.28283474  8.46469128\n",
      "   8.86601267]\n",
      " ..., \n",
      " [ 8.26948624  9.06463991  8.28283474 ...,  8.82696161  8.32664475\n",
      "   9.11934792]\n",
      " [ 8.423839    8.60083841  8.46469128 ...,  8.32664475  8.43414658\n",
      "   8.77530364]\n",
      " [ 8.70830761  9.69232423  8.86601267 ...,  9.11934792  8.77530364\n",
      "   9.90485181]]\n",
      "[[  8.91832829   8.52816251   8.44793758 ...,   8.26948624   8.423839\n",
      "    8.70830761]\n",
      " [  8.52816251  10.09113502   8.77757487 ...,   9.06463991   8.60083841\n",
      "    9.69232423]\n",
      " [  8.44793758   8.77757487   9.37336361 ...,   8.28283474   8.46469128\n",
      "    8.86601267]\n",
      " ..., \n",
      " [  8.26948624   9.06463991   8.28283474 ...,   9.32696161   8.32664475\n",
      "    9.11934792]\n",
      " [  8.423839     8.60083841   8.46469128 ...,   8.32664475   8.93414658\n",
      "    8.77530364]\n",
      " [  8.70830761   9.69232423   8.86601267 ...,   9.11934792   8.77530364\n",
      "   10.40485181]]\n"
     ]
    }
   ],
   "source": [
    "alpha,b = MLSSVRTrain(train_instance,train_label,2,2,8)"
   ]
  },
  {
   "cell_type": "code",
   "execution_count": 417,
   "metadata": {
    "collapsed": false
   },
   "outputs": [],
   "source": [
    "K = np.exp(-1*np.tile(np.sum(train_instance*train_instance, axis=1),(sz[0],1))+np.tile(np.transpose(np.sum(Z*Z, axis=1)),(sx[0],1))-2*X.dot(np.transpose(Z)))"
   ]
  },
  {
   "cell_type": "code",
   "execution_count": 418,
   "metadata": {
    "collapsed": false
   },
   "outputs": [
    {
     "data": {
      "text/plain": [
       "array([[ 0.34308394,  0.16358481,  0.32720321, ...,  0.27429407,\n",
       "         0.54023836,  0.12777509],\n",
       "       [ 0.19707541,  0.03959158,  0.22623614, ...,  0.12855765,\n",
       "         0.25624468,  0.0334301 ],\n",
       "       [ 0.73865924,  0.42393484,  0.31173698, ...,  0.52506304,\n",
       "         0.52761082,  0.29558979],\n",
       "       ..., \n",
       "       [ 0.24469953,  0.09519742,  0.20749211, ...,  0.13517075,\n",
       "         0.32255682,  0.05615317],\n",
       "       [ 0.63749287,  0.25098936,  0.27578906, ...,  0.42665754,\n",
       "         0.39223895,  0.18690244],\n",
       "       [ 0.16132083,  0.03503422,  0.16531304, ...,  0.07946975,\n",
       "         0.19997206,  0.02215474]])"
      ]
     },
     "execution_count": 418,
     "metadata": {},
     "output_type": "execute_result"
    }
   ],
   "source": [
    "K"
   ]
  },
  {
   "cell_type": "code",
   "execution_count": 407,
   "metadata": {
    "collapsed": false
   },
   "outputs": [
    {
     "data": {
      "text/plain": [
       "array([ 0.41832829,  1.59113502,  0.87336361,  0.59713403,  0.53439622,\n",
       "        1.77808048,  0.57040175,  0.35007646,  0.11512263,  1.26179476,\n",
       "        1.93675289,  0.65145184,  1.18182838,  0.62016309,  0.52960715,\n",
       "        0.29223186,  1.57511057,  0.93358906,  1.77451102,  1.71442468,\n",
       "        1.44340127,  1.12615777,  1.21888039,  1.02300702,  1.07728249,\n",
       "        1.26987946,  1.27909444,  0.70997937,  1.11704777,  0.34074413,\n",
       "        0.91918982,  0.76973877,  1.03046662,  0.91480019,  0.4659325 ,\n",
       "        1.99746778,  0.94278369,  1.44387651,  0.91841314,  0.75288704,\n",
       "        1.02893282,  1.54031964,  0.13337209,  0.0737663 ,  1.37965691,\n",
       "        0.46286275,  1.27707926,  0.89076766,  1.13659763,  0.93184971,\n",
       "        1.80865233,  0.34200933,  1.83305501,  0.53210712,  1.63390743,\n",
       "        0.86541036,  0.54775405,  1.11745547,  1.32753127,  1.15656292,\n",
       "        1.03989819,  0.98526146,  1.56235696,  0.49286529,  0.39447875,\n",
       "        0.6136574 ,  0.76100998,  1.29511163,  0.30248772,  1.48198115,\n",
       "        1.48403085,  1.5637637 ,  1.44937984,  1.65719399,  2.27652713,\n",
       "        0.99622236,  0.93242456,  0.23894214,  0.84159379,  0.6197417 ,\n",
       "        0.28931714,  0.70833266,  0.0444297 ,  0.03911204,  0.02173132,\n",
       "        1.4333768 ,  0.99020812,  0.30582543,  0.94853618,  0.5087753 ,\n",
       "        0.50173748,  0.16546922,  1.68147529,  0.75568576,  1.30125896,\n",
       "        1.63800372,  0.71059335,  0.30851628,  2.01210949,  1.5133358 ,\n",
       "        0.21394625,  0.59294033,  1.06316001,  1.48884471,  0.7634001 ,\n",
       "        1.81013412,  1.72275282,  0.65311038,  0.06805572,  1.0847802 ,\n",
       "        0.09217572,  1.17425488,  2.11714953,  0.99165542,  0.70355733,\n",
       "        0.75621283,  0.87474756,  0.96916105,  1.1704814 ,  0.70070486,\n",
       "        1.99063308,  1.45844917,  1.39940008,  1.50104821,  1.86048717,\n",
       "        0.98694419,  1.21263378,  0.71350096,  1.43168183,  0.29882145,\n",
       "        0.39716259,  0.91957497,  0.50607662,  1.05147874,  1.72200872,\n",
       "        0.21062607,  0.40186866,  0.61241645,  0.6622296 ,  0.15993199,\n",
       "        1.38541848,  1.27182798,  0.41971648,  1.94960073,  0.77710874,\n",
       "        0.57964969,  1.3639744 ,  1.28961173,  0.4703751 ,  1.51959926,\n",
       "        1.39551528,  0.22490291,  0.48928381,  1.60497674,  0.36124279,\n",
       "        1.18063993,  0.30016747,  0.82696161,  0.43414658,  1.90485181])"
      ]
     },
     "execution_count": 407,
     "metadata": {},
     "output_type": "execute_result"
    }
   ],
   "source": [
    "np.sum(train_instance*train_instance, axis=1)"
   ]
  },
  {
   "cell_type": "code",
   "execution_count": 415,
   "metadata": {
    "collapsed": false
   },
   "outputs": [
    {
     "data": {
      "text/plain": [
       "array([ 0.41832829,  1.59113502,  0.87336361,  0.59713403,  0.53439622,\n",
       "        1.77808048,  0.57040175,  0.35007646,  0.11512263,  1.26179476,\n",
       "        1.93675289,  0.65145184,  1.18182838,  0.62016309,  0.52960715,\n",
       "        0.29223186,  1.57511057,  0.93358906,  1.77451102,  1.71442468,\n",
       "        1.44340127,  1.12615777,  1.21888039,  1.02300702,  1.07728249,\n",
       "        1.26987946,  1.27909444,  0.70997937,  1.11704777,  0.34074413,\n",
       "        0.91918982,  0.76973877,  1.03046662,  0.91480019,  0.4659325 ,\n",
       "        1.99746778,  0.94278369,  1.44387651,  0.91841314,  0.75288704,\n",
       "        1.02893282,  1.54031964,  0.13337209,  0.0737663 ,  1.37965691,\n",
       "        0.46286275,  1.27707926,  0.89076766,  1.13659763,  0.93184971,\n",
       "        1.80865233,  0.34200933,  1.83305501,  0.53210712,  1.63390743,\n",
       "        0.86541036,  0.54775405,  1.11745547,  1.32753127,  1.15656292,\n",
       "        1.03989819,  0.98526146,  1.56235696,  0.49286529,  0.39447875,\n",
       "        0.6136574 ,  0.76100998,  1.29511163,  0.30248772,  1.48198115,\n",
       "        1.48403085,  1.5637637 ,  1.44937984,  1.65719399,  2.27652713,\n",
       "        0.99622236,  0.93242456,  0.23894214,  0.84159379,  0.6197417 ,\n",
       "        0.28931714,  0.70833266,  0.0444297 ,  0.03911204,  0.02173132,\n",
       "        1.4333768 ,  0.99020812,  0.30582543,  0.94853618,  0.5087753 ,\n",
       "        0.50173748,  0.16546922,  1.68147529,  0.75568576,  1.30125896,\n",
       "        1.63800372,  0.71059335,  0.30851628,  2.01210949,  1.5133358 ,\n",
       "        0.21394625,  0.59294033,  1.06316001,  1.48884471,  0.7634001 ,\n",
       "        1.81013412,  1.72275282,  0.65311038,  0.06805572,  1.0847802 ,\n",
       "        0.09217572,  1.17425488,  2.11714953,  0.99165542,  0.70355733,\n",
       "        0.75621283,  0.87474756,  0.96916105,  1.1704814 ,  0.70070486,\n",
       "        1.99063308,  1.45844917,  1.39940008,  1.50104821,  1.86048717,\n",
       "        0.98694419,  1.21263378,  0.71350096,  1.43168183,  0.29882145,\n",
       "        0.39716259,  0.91957497,  0.50607662,  1.05147874,  1.72200872,\n",
       "        0.21062607,  0.40186866,  0.61241645,  0.6622296 ,  0.15993199,\n",
       "        1.38541848,  1.27182798,  0.41971648,  1.94960073,  0.77710874,\n",
       "        0.57964969,  1.3639744 ,  1.28961173,  0.4703751 ,  1.51959926,\n",
       "        1.39551528,  0.22490291,  0.48928381,  1.60497674,  0.36124279,\n",
       "        1.18063993,  0.30016747,  0.82696161,  0.43414658,  1.90485181])"
      ]
     },
     "execution_count": 415,
     "metadata": {},
     "output_type": "execute_result"
    }
   ],
   "source": [
    "sum(np.transpose(np.multiply(train_instance,train_instance)))"
   ]
  },
  {
   "cell_type": "code",
   "execution_count": 410,
   "metadata": {
    "collapsed": false
   },
   "outputs": [
    {
     "data": {
      "text/plain": [
       "1.5911350199999998"
      ]
     },
     "execution_count": 410,
     "metadata": {},
     "output_type": "execute_result"
    }
   ],
   "source": [
    "b= [ 0.87782816,  0.37283318,  0.34047368]\n",
    "sum(b)"
   ]
  },
  {
   "cell_type": "code",
   "execution_count": 416,
   "metadata": {
    "collapsed": false
   },
   "outputs": [
    {
     "data": {
      "text/plain": [
       "array([[  2.70521200e-02,   2.56793335e-01,   5.93003929e-01],\n",
       "       [  9.36924841e-01,   6.10600672e-01,   5.83501225e-01],\n",
       "       [  3.55437440e-02,   8.50630449e-01,   3.85393419e-01],\n",
       "       [  4.30675907e-01,   3.86140628e-01,   5.12394093e-01],\n",
       "       [  2.05115239e-01,   1.00419294e-01,   6.94434968e-01],\n",
       "       [  9.47525056e-01,   3.92745060e-01,   8.52072803e-01],\n",
       "       [  1.87506445e-01,   7.28086065e-01,   7.16502790e-02],\n",
       "       [  3.76877263e-01,   3.61884966e-01,   2.77631517e-01],\n",
       "       [  1.08017700e-03,   3.02158161e-01,   1.54343486e-01],\n",
       "       [  4.96599403e-01,   1.38440515e-01,   9.98007024e-01],\n",
       "       [  9.65217846e-01,   7.94080702e-01,   6.11999374e-01],\n",
       "       [  7.01700852e-01,   1.40013388e-01,   3.73448800e-01],\n",
       "       [  4.67573498e-01,   6.92256536e-01,   6.95689795e-01],\n",
       "       [  2.03655064e-01,   1.86339761e-01,   7.37539964e-01],\n",
       "       [  7.19767498e-01,   4.97040000e-04,   1.07432083e-01],\n",
       "       [  8.14190920e-02,   1.13039538e-01,   5.22326387e-01],\n",
       "       [  9.43172714e-01,   7.79571824e-01,   2.78932921e-01],\n",
       "       [  8.91447460e-02,   4.20383877e-01,   8.65401448e-01],\n",
       "       [  7.37359779e-01,   8.28919513e-01,   7.37362878e-01],\n",
       "       [  4.06360558e-01,   9.54505080e-01,   7.98884115e-01],\n",
       "       [  9.44055996e-01,   7.18314056e-01,   1.90222151e-01],\n",
       "       [  5.59406708e-01,   8.89759204e-01,   1.46800759e-01],\n",
       "       [  6.75500396e-01,   5.75395722e-01,   6.56886115e-01],\n",
       "       [  3.73199179e-01,   4.78892499e-01,   8.08944601e-01],\n",
       "       [  4.15222826e-01,   7.97741706e-01,   5.18151195e-01],\n",
       "       [  4.85760380e-01,   9.93428344e-01,   2.16832732e-01],\n",
       "       [  9.91574377e-01,   3.70891594e-01,   3.97887072e-01],\n",
       "       [  6.20178599e-01,   2.05407315e-01,   5.32133166e-01],\n",
       "       [  7.48453002e-01,   7.32463269e-01,   1.42700508e-01],\n",
       "       [  1.26791493e-01,   2.98449014e-01,   4.85382568e-01],\n",
       "       [  6.74604202e-01,   4.24485674e-01,   5.32832900e-01],\n",
       "       [  3.48680843e-01,   1.88056427e-01,   7.82812378e-01],\n",
       "       [  4.57906966e-01,   8.43085463e-01,   3.31654545e-01],\n",
       "       [  5.89902258e-01,   6.71125714e-01,   3.41182931e-01],\n",
       "       [  5.10004556e-01,   3.73978681e-01,   2.56841978e-01],\n",
       "       [  7.64377560e-01,   8.81097888e-01,   7.98035861e-01],\n",
       "       [  5.14757406e-01,   8.22134169e-01,   4.36338040e-02],\n",
       "       [  8.03486153e-01,   8.47522537e-01,   2.82828670e-01],\n",
       "       [  7.81366189e-01,   5.16685234e-01,   2.02277999e-01],\n",
       "       [  2.32295545e-01,   3.51529898e-01,   7.58519977e-01],\n",
       "       [  4.44892769e-01,   3.95730461e-01,   8.21219002e-01],\n",
       "       [  8.59837427e-01,   1.04452190e-01,   8.88869494e-01],\n",
       "       [  1.82695434e-01,   3.13882646e-01,   3.83686830e-02],\n",
       "       [  2.06354064e-01,   1.76054584e-01,   1.37508610e-02],\n",
       "       [  7.63285330e-01,   1.85830627e-01,   8.73223564e-01],\n",
       "       [  2.14004048e-01,   2.31163299e-01,   6.03016205e-01],\n",
       "       [  6.97737086e-01,   8.88604462e-01,   2.49865780e-02],\n",
       "       [  8.97951088e-01,   2.76623992e-01,   8.90543030e-02],\n",
       "       [  1.34393167e-01,   9.25442434e-01,   5.11949618e-01],\n",
       "       [  7.16974632e-01,   6.40161899e-01,   8.93858510e-02],\n",
       "       [  9.14689939e-01,   7.70634365e-01,   6.14912448e-01],\n",
       "       [  2.11228401e-01,   4.61341946e-01,   2.90784292e-01],\n",
       "       [  9.56012845e-01,   6.39620589e-01,   7.14128804e-01],\n",
       "       [  4.76645987e-01,   3.49998434e-01,   4.27102825e-01],\n",
       "       [  3.80817228e-01,   7.96616771e-01,   9.24276685e-01],\n",
       "       [  8.01373032e-01,   4.50311673e-01,   1.42937121e-01],\n",
       "       [  3.48543446e-01,   3.79706783e-01,   5.31125484e-01],\n",
       "       [  2.38344389e-01,   6.65590711e-01,   7.85898486e-01],\n",
       "       [  2.27980303e-01,   6.51815861e-01,   9.22329838e-01],\n",
       "       [  4.09058099e-01,   3.29559669e-01,   9.38416121e-01],\n",
       "       [  8.56306570e-02,   4.89203310e-01,   8.90643419e-01],\n",
       "       [  8.02870012e-01,   5.83415415e-01,   1.69604570e-02],\n",
       "       [  7.07661635e-01,   9.66553341e-01,   3.56856573e-01],\n",
       "       [  5.11226036e-01,   4.60186598e-01,   1.40504534e-01],\n",
       "       [  2.76098238e-01,   2.26830290e-02,   5.63678982e-01],\n",
       "       [  6.64805336e-01,   1.88721031e-01,   3.68884314e-01],\n",
       "       [  1.19811880e-02,   8.43560343e-01,   2.21973832e-01],\n",
       "       [  5.87486505e-01,   6.57133500e-01,   7.19824148e-01],\n",
       "       [  4.71725300e-01,   1.07057618e-01,   2.61728156e-01],\n",
       "       [  3.87213583e-01,   7.93362848e-01,   8.38225618e-01],\n",
       "       [  9.64196777e-01,   5.29453883e-01,   5.23482584e-01],\n",
       "       [  9.70185100e-01,   3.85736334e-01,   6.88267425e-01],\n",
       "       [  1.98425854e-01,   8.54053678e-01,   8.24984447e-01],\n",
       "       [  9.71228157e-01,   8.40433804e-01,   8.70682570e-02],\n",
       "       [  9.29247614e-01,   9.21888487e-01,   7.50431621e-01],\n",
       "       [  9.96535336e-01,   6.67579800e-03,   5.56337720e-02],\n",
       "       [  2.13342814e-01,   8.24043882e-01,   4.55917843e-01],\n",
       "       [  9.28905160e-02,   2.70138642e-01,   3.96659311e-01],\n",
       "       [  1.52943590e-02,   7.10364416e-01,   5.80294988e-01],\n",
       "       [  2.45996450e-01,   6.24728192e-01,   4.11025705e-01],\n",
       "       [  4.22256285e-01,   1.32557913e-01,   3.05688026e-01],\n",
       "       [  8.27470100e-03,   8.41085289e-01,   2.89779490e-02],\n",
       "       [  6.58583030e-02,   8.95286710e-02,   1.79100526e-01],\n",
       "       [  1.13298450e-01,   1.48763643e-01,   6.43807540e-02],\n",
       "       [  1.23060440e-02,   7.44762960e-02,   1.26622137e-01],\n",
       "       [  7.16878959e-01,   4.15487116e-01,   8.64194315e-01],\n",
       "       [  1.64161075e-01,   3.94689198e-01,   8.98598742e-01],\n",
       "       [  5.15862774e-01,   1.99276000e-01,   3.20859000e-04],\n",
       "       [  5.55811011e-01,   1.95303237e-01,   7.75543000e-01],\n",
       "       [  6.19907788e-01,   1.46369026e-01,   3.21038537e-01],\n",
       "       [  1.01150134e-01,   4.02762646e-01,   5.73836546e-01],\n",
       "       [  1.68239025e-01,   3.70027995e-01,   1.56246500e-02],\n",
       "       [  8.58904337e-01,   9.24013596e-01,   2.99929167e-01],\n",
       "       [  4.91817985e-01,   5.20213932e-01,   4.93131114e-01],\n",
       "       [  2.06104000e-03,   8.45632090e-01,   7.65611570e-01],\n",
       "       [  8.71914182e-01,   7.43982818e-01,   5.69437394e-01],\n",
       "       [  5.31706436e-01,   1.13554385e-01,   6.44194863e-01],\n",
       "       [  2.32346230e-01,   6.37264400e-03,   5.04470910e-01],\n",
       "       [  8.65975750e-01,   5.75599051e-01,   9.64821862e-01],\n",
       "       [  8.11781956e-01,   8.96106285e-01,   2.26581952e-01],\n",
       "       [  2.43582100e-01,   8.83488720e-02,   3.83155953e-01],\n",
       "       [  7.25295649e-01,   2.22730324e-01,   1.31444879e-01],\n",
       "       [  1.68818082e-01,   5.94859020e-01,   8.25108001e-01],\n",
       "       [  3.74605590e-02,   8.86854711e-01,   8.37215703e-01],\n",
       "       [  4.16812897e-01,   7.07328115e-01,   2.98921477e-01],\n",
       "       [  7.77405033e-01,   7.17705265e-01,   8.31068400e-01],\n",
       "       [  5.50338799e-01,   9.60898446e-01,   7.04666025e-01],\n",
       "       [  5.70611132e-01,   2.68296785e-01,   5.05499904e-01],\n",
       "       [  9.96710700e-02,   8.51691300e-03,   2.40933315e-01],\n",
       "       [  7.46139883e-01,   6.93618783e-01,   2.16675923e-01],\n",
       "       [  2.94264469e-01,   6.82945540e-02,   3.03315040e-02],\n",
       "       [  7.08741866e-01,   1.67222283e-01,   8.02481498e-01],\n",
       "       [  8.10705918e-01,   8.75175782e-01,   8.33050294e-01],\n",
       "       [  4.03712524e-01,   9.09926455e-01,   2.65605150e-02],\n",
       "       [  1.18369870e-02,   4.31589705e-01,   7.19129711e-01],\n",
       "       [  9.58683020e-02,   7.45773989e-01,   4.36856103e-01],\n",
       "       [  7.17072992e-01,   5.99547512e-01,   3.31158740e-02],\n",
       "       [  1.86616163e-01,   8.12936755e-01,   5.22942915e-01],\n",
       "       [  1.25366800e-02,   4.27748234e-01,   9.93657730e-01],\n",
       "       [  5.70306013e-01,   4.78775240e-01,   3.82400550e-01],\n",
       "       [  6.96624779e-01,   7.68465472e-01,   9.56455861e-01],\n",
       "       [  3.38967547e-01,   7.62701569e-01,   8.72832454e-01],\n",
       "       [  6.55433874e-01,   3.46944582e-01,   9.21648511e-01],\n",
       "       [  2.80112567e-01,   7.35016856e-01,   9.39327087e-01],\n",
       "       [  8.06317686e-01,   7.54793638e-01,   8.00390859e-01],\n",
       "       [  4.89649996e-01,   1.96790751e-01,   8.41700941e-01],\n",
       "       [  4.30673033e-01,   9.70153191e-01,   2.93184755e-01],\n",
       "       [  4.22357470e-02,   4.42767775e-01,   7.18104312e-01],\n",
       "       [  8.67683627e-01,   8.04669798e-01,   1.76956127e-01],\n",
       "       [  4.57878754e-01,   2.98179711e-01,   1.60424600e-02],\n",
       "       [  4.07114110e-02,   2.23950352e-01,   5.87666074e-01],\n",
       "       [  3.62540838e-01,   8.65701717e-01,   1.96722265e-01],\n",
       "       [  1.51244859e-01,   3.05514202e-01,   6.24389853e-01],\n",
       "       [  1.86435693e-01,   5.43247461e-01,   8.49471996e-01],\n",
       "       [  9.39125112e-01,   8.96436538e-01,   1.90930043e-01],\n",
       "       [  2.78412697e-01,   2.66038201e-01,   2.49672018e-01],\n",
       "       [  2.08553155e-01,   4.87892291e-01,   3.46893859e-01],\n",
       "       [  7.15733258e-01,   2.24355473e-01,   2.23174773e-01],\n",
       "       [  3.59413091e-01,   1.93068570e-01,   7.04113880e-01],\n",
       "       [  2.36241751e-01,   2.18451615e-01,   2.37488345e-01],\n",
       "       [  2.73355403e-01,   7.16384219e-01,   8.93022369e-01],\n",
       "       [  4.19369737e-01,   6.11671767e-01,   8.49596761e-01],\n",
       "       [  6.36662010e-02,   2.45216643e-01,   5.96264950e-01],\n",
       "       [  7.78422410e-01,   6.86423690e-01,   9.34067343e-01],\n",
       "       [  6.83385771e-01,   1.98711789e-01,   5.20198278e-01],\n",
       "       [  3.93442410e-02,   5.45992752e-01,   5.29144251e-01],\n",
       "       [  8.98389237e-01,   6.27134567e-01,   4.04442105e-01],\n",
       "       [  8.83406388e-01,   2.66176352e-01,   6.62083858e-01],\n",
       "       [  1.63330288e-01,   2.22926981e-01,   6.27695693e-01],\n",
       "       [  9.86330486e-01,   6.10948838e-01,   4.16524852e-01],\n",
       "       [  9.39468174e-01,   1.34142299e-01,   7.03505987e-01],\n",
       "       [  2.41968582e-01,   2.04827337e-01,   3.52703666e-01],\n",
       "       [  1.34519900e-02,   6.96597035e-01,   6.20920470e-02],\n",
       "       [  7.89321338e-01,   9.33443632e-01,   3.32613209e-01],\n",
       "       [  2.48436811e-01,   4.00979175e-01,   3.72475021e-01],\n",
       "       [  8.32936639e-01,   8.16504630e-02,   6.92957201e-01],\n",
       "       [  2.62523529e-01,   2.99417240e-02,   4.79950369e-01],\n",
       "       [  8.24834376e-01,   1.35840181e-01,   3.57990658e-01],\n",
       "       [  9.40494440e-02,   2.74298305e-01,   5.91660142e-01],\n",
       "       [  8.69128999e-01,   5.70496605e-01,   9.07744575e-01]])"
      ]
     },
     "execution_count": 416,
     "metadata": {},
     "output_type": "execute_result"
    }
   ],
   "source": [
    "train_instance"
   ]
  },
  {
   "cell_type": "code",
   "execution_count": null,
   "metadata": {
    "collapsed": true
   },
   "outputs": [],
   "source": []
  }
 ],
 "metadata": {
  "anaconda-cloud": {},
  "kernelspec": {
   "display_name": "Python [conda root]",
   "language": "python",
   "name": "conda-root-py"
  },
  "language_info": {
   "codemirror_mode": {
    "name": "ipython",
    "version": 3
   },
   "file_extension": ".py",
   "mimetype": "text/x-python",
   "name": "python",
   "nbconvert_exporter": "python",
   "pygments_lexer": "ipython3",
   "version": "3.5.2"
  }
 },
 "nbformat": 4,
 "nbformat_minor": 1
}
