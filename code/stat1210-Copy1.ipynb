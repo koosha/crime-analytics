{
 "cells": [
  {
   "cell_type": "code",
   "execution_count": 1,
   "metadata": {
    "collapsed": true
   },
   "outputs": [],
   "source": [
    "import pandas as pd\n",
    "import seaborn as sns\n",
    "import numpy as np\n",
    "\n",
    "\n",
    "from sklearn import linear_model, svm, tree\n",
    "from sklearn import preprocessing\n",
    "from sklearn.metrics import mean_squared_error\n",
    "from sklearn.model_selection import ShuffleSplit\n",
    "from sklearn.ensemble import RandomForestRegressor, GradientBoostingRegressor\n",
    "from sklearn.neural_network import MLPRegressor\n",
    "df = pd.read_csv('ready.csv')\n",
    "df = df.fillna(0)"
   ]
  },
  {
   "cell_type": "code",
   "execution_count": 2,
   "metadata": {
    "collapsed": true
   },
   "outputs": [],
   "source": [
    "df.columns\n",
    "df = df[['Canadian Citizen', 'No Response(Citizen)', 'Non-Canadian Citizen',\n",
    "       'Refugee', 'No Longer In Use', 'Occupied', 'Unoccupied',\n",
    "       'Employed 0-30 Hours', 'Employed 30+ Hours', 'Gr.10 - Gr.12',\n",
    "       'Gr.7 - Gr.9', 'Homemaker', 'Kindergarten - Gr.6',\n",
    "       'No Response(Employment)', 'Permanently Unable to Work',\n",
    "       'Post Secondary Student', 'Preschool', 'Retired', 'Unemployed',\n",
    "       'Common Law', 'Married', 'Never Married', 'No Response(Marital)',\n",
    "       'Separated/Divorced', 'Widowed', 'Bicycle',\n",
    "       'Car/Truck/Van (as Driver)', 'Car/Truck/Van (as Passenger)',\n",
    "       'No Response(Transportation)', 'Other', 'Public Transit', 'Walk',\n",
    "       'Catholic', 'No Response(School)', 'Public', 'Assault', 'Break and Enter', 'Homicide',\n",
    "       'Robbery', 'Sexual Assaults', 'Theft From Vehicle', 'Theft Of Vehicle',\n",
    "       'Theft Over $5000']]"
   ]
  },
  {
   "cell_type": "code",
   "execution_count": 3,
   "metadata": {
    "collapsed": false
   },
   "outputs": [],
   "source": [
    "def train_test_spliter(df, random_seed=0, test_size=0.20, n_splits=1):\n",
    "    # trainm = preprocessing.maxabs_scale(df, axis=0, copy=True)\n",
    "    col = df.columns\n",
    "    df1 = pd.DataFrame(data=df, columns=col)\n",
    "    rs = ShuffleSplit(n_splits=n_splits, test_size=test_size, random_state=random_seed)\n",
    "    for train_index, test_index in rs.split(df):\n",
    "        pass\n",
    "    traindf = pd.DataFrame(data=df, index=train_index)\n",
    "    testdf = pd.DataFrame(data=df, index=test_index)\n",
    "    return traindf, testdf\n",
    "\n",
    "\n",
    "traindf, testdf = train_test_spliter(df)\n",
    "\n",
    "X_train = pd.DataFrame(data=traindf, columns=['Canadian Citizen', 'No Response(Citizen)', 'Non-Canadian Citizen',\n",
    "       'Refugee', 'No Longer In Use', 'Occupied', 'Unoccupied',\n",
    "       'Employed 0-30 Hours', 'Employed 30+ Hours', 'Gr.10 - Gr.12',\n",
    "       'Gr.7 - Gr.9', 'Homemaker', 'Kindergarten - Gr.6',\n",
    "       'No Response(Employment)', 'Permanently Unable to Work',\n",
    "       'Post Secondary Student', 'Preschool', 'Retired', 'Unemployed',\n",
    "       'Common Law', 'Married', 'Never Married', 'No Response(Marital)',\n",
    "       'Separated/Divorced', 'Widowed', 'Bicycle',\n",
    "       'Car/Truck/Van (as Driver)', 'Car/Truck/Van (as Passenger)',\n",
    "       'No Response(Transportation)', 'Other', 'Public Transit', 'Walk',\n",
    "       'Catholic', 'No Response(School)', 'Public'])\n",
    "# X_train = preprocessing.maxabs_scale(X_train, axis=0, copy=True)\n",
    "\n",
    "Y_train = pd.DataFrame(data=traindf, columns=['Assault', 'Break and Enter', 'Homicide',\n",
    "       'Robbery', 'Sexual Assaults', 'Theft From Vehicle', 'Theft Of Vehicle',\n",
    "       'Theft Over $5000'])\n",
    "X_test = pd.DataFrame(data=testdf, columns=['Canadian Citizen', 'No Response(Citizen)', 'Non-Canadian Citizen',\n",
    "       'Refugee', 'No Longer In Use', 'Occupied', 'Unoccupied',\n",
    "       'Employed 0-30 Hours', 'Employed 30+ Hours', 'Gr.10 - Gr.12',\n",
    "       'Gr.7 - Gr.9', 'Homemaker', 'Kindergarten - Gr.6',\n",
    "       'No Response(Employment)', 'Permanently Unable to Work',\n",
    "       'Post Secondary Student', 'Preschool', 'Retired', 'Unemployed',\n",
    "       'Common Law', 'Married', 'Never Married', 'No Response(Marital)',\n",
    "       'Separated/Divorced', 'Widowed', 'Bicycle',\n",
    "       'Car/Truck/Van (as Driver)', 'Car/Truck/Van (as Passenger)',\n",
    "       'No Response(Transportation)', 'Other', 'Public Transit', 'Walk',\n",
    "       'Catholic', 'No Response(School)', 'Public'])\n",
    "X_test = preprocessing.maxabs_scale(X_test, axis=0, copy=True)\n",
    "\n",
    "Y_test = pd.DataFrame(data=testdf, columns=['Assault', 'Break and Enter', 'Homicide',\n",
    "       'Robbery', 'Sexual Assaults', 'Theft From Vehicle', 'Theft Of Vehicle',\n",
    "       'Theft Over $5000'])"
   ]
  },
  {
   "cell_type": "code",
   "execution_count": 4,
   "metadata": {
    "collapsed": true
   },
   "outputs": [],
   "source": [
    "from sklearn import preprocessing\n",
    "import numpy as np\n",
    "import pandas as pd"
   ]
  },
  {
   "cell_type": "code",
   "execution_count": 5,
   "metadata": {
    "collapsed": false
   },
   "outputs": [],
   "source": [
    "X_scaled = preprocessing.scale(X_train)\n",
    "Y_scaled = preprocessing.scale(Y_train)"
   ]
  },
  {
   "cell_type": "code",
   "execution_count": 6,
   "metadata": {
    "collapsed": false
   },
   "outputs": [
    {
     "data": {
      "text/plain": [
       "array([  2.70315171e-17,   1.02977208e-17,  -4.15126870e-17,\n",
       "         5.14886040e-18,  -7.07968306e-18,  -2.18826567e-17,\n",
       "        -1.73774039e-17,  -5.08449965e-17,  -7.01532230e-17,\n",
       "         3.82946493e-17,  -2.25262643e-17,  -5.72810720e-17,\n",
       "         7.72329061e-18,  -3.21803775e-18,   9.01050571e-18,\n",
       "        -3.08931624e-17,   6.62915777e-17,   2.38134794e-17,\n",
       "        -6.69351853e-17,  -7.20840457e-17,   2.70315171e-17,\n",
       "        -4.79487625e-17,  -2.96059473e-17,  -1.09413284e-17,\n",
       "         4.63397436e-17,   3.57202191e-17,  -1.09413284e-17,\n",
       "         6.43607551e-19,  -1.71360510e-17,  -5.08449965e-17,\n",
       "         2.25262643e-18,   1.35157586e-17,  -1.25503472e-17,\n",
       "        -6.62915777e-17,  -4.15126870e-17])"
      ]
     },
     "execution_count": 6,
     "metadata": {},
     "output_type": "execute_result"
    }
   ],
   "source": [
    "X_scaled.mean(axis=0)"
   ]
  },
  {
   "cell_type": "code",
   "execution_count": 7,
   "metadata": {
    "collapsed": false
   },
   "outputs": [
    {
     "data": {
      "text/plain": [
       "array([ 1.,  1.,  1.,  1.,  1.,  1.,  1.,  1.,  1.,  1.,  1.,  1.,  1.,\n",
       "        1.,  1.,  1.,  1.,  1.,  1.,  1.,  1.,  1.,  1.,  1.,  1.,  1.,\n",
       "        1.,  1.,  1.,  1.,  1.,  1.,  1.,  1.,  1.])"
      ]
     },
     "execution_count": 7,
     "metadata": {},
     "output_type": "execute_result"
    }
   ],
   "source": [
    "X_scaled.std(axis=0)"
   ]
  },
  {
   "cell_type": "code",
   "execution_count": 8,
   "metadata": {
    "collapsed": false
   },
   "outputs": [
    {
     "name": "stdout",
     "output_type": "stream",
     "text": [
      "[0.80711606642881872, 0.38367750028102765, 0.20481374137809011, 0.17980884030270711, 0.11183053453952699, 0.083490108914793873, 0.068004477844928482, 0.055149965259994285]\n",
      "[[  8.03315836e-01  -3.45466728e-01   5.74411120e-03  -2.87913653e-02\n",
      "    1.01554073e-02   1.12876404e-01   1.40490039e-02  -9.53095452e-02]\n",
      " [ -1.73749430e+00  -1.36842368e+00   7.59291667e-01   4.98095465e-01\n",
      "   -4.11653487e-01  -7.32137203e-01  -4.70623068e-01   2.68827458e+00]\n",
      " [  8.03315836e-01  -3.45466728e-01   5.74411120e-03  -2.87913653e-02\n",
      "    1.01554073e-02   1.12876404e-01   1.40490039e-02  -9.53095452e-02]\n",
      " [  8.03315836e-01  -3.45466728e-01   5.74411120e-03  -2.87913653e-02\n",
      "    1.01554073e-02   1.12876404e-01   1.40490039e-02  -9.53095452e-02]\n",
      " [ -6.09992366e+00   4.36213062e+00  -4.10465188e+00   7.53227135e+00\n",
      "   -5.96469368e+00   9.38717931e-01   1.33201068e+00  -3.64881547e+00]\n",
      " [ -1.31141048e+00   9.82915966e-01  -1.54037595e+00   8.17854952e-01\n",
      "    4.59531947e-01   8.60899045e-01   4.24580319e-01   1.30381302e+00]\n",
      " [ -7.03352618e-01  -7.64697530e-02   3.55321473e-02   5.74254222e-01\n",
      "   -5.73642795e-01   9.69987088e-02   1.91782830e-01  -7.69532658e-01]\n",
      " [  6.84846294e-01  -1.37889458e-01   3.11705005e-01  -6.04224508e-02\n",
      "    1.25429772e-01   1.34794289e-01  -7.18025393e-02  -1.14986881e-01]]\n"
     ]
    }
   ],
   "source": [
    "from sklearn.cross_decomposition import CCA\n",
    "n_components=8\n",
    "cca = CCA(n_components)\n",
    "cca.fit(X_scaled,Y_scaled)\n",
    "X_c, Y_c = cca.transform(X_scaled, Y_scaled)\n",
    "\n",
    "c = []\n",
    "for i in range(n_components):\n",
    "    c.append(np.corrcoef(X_c[:,i], Y_c[:,i])[0,1])\n",
    "\n",
    "print(c)\n",
    "    \n",
    "T = np.empty(shape=(n_components,n_components))\n",
    "for i in range(n_components):\n",
    "     T[i] = Y_c.T[:,i]\n",
    "        \n",
    "print(T)"
   ]
  },
  {
   "cell_type": "code",
   "execution_count": 9,
   "metadata": {
    "collapsed": true
   },
   "outputs": [],
   "source": [
    "from sklearn import linear_model"
   ]
  },
  {
   "cell_type": "code",
   "execution_count": 10,
   "metadata": {
    "collapsed": false
   },
   "outputs": [],
   "source": [
    "regr = linear_model.LinearRegression()\n",
    "Y_star = Y_scaled * np.asmatrix(T)\n",
    "Y_hat = np.empty(shape=(len(X_scaled),8))\n",
    "\n",
    "for x in range(8):\n",
    "    regr.fit(X_scaled, Y_star[:,x])\n",
    "    Y_hat[:, x] = np.ndarray.flatten(regr.predict(X_scaled))"
   ]
  },
  {
   "cell_type": "code",
   "execution_count": 11,
   "metadata": {
    "collapsed": false
   },
   "outputs": [
    {
     "data": {
      "text/plain": [
       "array([[ 2.24722641, -0.66645362,  1.24311777, ..., -0.39087386,\n",
       "        -0.37319429, -0.30275839],\n",
       "       [-4.35486524,  1.46708455, -2.5341328 , ...,  0.7311101 ,\n",
       "         0.79265491, -0.2313942 ],\n",
       "       [ 2.24722641, -0.66645362,  1.24311777, ..., -0.39087386,\n",
       "        -0.37319429, -0.30275839],\n",
       "       ..., \n",
       "       [ 2.20462387, -0.66327979,  1.23432871, ..., -0.39148421,\n",
       "        -0.37215669, -0.28249471],\n",
       "       [ 0.94903032, -0.31677041,  0.74523217, ..., -0.26160823,\n",
       "        -0.21059663, -0.11364693],\n",
       "       [ 2.24722641, -0.66645362,  1.24311777, ..., -0.39087386,\n",
       "        -0.37319429, -0.30275839]])"
      ]
     },
     "execution_count": 11,
     "metadata": {},
     "output_type": "execute_result"
    }
   ],
   "source": [
    "Y_hat"
   ]
  },
  {
   "cell_type": "code",
   "execution_count": 12,
   "metadata": {
    "collapsed": false
   },
   "outputs": [
    {
     "data": {
      "text/plain": [
       "[0.42400968140030848,\n",
       " 0.021473150930706082,\n",
       " 0.0016982915858584772,\n",
       " 0.00099806773154172287,\n",
       " 0.00013927591722924141,\n",
       " 4.0094602034454643e-05,\n",
       " 1.6579713916332177e-05,\n",
       " 6.9416626713172136e-06]"
      ]
     },
     "execution_count": 12,
     "metadata": {},
     "output_type": "execute_result"
    }
   ],
   "source": [
    "r = len(X_scaled.T)/len(X_scaled)\n",
    "dx=[]\n",
    "for i in range(len(c)):\n",
    "    dxi=((1-r)*(c[i]**2-r))/((1-r)**2)*c[i]**2+(r**2)*(1-c[i]**2)\n",
    "    if dxi<0:\n",
    "        dx.append(0)\n",
    "    else:\n",
    "        dx.append(dxi)\n",
    "dx"
   ]
  },
  {
   "cell_type": "code",
   "execution_count": 13,
   "metadata": {
    "collapsed": false
   },
   "outputs": [
    {
     "data": {
      "text/plain": [
       "matrix([[  9.52845756e-01,  -1.43108591e-02,   2.11117645e-03, ...,\n",
       "          -1.56719318e-05,  -6.18745455e-06,  -2.10164659e-06],\n",
       "        [ -1.84650502e+00,   3.15029280e-02,  -4.30369641e-03, ...,\n",
       "           2.93135685e-05,   1.31419916e-05,  -1.60626049e-06],\n",
       "        [  9.52845756e-01,  -1.43108591e-02,   2.11117645e-03, ...,\n",
       "          -1.56719318e-05,  -6.18745455e-06,  -2.10164659e-06],\n",
       "        ..., \n",
       "        [  9.34781867e-01,  -1.42427070e-02,   2.09625005e-03, ...,\n",
       "          -1.56964036e-05,  -6.17025148e-06,  -1.96098302e-06],\n",
       "        [  4.02398043e-01,  -6.80205888e-03,   1.26562152e-03, ...,\n",
       "          -1.04890778e-05,  -3.49163189e-06,  -7.88898674e-07],\n",
       "        [  9.52845756e-01,  -1.43108591e-02,   2.11117645e-03, ...,\n",
       "          -1.56719318e-05,  -6.18745455e-06,  -2.10164659e-06]])"
      ]
     },
     "execution_count": 13,
     "metadata": {},
     "output_type": "execute_result"
    }
   ],
   "source": [
    "dx = np.asmatrix(dx)\n",
    "Y_new = np.multiply(Y_hat, dx)\n",
    "Y_new"
   ]
  },
  {
   "cell_type": "code",
   "execution_count": 14,
   "metadata": {
    "collapsed": false
   },
   "outputs": [],
   "source": [
    "result=(Y_new * np.linalg.inv(np.asmatrix(T)))"
   ]
  },
  {
   "cell_type": "code",
   "execution_count": 15,
   "metadata": {
    "collapsed": false,
    "scrolled": true
   },
   "outputs": [
    {
     "data": {
      "text/plain": [
       "matrix([[  8.68084330e+16,  -1.14942377e-01,  -8.34452689e+16, ...,\n",
       "          -4.26324394e-02,  -1.34676609e-01,   4.49549532e-01],\n",
       "        [ -1.67678333e+17,   2.21743431e-01,   1.61173392e+17, ...,\n",
       "           8.23947958e-02,   2.59647391e-01,  -8.66473950e-01],\n",
       "        [  8.68084330e+16,  -1.14942377e-01,  -8.34452689e+16, ...,\n",
       "          -4.26324394e-02,  -1.34676609e-01,   4.49549532e-01],\n",
       "        ..., \n",
       "        [  8.51363048e+16,  -1.12709478e-01,  -8.18374135e+16, ...,\n",
       "          -4.18096215e-02,  -1.32028853e-01,   4.40823451e-01],\n",
       "        [  3.66496376e+16,  -4.84555429e-02,  -3.52338997e+16, ...,\n",
       "          -1.81210695e-02,  -5.62986165e-02,   1.88934069e-01],\n",
       "        [  8.68084330e+16,  -1.14942377e-01,  -8.34452689e+16, ...,\n",
       "          -4.26324394e-02,  -1.34676609e-01,   4.49549532e-01]])"
      ]
     },
     "execution_count": 15,
     "metadata": {},
     "output_type": "execute_result"
    }
   ],
   "source": [
    "result"
   ]
  },
  {
   "cell_type": "code",
   "execution_count": 16,
   "metadata": {
    "collapsed": true
   },
   "outputs": [],
   "source": [
    "from sklearn.metrics import mean_squared_error"
   ]
  },
  {
   "cell_type": "code",
   "execution_count": 17,
   "metadata": {
    "collapsed": false
   },
   "outputs": [
    {
     "data": {
      "text/plain": [
       "4.9379258661902941e+33"
      ]
     },
     "execution_count": 17,
     "metadata": {},
     "output_type": "execute_result"
    }
   ],
   "source": [
    "mean_squared_error(Y_scaled, result)"
   ]
  },
  {
   "cell_type": "code",
   "execution_count": 18,
   "metadata": {
    "collapsed": false
   },
   "outputs": [
    {
     "data": {
      "text/plain": [
       "4.9379258661902941e+33"
      ]
     },
     "execution_count": 18,
     "metadata": {},
     "output_type": "execute_result"
    }
   ],
   "source": [
    "mean_squared_error(Y_train, result)"
   ]
  },
  {
   "cell_type": "code",
   "execution_count": 19,
   "metadata": {
    "collapsed": true
   },
   "outputs": [],
   "source": [
    "crimes = ['Assault', 'Break and Enter', 'Homicide', 'Robbery', 'Sexual Assaults',\n",
    "       'Theft From Vehicle', 'Theft Of Vehicle', 'Theft Over $5000']"
   ]
  },
  {
   "cell_type": "code",
   "execution_count": 20,
   "metadata": {
    "collapsed": false
   },
   "outputs": [
    {
     "data": {
      "text/plain": [
       "[[1.4323912137542741e+17, 'Assault', 'Linear Regression'],\n",
       " [1.8412069850297326, 'Break and Enter', 'Linear Regression'],\n",
       " [1.3767725090280502e+17, 'Homicide', 'Linear Regression'],\n",
       " [5561979950019495.0, 'Robbery', 'Linear Regression'],\n",
       " [0.50066098643708534, 'Sexual Assaults', 'Linear Regression'],\n",
       " [2.9039072147423308, 'Theft From Vehicle', 'Linear Regression'],\n",
       " [1.5141719735537931, 'Theft Of Vehicle', 'Linear Regression'],\n",
       " [0.82954015935895908, 'Theft Over $5000', 'Linear Regression']]"
      ]
     },
     "execution_count": 20,
     "metadata": {},
     "output_type": "execute_result"
    }
   ],
   "source": [
    "result1 = []\n",
    "for i in range(len(crimes)):\n",
    "    result1.append([np.sqrt(mean_squared_error(Y_train[crimes[i]], result[:,i])), crimes[i], 'Linear Regression'])\n",
    "    \n",
    "result1"
   ]
  },
  {
   "cell_type": "code",
   "execution_count": 21,
   "metadata": {
    "collapsed": false
   },
   "outputs": [
    {
     "data": {
      "text/plain": [
       "[1.4323912137542741e+17,\n",
       " 1.8412069850297326,\n",
       " 1.3767725090280502e+17,\n",
       " 5561979950019495.0,\n",
       " 0.50066098643708534,\n",
       " 2.9039072147423308,\n",
       " 1.5141719735537931,\n",
       " 0.82954015935895908]"
      ]
     },
     "execution_count": 21,
     "metadata": {},
     "output_type": "execute_result"
    }
   ],
   "source": [
    "final = []\n",
    "for i in result1:\n",
    "    final.append(i[0])\n",
    "final"
   ]
  },
  {
   "cell_type": "code",
   "execution_count": 22,
   "metadata": {
    "collapsed": true
   },
   "outputs": [],
   "source": [
    "b = [[1510338621318495.0, 'Assault', 'Linear Regression'],\n",
    " [1.8067644105870351, 'Break and Enter', 'Linear Regression'],\n",
    " [3488399634215690.5, 'Homicide', 'Linear Regression'],\n",
    " [1978123031011947.2, 'Robbery', 'Linear Regression'],\n",
    " [0.49693393076651105, 'Sexual Assaults', 'Linear Regression'],\n",
    " [2.8372757248429941, 'Theft From Vehicle', 'Linear Regression'],\n",
    " [1.4609922366816115, 'Theft Of Vehicle', 'Linear Regression'],\n",
    " [0.33590054444014728, 'Theft Over $5000', 'Linear Regression']]"
   ]
  },
  {
   "cell_type": "code",
   "execution_count": 23,
   "metadata": {
    "collapsed": false
   },
   "outputs": [
    {
     "data": {
      "text/plain": [
       "[1510338621318495.0,\n",
       " 1.806764410587035,\n",
       " 3488399634215690.5,\n",
       " 1978123031011947.2,\n",
       " 0.49693393076651105,\n",
       " 2.837275724842994,\n",
       " 1.4609922366816115,\n",
       " 0.3359005444401473]"
      ]
     },
     "execution_count": 23,
     "metadata": {},
     "output_type": "execute_result"
    }
   ],
   "source": [
    "[x[0] for x in b]"
   ]
  },
  {
   "cell_type": "code",
   "execution_count": null,
   "metadata": {
    "collapsed": true
   },
   "outputs": [],
   "source": []
  }
 ],
 "metadata": {
  "anaconda-cloud": {},
  "kernelspec": {
   "display_name": "Python [conda root]",
   "language": "python",
   "name": "conda-root-py"
  },
  "language_info": {
   "codemirror_mode": {
    "name": "ipython",
    "version": 3
   },
   "file_extension": ".py",
   "mimetype": "text/x-python",
   "name": "python",
   "nbconvert_exporter": "python",
   "pygments_lexer": "ipython3",
   "version": "3.5.2"
  }
 },
 "nbformat": 4,
 "nbformat_minor": 1
}
