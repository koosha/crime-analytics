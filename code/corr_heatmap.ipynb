{
 "cells": [
  {
   "cell_type": "code",
   "execution_count": 13,
   "metadata": {
    "collapsed": false
   },
   "outputs": [],
   "source": [
    "# Author: Yang Zhang, Hang Zhu\n",
    "\n",
    "%matplotlib inline  \n",
    "import pandas as pd\n",
    "import seaborn as sns\n",
    "import numpy as np"
   ]
  },
  {
   "cell_type": "code",
   "execution_count": 2,
   "metadata": {
    "collapsed": true
   },
   "outputs": [],
   "source": [
    "# Set ipython's max row/col display\n",
    "pd.set_option('display.max_row', 25)\n",
    "pd.set_option('display.max_columns', 10)"
   ]
  },
  {
   "cell_type": "code",
   "execution_count": 3,
   "metadata": {
    "collapsed": false
   },
   "outputs": [
    {
     "data": {
      "text/html": [
       "<div>\n",
       "<table border=\"1\" class=\"dataframe\">\n",
       "  <thead>\n",
       "    <tr style=\"text-align: right;\">\n",
       "      <th></th>\n",
       "      <th>Assault</th>\n",
       "      <th>Break and Enter</th>\n",
       "      <th>Homicide</th>\n",
       "      <th>Robbery</th>\n",
       "      <th>Sexual Assaults</th>\n",
       "      <th>Theft From Vehicle</th>\n",
       "      <th>Theft Of Vehicle</th>\n",
       "      <th>Theft Over $5000</th>\n",
       "    </tr>\n",
       "  </thead>\n",
       "  <tbody>\n",
       "    <tr>\n",
       "      <th>0</th>\n",
       "      <td>5901</td>\n",
       "      <td>6530</td>\n",
       "      <td>26</td>\n",
       "      <td>1601</td>\n",
       "      <td>601</td>\n",
       "      <td>10794</td>\n",
       "      <td>5831</td>\n",
       "      <td>337</td>\n",
       "    </tr>\n",
       "    <tr>\n",
       "      <th>1</th>\n",
       "      <td>5540</td>\n",
       "      <td>5384</td>\n",
       "      <td>23</td>\n",
       "      <td>1186</td>\n",
       "      <td>747</td>\n",
       "      <td>8480</td>\n",
       "      <td>4279</td>\n",
       "      <td>283</td>\n",
       "    </tr>\n",
       "    <tr>\n",
       "      <th>2</th>\n",
       "      <td>5229</td>\n",
       "      <td>4039</td>\n",
       "      <td>43</td>\n",
       "      <td>1050</td>\n",
       "      <td>802</td>\n",
       "      <td>6458</td>\n",
       "      <td>3596</td>\n",
       "      <td>274</td>\n",
       "    </tr>\n",
       "    <tr>\n",
       "      <th>3</th>\n",
       "      <td>5493</td>\n",
       "      <td>4289</td>\n",
       "      <td>27</td>\n",
       "      <td>1024</td>\n",
       "      <td>835</td>\n",
       "      <td>6314</td>\n",
       "      <td>3112</td>\n",
       "      <td>300</td>\n",
       "    </tr>\n",
       "    <tr>\n",
       "      <th>4</th>\n",
       "      <td>5333</td>\n",
       "      <td>4249</td>\n",
       "      <td>29</td>\n",
       "      <td>970</td>\n",
       "      <td>790</td>\n",
       "      <td>7275</td>\n",
       "      <td>3819</td>\n",
       "      <td>312</td>\n",
       "    </tr>\n",
       "    <tr>\n",
       "      <th>5</th>\n",
       "      <td>5495</td>\n",
       "      <td>4480</td>\n",
       "      <td>27</td>\n",
       "      <td>1014</td>\n",
       "      <td>790</td>\n",
       "      <td>7988</td>\n",
       "      <td>3869</td>\n",
       "      <td>351</td>\n",
       "    </tr>\n",
       "    <tr>\n",
       "      <th>6</th>\n",
       "      <td>5959</td>\n",
       "      <td>6109</td>\n",
       "      <td>31</td>\n",
       "      <td>1238</td>\n",
       "      <td>855</td>\n",
       "      <td>9057</td>\n",
       "      <td>4519</td>\n",
       "      <td>457</td>\n",
       "    </tr>\n",
       "    <tr>\n",
       "      <th>7</th>\n",
       "      <td>2964</td>\n",
       "      <td>2976</td>\n",
       "      <td>24</td>\n",
       "      <td>633</td>\n",
       "      <td>371</td>\n",
       "      <td>5524</td>\n",
       "      <td>2491</td>\n",
       "      <td>225</td>\n",
       "    </tr>\n",
       "  </tbody>\n",
       "</table>\n",
       "</div>"
      ],
      "text/plain": [
       "   Assault  Break and Enter  Homicide  Robbery  Sexual Assaults  \\\n",
       "0     5901             6530        26     1601              601   \n",
       "1     5540             5384        23     1186              747   \n",
       "2     5229             4039        43     1050              802   \n",
       "3     5493             4289        27     1024              835   \n",
       "4     5333             4249        29      970              790   \n",
       "5     5495             4480        27     1014              790   \n",
       "6     5959             6109        31     1238              855   \n",
       "7     2964             2976        24      633              371   \n",
       "\n",
       "   Theft From Vehicle  Theft Of Vehicle  Theft Over $5000  \n",
       "0               10794              5831               337  \n",
       "1                8480              4279               283  \n",
       "2                6458              3596               274  \n",
       "3                6314              3112               300  \n",
       "4                7275              3819               312  \n",
       "5                7988              3869               351  \n",
       "6                9057              4519               457  \n",
       "7                5524              2491               225  "
      ]
     },
     "execution_count": 3,
     "metadata": {},
     "output_type": "execute_result"
    }
   ],
   "source": [
    "pf = pd.read_csv('../data/CrimeDataForHeatmap.csv')\n",
    "pf"
   ]
  },
  {
   "cell_type": "code",
   "execution_count": 4,
   "metadata": {
    "collapsed": false
   },
   "outputs": [
    {
     "data": {
      "text/html": [
       "<div>\n",
       "<table border=\"1\" class=\"dataframe\">\n",
       "  <thead>\n",
       "    <tr style=\"text-align: right;\">\n",
       "      <th></th>\n",
       "      <th>Assault</th>\n",
       "      <th>Break and Enter</th>\n",
       "      <th>Homicide</th>\n",
       "      <th>Robbery</th>\n",
       "      <th>Sexual Assaults</th>\n",
       "      <th>Theft From Vehicle</th>\n",
       "      <th>Theft Of Vehicle</th>\n",
       "      <th>Theft Over $5000</th>\n",
       "    </tr>\n",
       "  </thead>\n",
       "  <tbody>\n",
       "    <tr>\n",
       "      <th>Assault</th>\n",
       "      <td>1.000000</td>\n",
       "      <td>0.787646</td>\n",
       "      <td>0.187151</td>\n",
       "      <td>0.800643</td>\n",
       "      <td>0.806071</td>\n",
       "      <td>0.692596</td>\n",
       "      <td>0.726540</td>\n",
       "      <td>0.693485</td>\n",
       "    </tr>\n",
       "    <tr>\n",
       "      <th>Break and Enter</th>\n",
       "      <td>0.787646</td>\n",
       "      <td>1.000000</td>\n",
       "      <td>-0.116871</td>\n",
       "      <td>0.942857</td>\n",
       "      <td>0.332262</td>\n",
       "      <td>0.952749</td>\n",
       "      <td>0.935635</td>\n",
       "      <td>0.709746</td>\n",
       "    </tr>\n",
       "    <tr>\n",
       "      <th>Homicide</th>\n",
       "      <td>0.187151</td>\n",
       "      <td>-0.116871</td>\n",
       "      <td>1.000000</td>\n",
       "      <td>0.016122</td>\n",
       "      <td>0.418623</td>\n",
       "      <td>-0.205469</td>\n",
       "      <td>-0.052899</td>\n",
       "      <td>0.082278</td>\n",
       "    </tr>\n",
       "    <tr>\n",
       "      <th>Robbery</th>\n",
       "      <td>0.800643</td>\n",
       "      <td>0.942857</td>\n",
       "      <td>0.016122</td>\n",
       "      <td>1.000000</td>\n",
       "      <td>0.309953</td>\n",
       "      <td>0.919678</td>\n",
       "      <td>0.958702</td>\n",
       "      <td>0.535593</td>\n",
       "    </tr>\n",
       "    <tr>\n",
       "      <th>Sexual Assaults</th>\n",
       "      <td>0.806071</td>\n",
       "      <td>0.332262</td>\n",
       "      <td>0.418623</td>\n",
       "      <td>0.309953</td>\n",
       "      <td>1.000000</td>\n",
       "      <td>0.166448</td>\n",
       "      <td>0.204104</td>\n",
       "      <td>0.567530</td>\n",
       "    </tr>\n",
       "    <tr>\n",
       "      <th>Theft From Vehicle</th>\n",
       "      <td>0.692596</td>\n",
       "      <td>0.952749</td>\n",
       "      <td>-0.205469</td>\n",
       "      <td>0.919678</td>\n",
       "      <td>0.166448</td>\n",
       "      <td>1.000000</td>\n",
       "      <td>0.977509</td>\n",
       "      <td>0.626284</td>\n",
       "    </tr>\n",
       "    <tr>\n",
       "      <th>Theft Of Vehicle</th>\n",
       "      <td>0.726540</td>\n",
       "      <td>0.935635</td>\n",
       "      <td>-0.052899</td>\n",
       "      <td>0.958702</td>\n",
       "      <td>0.204104</td>\n",
       "      <td>0.977509</td>\n",
       "      <td>1.000000</td>\n",
       "      <td>0.559588</td>\n",
       "    </tr>\n",
       "    <tr>\n",
       "      <th>Theft Over $5000</th>\n",
       "      <td>0.693485</td>\n",
       "      <td>0.709746</td>\n",
       "      <td>0.082278</td>\n",
       "      <td>0.535593</td>\n",
       "      <td>0.567530</td>\n",
       "      <td>0.626284</td>\n",
       "      <td>0.559588</td>\n",
       "      <td>1.000000</td>\n",
       "    </tr>\n",
       "  </tbody>\n",
       "</table>\n",
       "</div>"
      ],
      "text/plain": [
       "                     Assault  Break and Enter  Homicide   Robbery  \\\n",
       "Assault             1.000000         0.787646  0.187151  0.800643   \n",
       "Break and Enter     0.787646         1.000000 -0.116871  0.942857   \n",
       "Homicide            0.187151        -0.116871  1.000000  0.016122   \n",
       "Robbery             0.800643         0.942857  0.016122  1.000000   \n",
       "Sexual Assaults     0.806071         0.332262  0.418623  0.309953   \n",
       "Theft From Vehicle  0.692596         0.952749 -0.205469  0.919678   \n",
       "Theft Of Vehicle    0.726540         0.935635 -0.052899  0.958702   \n",
       "Theft Over $5000    0.693485         0.709746  0.082278  0.535593   \n",
       "\n",
       "                    Sexual Assaults  Theft From Vehicle  Theft Of Vehicle  \\\n",
       "Assault                    0.806071            0.692596          0.726540   \n",
       "Break and Enter            0.332262            0.952749          0.935635   \n",
       "Homicide                   0.418623           -0.205469         -0.052899   \n",
       "Robbery                    0.309953            0.919678          0.958702   \n",
       "Sexual Assaults            1.000000            0.166448          0.204104   \n",
       "Theft From Vehicle         0.166448            1.000000          0.977509   \n",
       "Theft Of Vehicle           0.204104            0.977509          1.000000   \n",
       "Theft Over $5000           0.567530            0.626284          0.559588   \n",
       "\n",
       "                    Theft Over $5000  \n",
       "Assault                     0.693485  \n",
       "Break and Enter             0.709746  \n",
       "Homicide                    0.082278  \n",
       "Robbery                     0.535593  \n",
       "Sexual Assaults             0.567530  \n",
       "Theft From Vehicle          0.626284  \n",
       "Theft Of Vehicle            0.559588  \n",
       "Theft Over $5000            1.000000  "
      ]
     },
     "execution_count": 4,
     "metadata": {},
     "output_type": "execute_result"
    }
   ],
   "source": [
    "cm = pf.corr()\n",
    "cm"
   ]
  },
  {
   "cell_type": "code",
   "execution_count": 24,
   "metadata": {
    "collapsed": false
   },
   "outputs": [],
   "source": [
    "# Generate a mask for the upper triangle\n",
    "mask = np.zeros_like(cm, dtype=np.bool)\n",
    "mask[np.triu_indices_from(mask)] = True"
   ]
  },
  {
   "cell_type": "code",
   "execution_count": 25,
   "metadata": {
    "collapsed": false
   },
   "outputs": [
    {
     "data": {
      "text/plain": [
       "array([[ True,  True,  True,  True,  True,  True,  True,  True],\n",
       "       [False,  True,  True,  True,  True,  True,  True,  True],\n",
       "       [False, False,  True,  True,  True,  True,  True,  True],\n",
       "       [False, False, False,  True,  True,  True,  True,  True],\n",
       "       [False, False, False, False,  True,  True,  True,  True],\n",
       "       [False, False, False, False, False,  True,  True,  True],\n",
       "       [False, False, False, False, False, False,  True,  True],\n",
       "       [False, False, False, False, False, False, False,  True]], dtype=bool)"
      ]
     },
     "execution_count": 25,
     "metadata": {},
     "output_type": "execute_result"
    }
   ],
   "source": [
    "mask"
   ]
  },
  {
   "cell_type": "code",
   "execution_count": 26,
   "metadata": {
    "collapsed": false
   },
   "outputs": [
    {
     "data": {
      "text/plain": [
       "<matplotlib.axes._subplots.AxesSubplot at 0x11b6cbb00>"
      ]
     },
     "execution_count": 26,
     "metadata": {},
     "output_type": "execute_result"
    },
    {
     "data": {
      "image/png": "[encoded data removed]",
      "text/plain": [
       "<matplotlib.figure.Figure at 0x11b6c51d0>"
      ]
     },
     "metadata": {},
     "output_type": "display_data"
    }
   ],
   "source": [
    "sns.heatmap(cm, annot=True,mask = mask)"
   ]
  },
  {
   "cell_type": "code",
   "execution_count": null,
   "metadata": {
    "collapsed": true
   },
   "outputs": [],
   "source": []
  }
 ],
 "metadata": {
  "anaconda-cloud": {},
  "kernelspec": {
   "display_name": "Python [conda root]",
   "language": "python",
   "name": "conda-root-py"
  },
  "language_info": {
   "codemirror_mode": {
    "name": "ipython",
    "version": 3
   },
   "file_extension": ".py",
   "mimetype": "text/x-python",
   "name": "python",
   "nbconvert_exporter": "python",
   "pygments_lexer": "ipython3",
   "version": "3.5.2"
  }
 },
 "nbformat": 4,
 "nbformat_minor": 0
}
